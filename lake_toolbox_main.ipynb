{
 "cells": [
  {
   "cell_type": "code",
   "execution_count": 30,
   "id": "dd083235-8a93-424c-af1f-d5bf706cfbbb",
   "metadata": {},
   "outputs": [],
   "source": [
    "library(dplyr)\n",
    "library(parallel)\n",
    "library(stringr)\n",
    "\n",
    "hubname='CU'\n",
    "rivername='WM'\n",
    "lakename='PP'\n",
    "continent='na'\n",
    "PT_key_file= 'SWOTCalVal_WM_KEY_20230326_20230510.csv' #WM\n",
    "utm_zone=10 #WM= 10\n",
    "\n",
    "setwd(paste0('/nas/cee-water/cjgleason/calval/Processed data/',hubname,'/'))\n",
    "GNSS_drift_data_directory=paste0('From Andy/',hubname,'_netCDFs/')\n",
    "QA_QC_drift_output_directory= '/nas/cee-water/cjgleason/calval/Processed data/CU/Munged_lake_PT/'\n",
    "flagged_drift_output_directory=QA_QC_drift_output_directory"
   ]
  },
  {
   "cell_type": "code",
   "execution_count": 35,
   "id": "e61dd653-621f-49f1-8edb-cd55e4e832af",
   "metadata": {},
   "outputs": [],
   "source": [
    "#create dataframes from drifts---------------------------------------------------------\n",
    "#pull filename before the .csv\n",
    "source('/nas/cee-water/cjgleason/calval_toolbox/R code/create_lake_GNSS_dataframe.R')\n",
    "raw_GNSS=sub( \"\\\\..*\",\"\", list.files(GNSS_drift_data_directory,recursive=TRUE))\n",
    "raw_GNSS_lake=which(!is.na(do.call(rbind,lapply(raw_GNSS,str_match,lakename))))\n",
    "raw_GNSS=raw_GNSS[raw_GNSS_lake]\n",
    "\n",
    "#pull filename before the second _\n",
    "QA_QC_drifts=sub( \"\\\\..*\",\"\",list.files(QA_QC_drift_output_directory))\n",
    "flagged_drifts=sub(\"\\\\..*\",\"\",list.files(flagged_drift_output_directory))\n",
    "#what raw drift data have not been munged\n",
    "unmunged_drifts=setdiff(raw_GNSS,c(flagged_drifts,QA_QC_drifts))\n",
    "\n",
    "# create_lake_gnss_dataframe(unmunged_drifts[1],\n",
    "#                   gnss_drift_data_directory=GNSS_drift_data_directory,\n",
    "#                   output_directory=QA_QC_drift_output_directory)\n",
    "\n",
    "\n",
    "cl=makeCluster(44)\n",
    "\n",
    "  dummy=parLapply(cl=cl,unmunged_drifts,create_gnss_dataframe,\n",
    "                  gnss_drift_data_directory=GNSS_drift_data_directory,\n",
    "                  output_directory=QA_QC_drift_output_directory)\n",
    "stopCluster(cl)\n",
    "\n"
   ]
  }
 ],
 "metadata": {
  "kernelspec": {
   "display_name": "R [conda env:.conda-supposedlybetter]",
   "language": "R",
   "name": "conda-env-.conda-supposedlybetter-r"
  },
  "language_info": {
   "codemirror_mode": "r",
   "file_extension": ".r",
   "mimetype": "text/x-r-source",
   "name": "R",
   "pygments_lexer": "r",
   "version": "4.2.3"
  }
 },
 "nbformat": 4,
 "nbformat_minor": 5
}
