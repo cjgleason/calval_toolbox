{
 "cells": [
  {
   "cell_type": "code",
   "execution_count": 1,
   "id": "dd083235-8a93-424c-af1f-d5bf706cfbbb",
   "metadata": {},
   "outputs": [
    {
     "name": "stderr",
     "output_type": "stream",
     "text": [
      "\n",
      "Attaching package: ‘dplyr’\n",
      "\n",
      "\n",
      "The following objects are masked from ‘package:stats’:\n",
      "\n",
      "    filter, lag\n",
      "\n",
      "\n",
      "The following objects are masked from ‘package:base’:\n",
      "\n",
      "    intersect, setdiff, setequal, union\n",
      "\n",
      "\n"
     ]
    }
   ],
   "source": [
    "library(dplyr)\n",
    "library(parallel)\n",
    "library(stringr)\n",
    "\n",
    "# hubname='CU'\n",
    "# continent='na'\n",
    "# lakename='PP'\n",
    "# PT_key_file='SWOTCalVal_PP_KEY_20230515_20230627.csv'\n",
    "# utm_zone=14 #WM= 10\n",
    "\n",
    "# hubname='CU'\n",
    "# continent='na'\n",
    "# lakename='PW'\n",
    "# PT_key_file= c('SWOTCalVal_PW_KEY_20230314_20230430.csv','SWOTCalVal_PW_KEY_20230424_20230719.csv') #WM\n",
    "# #PT_key_file= c('SWOTCalVal_PW_KEY_20230424_20230719_TR.csv') #WM\n",
    "# utm_zone=10 #WM= 10\n",
    "\n",
    "# hubname='UNC'\n",
    "# continent='na'\n",
    "# lakename='SL'\n",
    "# PT_key_file= 'SWOTCalVal_SL_KEY_20230710_20231018.csv' #WM\n",
    "# utm_zone=11 #WM= 10\n",
    "\n",
    "hubname='UNC'\n",
    "continent='na'\n",
    "lakename='YF'\n",
    "PT_key_file=c('SWOTCalVal_YF_KEY_20230521_20230923.csv',\n",
    "              'SWOTCalVal_YF_KEY_20230603_20230722.csv') #WM\n",
    "utm_zone=6 #WM= 10\n",
    "\n",
    "setwd(paste0('/nas/cee-water/cjgleason/calval/Processed data/',hubname,'/'))\n",
    "# raw_GNSS_drift_data_directory=paste0('From Andy/',hubname,'_netCDFs/')\n",
    "# QA_QC_drift_output_directory= paste0('/nas/cee-water/cjgleason/calval/Processed data/',hubname,'/Munged_lake_gnss/')\n",
    "# QA_QC_PT_output_directory= paste0('/nas/cee-water/cjgleason/calval/Processed data/',hubname,'/Munged_lake_PT/')\n",
    "# flagged_drift_output_directory=paste0('/nas/cee-water/cjgleason/calval/Processed data/',hubname,'/flagged_lake_drifts/')\n",
    "# flagged_PT_output_directory=paste0('/nas/cee-water/cjgleason/calval/Processed data/',hubname,'/flagged_lake_PT/')\n",
    "# raw_PT_data_directory= paste0('/nas/cee-water/cjgleason/calval/xml_scripts/',hubname,'/Munged/')\n",
    "\n",
    "raw_GNSS_drift_data_directory=paste0('From Andy/',hubname,'_netCDFs/')\n",
    "QA_QC_drift_output_directory= paste0('/nas/cee-water/cjgleason/calval/Processed data/',hubname,'/Munged_lake_gnss_TR/')\n",
    "QA_QC_PT_output_directory= paste0('/nas/cee-water/cjgleason/calval/Processed data/',hubname,'/Munged_lake_PT_TR/')\n",
    "flagged_drift_output_directory=paste0('/nas/cee-water/cjgleason/calval/Processed data/',hubname,'/flagged_lake_gnss_TR/')\n",
    "flagged_PT_output_directory=paste0('/nas/cee-water/cjgleason/calval/Processed data/',hubname,'/flagged_lake_PT_TR/')\n",
    "raw_PT_data_directory= paste0('/nas/cee-water/cjgleason/calval/xml_scripts/',hubname,'/Munged/')\n",
    "\n",
    "\n",
    "read_keys=function(keyfile){\n",
    "    \n",
    "    # Read in key file and check column names and NODE ID for precision lost with scientific notation #\n",
    "  this_key= read.csv(keyfile,stringsAsFactors=FALSE, na.strings = c(\"\",\"NA\",\"na\",\"NaN\", \" \"))%>%\n",
    "    mutate(keyid=keyfile)%>%\n",
    "    mutate(pt_serial=as.integer(PT_Serial))\n",
    "    \n",
    "    }\n",
    "    \n",
    "### Key file get and check ###    \n",
    "master_key= do.call(rbind,lapply(PT_key_file,read_keys))"
   ]
  },
  {
   "cell_type": "code",
   "execution_count": null,
   "id": "08603161-cf20-4821-923e-9f36e468fd55",
   "metadata": {},
   "outputs": [],
   "source": []
  },
  {
   "cell_type": "code",
   "execution_count": 2,
   "id": "657fb544-7b23-4786-89b3-1d06a46f002f",
   "metadata": {},
   "outputs": [
    {
     "data": {
      "text/html": [
       "27"
      ],
      "text/latex": [
       "27"
      ],
      "text/markdown": [
       "27"
      ],
      "text/plain": [
       "[1] 27"
      ]
     },
     "metadata": {},
     "output_type": "display_data"
    },
    {
     "data": {
      "text/html": [
       "27"
      ],
      "text/latex": [
       "27"
      ],
      "text/markdown": [
       "27"
      ],
      "text/plain": [
       "[1] 27"
      ]
     },
     "metadata": {},
     "output_type": "display_data"
    }
   ],
   "source": [
    "# ncol(read.csv('SWOTCalVal_PW_KEY_20230424_20230719_nodate.csv'))\n",
    "# ncol(read.csv('SWOTCalVal_PW_KEY_20230314_20230430.csv'))"
   ]
  },
  {
   "cell_type": "code",
   "execution_count": 5,
   "id": "e61dd653-621f-49f1-8edb-cd55e4e832af",
   "metadata": {},
   "outputs": [
    {
     "name": "stdout",
     "output_type": "stream",
     "text": [
      "[1] \"/nas/cee-water/cjgleason/calval/Processed data/UNC/Munged_lake_gnss_TR/SWOTCalVal_YF_GNSS_L2_Rec12_20230721T203305_20230721T215100_20230808T030555.csv\"\n",
      "[1] \"/nas/cee-water/cjgleason/calval/Processed data/UNC/Munged_lake_gnss_TR/SWOTCalVal_YF_GNSS_L2_Rec12_20230721T223040_20230721T233720_20230808T033603.csv\"\n",
      "[1] \"/nas/cee-water/cjgleason/calval/Processed data/UNC/Munged_lake_gnss_TR/SWOTCalVal_YF_GNSS_L2_Rec12_20230722T001958_20230722T014622_20230808T035556.csv\"\n",
      "[1] \"/nas/cee-water/cjgleason/calval/Processed data/UNC/Munged_lake_gnss_TR/SWOTCalVal_YF_GNSS_L2_Rec12_20230722T022631_20230722T032631_20230808T041930.csv\"\n",
      "[1] \"/nas/cee-water/cjgleason/calval/Processed data/UNC/Munged_lake_gnss_TR/SWOTCalVal_YF_GNSS_L2_Rec12_20230722T160900_20230722T171123_20230808T044039.csv\"\n",
      "[1] \"/nas/cee-water/cjgleason/calval/Processed data/UNC/Munged_lake_gnss_TR/SWOTCalVal_YF_GNSS_L2_Rec12_20230722T174800_20230722T190205_20230808T050159.csv\"\n",
      "[1] \"/nas/cee-water/cjgleason/calval/Processed data/UNC/Munged_lake_gnss_TR/SWOTCalVal_YF_GNSS_L2_Rec12_20230722T194347_20230722T211129_20230808T052214.csv\"\n",
      "[1] \"/nas/cee-water/cjgleason/calval/Processed data/UNC/Munged_lake_gnss_TR/SWOTCalVal_YF_GNSS_L2_Rec12_20230825T190431_20230825T202423_20231102T121050.csv\"\n",
      "[1] \"/nas/cee-water/cjgleason/calval/Processed data/UNC/Munged_lake_gnss_TR/SWOTCalVal_YF_GNSS_L2_Rec12_20230825T204746_20230825T215004_20231102T115249.csv\"\n",
      "[1] \"/nas/cee-water/cjgleason/calval/Processed data/UNC/Munged_lake_gnss_TR/SWOTCalVal_YF_GNSS_L2_Rec12_20230825T234947_20230826T011141_20231102T113321.csv\"\n",
      "[1] \"/nas/cee-water/cjgleason/calval/Processed data/UNC/Munged_lake_gnss_TR/SWOTCalVal_YF_GNSS_L2_Rec12_20230826T014320_20230826T024446_20231116T102639.csv\"\n",
      "[1] \"/nas/cee-water/cjgleason/calval/Processed data/UNC/Munged_lake_gnss_TR/SWOTCalVal_YF_GNSS_L2_Rec12_20230826T030943_20230826T042120_20231102T104619.csv\"\n",
      "[1] \"/nas/cee-water/cjgleason/calval/Processed data/UNC/Munged_lake_gnss_TR/SWOTCalVal_YF_GNSS_L2_Rec12_20230826T194220_20230826T204432_20231102T101512.csv\"\n",
      "[1] \"/nas/cee-water/cjgleason/calval/Processed data/UNC/Munged_lake_gnss_TR/SWOTCalVal_YF_GNSS_L2_Rec13_20230825T184310_20230825T194310_20231103T090009.csv\"\n",
      "[1] \"/nas/cee-water/cjgleason/calval/Processed data/UNC/Munged_lake_gnss_TR/SWOTCalVal_YF_GNSS_L2_Rec13_20230825T200823_20230825T211144_20231102T120233.csv\"\n",
      "[1] \"/nas/cee-water/cjgleason/calval/Processed data/UNC/Munged_lake_gnss_TR/SWOTCalVal_YF_GNSS_L2_Rec13_20230825T213251_20230825T224755_20231102T114339.csv\"\n",
      "[1] \"/nas/cee-water/cjgleason/calval/Processed data/UNC/Munged_lake_gnss_TR/SWOTCalVal_YF_GNSS_L2_Rec13_20230826T005321_20230826T020421_20231102T112233.csv\"\n",
      "[1] \"/nas/cee-water/cjgleason/calval/Processed data/UNC/Munged_lake_gnss_TR/SWOTCalVal_YF_GNSS_L2_Rec13_20230826T022606_20230826T032908_20231102T110255.csv\"\n",
      "[1] \"/nas/cee-water/cjgleason/calval/Processed data/UNC/Munged_lake_gnss_TR/SWOTCalVal_YF_GNSS_L2_Rec13_20230826T040649_20230826T050650_20231102T103802.csv\"\n",
      "[1] \"/nas/cee-water/cjgleason/calval/Processed data/UNC/Munged_lake_gnss_TR/SWOTCalVal_YF_GNSS_L2_Rec13_20230826T190655_20230826T200655_20231116T101252.csv\"\n",
      "[1] \"/nas/cee-water/cjgleason/calval/Processed data/UNC/Munged_lake_gnss_TR/SWOTCalVal_YF_GNSS_L2_Rec13_20230826T202129_20230826T213352_20231102T100455.csv\"\n",
      "[1] \"/nas/cee-water/cjgleason/calval/Processed data/UNC/Munged_lake_gnss_TR/SWOTCalVal_YF_GNSS_L2_Rec5_20230603T172012_20230603T182555_20231104T093230.csv\"\n",
      "[1] \"/nas/cee-water/cjgleason/calval/Processed data/UNC/Munged_lake_gnss_TR/SWOTCalVal_YF_GNSS_L2_Rec5_20230603T184910_20230603T195351_20231104T091015.csv\"\n",
      "[1] \"/nas/cee-water/cjgleason/calval/Processed data/UNC/Munged_lake_gnss_TR/SWOTCalVal_YF_GNSS_L2_Rec5_20230603T201805_20230603T211856_20231103T123116.csv\"\n",
      "[1] \"/nas/cee-water/cjgleason/calval/Processed data/UNC/Munged_lake_gnss_TR/SWOTCalVal_YF_GNSS_L2_Rec5_20230603T214024_20230603T225318_20231103T120531.csv\"\n",
      "[1] \"/nas/cee-water/cjgleason/calval/Processed data/UNC/Munged_lake_gnss_TR/SWOTCalVal_YF_GNSS_L2_Rec5_20230603T232843_20230604T002843_20231103T114436.csv\"\n",
      "[1] \"/nas/cee-water/cjgleason/calval/Processed data/UNC/Munged_lake_gnss_TR/SWOTCalVal_YF_GNSS_L2_Rec5_20230604T005354_20230604T015406_20231103T112616.csv\"\n",
      "[1] \"/nas/cee-water/cjgleason/calval/Processed data/UNC/Munged_lake_gnss_TR/SWOTCalVal_YF_GNSS_L2_Rec5_20230604T021811_20230604T031812_20231103T110351.csv\"\n",
      "[1] \"/nas/cee-water/cjgleason/calval/Processed data/UNC/Munged_lake_gnss_TR/SWOTCalVal_YF_GNSS_L2_Rec5_20230604T174210_20230604T190215_20231103T103935.csv\"\n",
      "[1] \"/nas/cee-water/cjgleason/calval/Processed data/UNC/Munged_lake_gnss_TR/SWOTCalVal_YF_GNSS_L2_Rec5_20230604T192736_20230604T203854_20231103T101759.csv\"\n",
      "[1] \"/nas/cee-water/cjgleason/calval/Processed data/UNC/Munged_lake_gnss_TR/SWOTCalVal_YF_GNSS_L2_Rec5_20230604T210814_20230604T220930_20231103T095614.csv\"\n",
      "[1] \"/nas/cee-water/cjgleason/calval/Processed data/UNC/Munged_lake_gnss_TR/SWOTCalVal_YF_GNSS_L2_Rec5_20230607T023007_20230607T093636_20230711T081758.csv\"\n",
      "[1] \"/nas/cee-water/cjgleason/calval/Processed data/UNC/Munged_lake_gnss_TR/SWOTCalVal_YF_GNSS_L2_Rec5_20230608T224330_20230609T054735_20230711T094815.csv\"\n",
      "[1] \"/nas/cee-water/cjgleason/calval/Processed data/UNC/Munged_lake_gnss_TR/SWOTCalVal_YF_GNSS_L2_Rec5_20230613T221949_20230613T232045_20231103T092742.csv\"\n",
      "[1] \"/nas/cee-water/cjgleason/calval/Processed data/UNC/Munged_lake_gnss_TR/SWOTCalVal_YF_GNSS_L2_Rec5_20230613T234323_20230614T004330_20231103T091710.csv\"\n",
      "[1] \"/nas/cee-water/cjgleason/calval/Processed data/UNC/Munged_lake_gnss_TR/SWOTCalVal_YF_GNSS_L2_Rec5_20230721T195510_20230721T205753_20230808T061410.csv\"\n",
      "[1] \"/nas/cee-water/cjgleason/calval/Processed data/UNC/Munged_lake_gnss_TR/SWOTCalVal_YF_GNSS_L2_Rec5_20230721T213800_20230721T224244_20230808T063346.csv\"\n",
      "[1] \"/nas/cee-water/cjgleason/calval/Processed data/UNC/Munged_lake_gnss_TR/SWOTCalVal_YF_GNSS_L2_Rec5_20230721T231748_20230722T003321_20230808T065909.csv\"\n",
      "[1] \"/nas/cee-water/cjgleason/calval/Processed data/UNC/Munged_lake_gnss_TR/SWOTCalVal_YF_GNSS_L2_Rec5_20230722T013142_20230722T024100_20230808T071554.csv\"\n",
      "[1] \"/nas/cee-water/cjgleason/calval/Processed data/UNC/Munged_lake_gnss_TR/SWOTCalVal_YF_GNSS_L2_Rec5_20230722T164440_20230722T180120_20230808T073943.csv\"\n",
      "[1] \"/nas/cee-water/cjgleason/calval/Processed data/UNC/Munged_lake_gnss_TR/SWOTCalVal_YF_GNSS_L2_Rec5_20230722T205920_20230722T215920_20230808T075852.csv\"\n"
     ]
    }
   ],
   "source": [
    "#create dataframes from drifts---------------------------------------------------------\n",
    "#pull filename before the .csv\n",
    "source('/nas/cee-water/cjgleason/calval_toolbox/R code/create_lake_GNSS_dataframe.R')\n",
    "raw_GNSS=sub( \"\\\\..*\",\"\", list.files(raw_GNSS_drift_data_directory,recursive=TRUE))\n",
    "raw_GNSS_lake=which(!is.na(do.call(rbind,lapply(raw_GNSS,str_match,lakename))))\n",
    "raw_GNSS=raw_GNSS[raw_GNSS_lake]\n",
    "\n",
    " parse_gnss=function(gnss_file){\n",
    "    splitter= strsplit(gnss_file,'_')\n",
    "    first_two_dates=paste(splitter[[1]][6],splitter[[1]][7],sep=\"_\")\n",
    "    \n",
    "    #the standard date format has an 'nT' character in the middle of thedates\n",
    "    third_date=as.POSIXct(paste0(substring(splitter[[1]][8],1,8),\n",
    "                                 substring(splitter[[1]][8],10,15) ),\n",
    "                          format='%Y%m%d%H%M%S')\n",
    "    # tp=splitter[[1]][[12]]\n",
    "    return(data.frame(cbind(keystring=paste(first_two_dates),third_date)))\n",
    "  }\n",
    "  \n",
    "  \n",
    "  \n",
    "  gnss_index=do.call(rbind,lapply(raw_GNSS,parse_gnss))%>%\n",
    "    #this is implicit, so when we filter things we'll mess up the order. \n",
    "    #add an index favlue\n",
    "    mutate(gnss_file_index=1:nrow(.))%>%\n",
    "    group_by(keystring)%>%\n",
    "    filter(third_date==max(third_date))\n",
    "  \n",
    " \n",
    "  #remove old files\n",
    "  raw_GNSS=raw_GNSS[gnss_index$gnss_file_index]\n",
    "\n",
    "\n",
    "#pull filename before the second _\n",
    "QA_QC_drifts=sub( \"\\\\..*\",\"\",list.files(QA_QC_drift_output_directory))\n",
    "flagged_drifts=sub(\"\\\\..*\",\"\",list.files(flagged_drift_output_directory))\n",
    "#what raw drift data have not been munged\n",
    "unmunged_drifts=setdiff(raw_GNSS,c(flagged_drifts,QA_QC_drifts))\n",
    "# # print(raw_GNSS)\n",
    "# print(unmunged_drifts)\n",
    "# bonk\n",
    "\n",
    "for (i in 1:length(unmunged_drifts)){\n",
    "create_lake_gnss_dataframe(unmunged_drifts[i],\n",
    "                  gnss_drift_data_directory=raw_GNSS_drift_data_directory,\n",
    "                  output_directory=QA_QC_drift_output_directory)}\n",
    "\n",
    "# cl=makeCluster(44)\n",
    "\n",
    "#   dummy=parLapply(cl=cl,unmunged_drifts,create_lake_gnss_dataframe,\n",
    "#                   gnss_drift_data_directory=raw_GNSS_drift_data_directory,\n",
    "#                   output_directory=QA_QC_drift_output_directory)\n",
    "# stopCluster(cl)\n",
    "\n"
   ]
  },
  {
   "cell_type": "code",
   "execution_count": 2,
   "id": "c6b72c26-d7e9-4305-bb3c-09c5cbf24d25",
   "metadata": {},
   "outputs": [
    {
     "name": "stderr",
     "output_type": "stream",
     "text": [
      "\n",
      "Attaching package: ‘lubridate’\n",
      "\n",
      "\n",
      "The following objects are masked from ‘package:base’:\n",
      "\n",
      "    date, intersect, setdiff, union\n",
      "\n",
      "\n"
     ]
    },
    {
     "name": "stdout",
     "output_type": "stream",
     "text": [
      "[1] \"/nas/cee-water/cjgleason/calval/xml_scripts/UNC/Munged/Munged__20231106/SWOTCalVal_YF_PT_L1_PT225_20230524T150000_20230828T211500_20231106T145020.csv\"\n",
      "[1] 2153226\n",
      "[1] \"Date is good\"\n",
      "[1] \"Date is in correct format\"\n"
     ]
    },
    {
     "name": "stderr",
     "output_type": "stream",
     "text": [
      "\u001b[1m\u001b[22m`summarise()` has grouped output by 'occupy_id'. You can override using the\n",
      "`.groups` argument.\n"
     ]
    },
    {
     "name": "stdout",
     "output_type": "stream",
     "text": [
      "[1] \"SWOTCalVal_YF_PT_L1_PT225_20230524T150000_20230828T211500_20231106T145020_SWOTCalVal_YF_KEY_20230521_20230923.csv\"\n",
      "[1] \"this file passed all checks\"\n",
      "[1] \"/nas/cee-water/cjgleason/calval/xml_scripts/UNC/Munged/Munged__20231106/SWOTCalVal_YF_PT_L1_PT226_20230524T150000_20230828T210000_20231106T145020.csv\"\n",
      "[1] 2153241\n",
      "[1] \"Date is good\"\n",
      "[1] \"Date is in correct format\"\n"
     ]
    },
    {
     "name": "stderr",
     "output_type": "stream",
     "text": [
      "\u001b[1m\u001b[22m`summarise()` has grouped output by 'occupy_id'. You can override using the\n",
      "`.groups` argument.\n"
     ]
    },
    {
     "name": "stdout",
     "output_type": "stream",
     "text": [
      "[1] \"SWOTCalVal_YF_PT_L1_PT226_20230524T150000_20230828T210000_20231106T145020_SWOTCalVal_YF_KEY_20230521_20230923.csv\"\n",
      "[1] \"this file passed all checks\"\n",
      "[1] \"/nas/cee-water/cjgleason/calval/xml_scripts/UNC/Munged/Munged__20231106/SWOTCalVal_YF_PT_L1_PT228_20230524T150000_20230828T210000_20231106T145020.csv\"\n",
      "[1] 2153705\n",
      "[1] \"Date is good\"\n",
      "[1] \"Date is in correct format\"\n"
     ]
    },
    {
     "name": "stderr",
     "output_type": "stream",
     "text": [
      "\u001b[1m\u001b[22m`summarise()` has grouped output by 'occupy_id'. You can override using the\n",
      "`.groups` argument.\n"
     ]
    },
    {
     "name": "stdout",
     "output_type": "stream",
     "text": [
      "[1] \"SWOTCalVal_YF_PT_L1_PT228_20230524T150000_20230828T210000_20231106T145020_SWOTCalVal_YF_KEY_20230521_20230923.csv\"\n",
      "[1] \"this file passed all checks\"\n",
      "[1] \"/nas/cee-water/cjgleason/calval/xml_scripts/UNC/Munged/Munged__20231106/SWOTCalVal_YF_PT_L1_PT345_20230717T110000_20230828T211500_20231106T145020.csv\"\n",
      "[1] 2158814\n",
      "[1] \"Date is good\"\n",
      "[1] \"Date is in correct format\"\n"
     ]
    },
    {
     "name": "stderr",
     "output_type": "stream",
     "text": [
      "\u001b[1m\u001b[22m`summarise()` has grouped output by 'occupy_id'. You can override using the\n",
      "`.groups` argument.\n"
     ]
    },
    {
     "name": "stdout",
     "output_type": "stream",
     "text": [
      "[1] \"SWOTCalVal_YF_PT_L1_PT345_20230717T110000_20230828T211500_20231106T145020_SWOTCalVal_YF_KEY_20230521_20230923.csv\"\n",
      "[1] \"this file passed all checks\"\n",
      "[1] \"/nas/cee-water/cjgleason/calval/xml_scripts/UNC/Munged/Munged__20231106/SWOTCalVal_YF_PT_L1_PT349_20230717T110000_20230828T211500_20231106T145020.csv\"\n",
      "[1] 2158798\n",
      "[1] \"Date is good\"\n",
      "[1] \"Date is in correct format\"\n"
     ]
    },
    {
     "name": "stderr",
     "output_type": "stream",
     "text": [
      "\u001b[1m\u001b[22m`summarise()` has grouped output by 'occupy_id'. You can override using the\n",
      "`.groups` argument.\n"
     ]
    },
    {
     "name": "stdout",
     "output_type": "stream",
     "text": [
      "[1] \"SWOTCalVal_YF_PT_L1_PT349_20230717T110000_20230828T211500_20231106T145020_SWOTCalVal_YF_KEY_20230521_20230923.csv\"\n",
      "[1] \"this file passed all checks\"\n",
      "[1] \"/nas/cee-water/cjgleason/calval/xml_scripts/UNC/Munged/Munged__20231113/SWOTCalVal_YF_PT_L1_PT147_20230721T230000_20230828T131500_20231113T192127.csv\"\n",
      "[1] 2153228\n",
      "[1] \"pt is not in the keyfile\"\n",
      "[1] \"/nas/cee-water/cjgleason/calval/xml_scripts/UNC/Munged/Munged__20231113/SWOTCalVal_YF_PT_L1_PT343_20230717T110000_20230828T213000_20231113T215214.csv\"\n",
      "[1] 2159382\n",
      "[1] \"Date is good\"\n",
      "[1] \"Date is in correct format\"\n"
     ]
    },
    {
     "name": "stderr",
     "output_type": "stream",
     "text": [
      "\u001b[1m\u001b[22m`summarise()` has grouped output by 'occupy_id'. You can override using the\n",
      "`.groups` argument.\n"
     ]
    },
    {
     "name": "stdout",
     "output_type": "stream",
     "text": [
      "[1] \"SWOTCalVal_YF_PT_L1_PT343_20230717T110000_20230828T213000_20231113T215214_SWOTCalVal_YF_KEY_20230521_20230923.csv\"\n",
      "[1] \"this file passed all checks\"\n",
      "[1] \"/nas/cee-water/cjgleason/calval/xml_scripts/UNC/Munged/Munged__20240110/SWOTCalVal_YF_PT_L1_PT200_20230524T150000_20230722T031500_20240110T171125.csv\"\n",
      "[1] 2153703\n",
      "[1] \"Date is good\"\n"
     ]
    },
    {
     "name": "stderr",
     "output_type": "stream",
     "text": [
      "\u001b[1m\u001b[22m`summarise()` has grouped output by 'occupy_id'. You can override using the\n",
      "`.groups` argument.\n"
     ]
    },
    {
     "name": "stdout",
     "output_type": "stream",
     "text": [
      "[1] \"SWOTCalVal_YF_PT_L1_PT200_20230524T150000_20230722T031500_20240110T171125_SWOTCalVal_YF_KEY_20230603_20230722.csv\"\n",
      "[1] \"this file passed all checks\"\n",
      "[1] \"/nas/cee-water/cjgleason/calval/xml_scripts/UNC/Munged/Munged__20240110/SWOTCalVal_YF_PT_L1_PT202_20230524T150000_20230722T223000_20240110T171126.csv\"\n",
      "[1] 2153698\n",
      "[1] \"Date is good\"\n"
     ]
    },
    {
     "name": "stderr",
     "output_type": "stream",
     "text": [
      "\u001b[1m\u001b[22m`summarise()` has grouped output by 'occupy_id'. You can override using the\n",
      "`.groups` argument.\n"
     ]
    },
    {
     "name": "stdout",
     "output_type": "stream",
     "text": [
      "[1] \"SWOTCalVal_YF_PT_L1_PT202_20230524T150000_20230722T223000_20240110T171126_SWOTCalVal_YF_KEY_20230603_20230722.csv\"\n",
      "[1] \"this file passed all checks\"\n",
      "[1] \"/nas/cee-water/cjgleason/calval/xml_scripts/UNC/Munged/Munged__20240110/SWOTCalVal_YF_PT_L1_PT206_20230524T150000_20230722T031500_20240110T171126.csv\"\n",
      "[1] 2153693\n",
      "[1] \"Date is good\"\n"
     ]
    },
    {
     "name": "stderr",
     "output_type": "stream",
     "text": [
      "\u001b[1m\u001b[22m`summarise()` has grouped output by 'occupy_id'. You can override using the\n",
      "`.groups` argument.\n"
     ]
    },
    {
     "name": "stdout",
     "output_type": "stream",
     "text": [
      "[1] \"SWOTCalVal_YF_PT_L1_PT206_20230524T150000_20230722T031500_20240110T171126_SWOTCalVal_YF_KEY_20230603_20230722.csv\"\n",
      "[1] \"this file passed all checks\"\n",
      "[1] \"/nas/cee-water/cjgleason/calval/xml_scripts/UNC/Munged/Munged__20240110/SWOTCalVal_YF_PT_L1_PT220_20230524T150000_20230722T223000_20240110T171126.csv\"\n",
      "[1] 2153236\n",
      "[1] \"Date is good\"\n",
      "[1] \"Date is in correct format\"\n"
     ]
    },
    {
     "name": "stderr",
     "output_type": "stream",
     "text": [
      "\u001b[1m\u001b[22m`summarise()` has grouped output by 'occupy_id'. You can override using the\n",
      "`.groups` argument.\n"
     ]
    },
    {
     "name": "stdout",
     "output_type": "stream",
     "text": [
      "[1] \"SWOTCalVal_YF_PT_L1_PT220_20230524T150000_20230722T223000_20240110T171126_SWOTCalVal_YF_KEY_20230603_20230722.csv\"\n",
      "[1] \"this file passed all checks\"\n",
      "[1] \"/nas/cee-water/cjgleason/calval/xml_scripts/UNC/Munged/Munged__20240110/SWOTCalVal_YF_PT_L1_PT221_20230524T150000_20230722T223000_20240110T171126.csv\"\n",
      "[1] 2153237\n",
      "[1] \"Date is good\"\n"
     ]
    },
    {
     "name": "stderr",
     "output_type": "stream",
     "text": [
      "\u001b[1m\u001b[22m`summarise()` has grouped output by 'occupy_id'. You can override using the\n",
      "`.groups` argument.\n"
     ]
    },
    {
     "name": "stdout",
     "output_type": "stream",
     "text": [
      "[1] \"SWOTCalVal_YF_PT_L1_PT221_20230524T150000_20230722T223000_20240110T171126_SWOTCalVal_YF_KEY_20230603_20230722.csv\"\n",
      "[1] \"this file passed all checks\"\n",
      "[1] \"/nas/cee-water/cjgleason/calval/xml_scripts/UNC/Munged/Munged__20240110/SWOTCalVal_YF_PT_L1_PT222_20230524T150000_20230722T210000_20240110T171126.csv\"\n",
      "[1] 2153227\n",
      "[1] \"Date is good\"\n"
     ]
    },
    {
     "name": "stderr",
     "output_type": "stream",
     "text": [
      "\u001b[1m\u001b[22m`summarise()` has grouped output by 'occupy_id'. You can override using the\n",
      "`.groups` argument.\n"
     ]
    },
    {
     "name": "stdout",
     "output_type": "stream",
     "text": [
      "[1] \"SWOTCalVal_YF_PT_L1_PT222_20230524T150000_20230722T210000_20240110T171126_SWOTCalVal_YF_KEY_20230603_20230722.csv\"\n",
      "[1] \"this file passed all checks\"\n",
      "[1] \"/nas/cee-water/cjgleason/calval/xml_scripts/UNC/Munged/Munged__20240110/SWOTCalVal_YF_PT_L1_PT223_20230524T150000_20230722T031500_20240110T171126.csv\"\n",
      "[1] 2153695\n",
      "[1] \"Date is good\"\n"
     ]
    },
    {
     "name": "stderr",
     "output_type": "stream",
     "text": [
      "\u001b[1m\u001b[22m`summarise()` has grouped output by 'occupy_id'. You can override using the\n",
      "`.groups` argument.\n"
     ]
    },
    {
     "name": "stdout",
     "output_type": "stream",
     "text": [
      "[1] \"SWOTCalVal_YF_PT_L1_PT223_20230524T150000_20230722T031500_20240110T171126_SWOTCalVal_YF_KEY_20230603_20230722.csv\"\n",
      "[1] \"this file passed all checks\"\n",
      "[1] \"/nas/cee-water/cjgleason/calval/xml_scripts/UNC/Munged/Munged__20240110/SWOTCalVal_YF_PT_L1_PT227_20230524T150000_20230722T031500_20240110T171126.csv\"\n",
      "[1] 2153249\n",
      "[1] \"Date is good\"\n"
     ]
    },
    {
     "name": "stderr",
     "output_type": "stream",
     "text": [
      "\u001b[1m\u001b[22m`summarise()` has grouped output by 'occupy_id'. You can override using the\n",
      "`.groups` argument.\n"
     ]
    },
    {
     "name": "stdout",
     "output_type": "stream",
     "text": [
      "[1] \"SWOTCalVal_YF_PT_L1_PT227_20230524T150000_20230722T031500_20240110T171126_SWOTCalVal_YF_KEY_20230603_20230722.csv\"\n",
      "[1] \"this file passed all checks\"\n",
      "[1] \"/nas/cee-water/cjgleason/calval/xml_scripts/UNC/Munged/Munged__20240110/SWOTCalVal_YF_PT_L1_PT230_20230524T150000_20230722T031500_20240110T171126.csv\"\n",
      "[1] 2153668\n",
      "[1] \"Date is good\"\n"
     ]
    },
    {
     "name": "stderr",
     "output_type": "stream",
     "text": [
      "\u001b[1m\u001b[22m`summarise()` has grouped output by 'occupy_id'. You can override using the\n",
      "`.groups` argument.\n"
     ]
    },
    {
     "name": "stdout",
     "output_type": "stream",
     "text": [
      "[1] \"SWOTCalVal_YF_PT_L1_PT230_20230524T150000_20230722T031500_20240110T171126_SWOTCalVal_YF_KEY_20230603_20230722.csv\"\n",
      "[1] \"this file passed all checks\"\n",
      "[1] \"/nas/cee-water/cjgleason/calval/xml_scripts/UNC/Munged/Munged__20240110/SWOTCalVal_YF_PT_L1_PT231_20230524T150000_20230722T031500_20240110T171126.csv\"\n",
      "[1] 2153230\n",
      "[1] \"Date is good\"\n",
      "[1] \"Date is in correct format\"\n"
     ]
    },
    {
     "name": "stderr",
     "output_type": "stream",
     "text": [
      "\u001b[1m\u001b[22m`summarise()` has grouped output by 'occupy_id'. You can override using the\n",
      "`.groups` argument.\n"
     ]
    },
    {
     "name": "stdout",
     "output_type": "stream",
     "text": [
      "[1] \"SWOTCalVal_YF_PT_L1_PT231_20230524T150000_20230722T031500_20240110T171126_SWOTCalVal_YF_KEY_20230603_20230722.csv\"\n",
      "[1] \"this file passed all checks\"\n",
      "[1] \"/nas/cee-water/cjgleason/calval/xml_scripts/UNC/Munged/Munged__20240110/SWOTCalVal_YF_PT_L1_PT234_20230524T150000_20230722T031500_20240110T171126.csv\"\n",
      "[1] 2093027\n",
      "[1] \"Date is good\"\n",
      "[1] \"Date is in correct format\"\n"
     ]
    },
    {
     "name": "stderr",
     "output_type": "stream",
     "text": [
      "\u001b[1m\u001b[22m`summarise()` has grouped output by 'occupy_id'. You can override using the\n",
      "`.groups` argument.\n"
     ]
    },
    {
     "name": "stdout",
     "output_type": "stream",
     "text": [
      "[1] \"SWOTCalVal_YF_PT_L1_PT234_20230524T150000_20230722T031500_20240110T171126_SWOTCalVal_YF_KEY_20230603_20230722.csv\"\n",
      "[1] \"this file passed all checks\"\n",
      "[1] \"/nas/cee-water/cjgleason/calval/xml_scripts/UNC/Munged/Munged__20240110/SWOTCalVal_YF_PT_L1_PT235_20230524T150000_20230828T213000_20240110T171125.csv\"\n",
      "[1] 2075541\n",
      "[1] \"Date is good\"\n"
     ]
    },
    {
     "name": "stderr",
     "output_type": "stream",
     "text": [
      "\u001b[1m\u001b[22m`summarise()` has grouped output by 'occupy_id'. You can override using the\n",
      "`.groups` argument.\n"
     ]
    },
    {
     "name": "stdout",
     "output_type": "stream",
     "text": [
      "[1] \"SWOTCalVal_YF_PT_L1_PT235_20230524T150000_20230828T213000_20240110T171125_SWOTCalVal_YF_KEY_20230521_20230923.csv\"\n",
      "[1] \"this file passed all checks\"\n",
      "[1] \"/nas/cee-water/cjgleason/calval/xml_scripts/UNC/Munged/Munged__20240110/SWOTCalVal_YF_PT_L1_PT242_20230524T150000_20230722T210000_20240110T171126.csv\"\n",
      "[1] 2119362\n",
      "[1] \"Date is good\"\n"
     ]
    },
    {
     "name": "stderr",
     "output_type": "stream",
     "text": [
      "\u001b[1m\u001b[22m`summarise()` has grouped output by 'occupy_id'. You can override using the\n",
      "`.groups` argument.\n"
     ]
    },
    {
     "name": "stdout",
     "output_type": "stream",
     "text": [
      "[1] \"SWOTCalVal_YF_PT_L1_PT242_20230524T150000_20230722T210000_20240110T171126_SWOTCalVal_YF_KEY_20230603_20230722.csv\"\n",
      "[1] \"this file passed all checks\"\n",
      "[1] \"/nas/cee-water/cjgleason/calval/xml_scripts/UNC/Munged/Munged__20240329/SWOTCalVal_YF_PT_L1_PT001_20230419T200000_20231012T160000_20240329T174535.csv\"\n",
      "[1] 2153089\n",
      "[1] \"Date is good\"\n",
      "[1] \"/nas/cee-water/cjgleason/calval/xml_scripts/UNC/Munged/Munged__20240401/SWOTCalVal_YF_PT_L1_PT224_20230524T150000_20230828T204500_20240401T152147.csv\"\n",
      "[1] 2153097\n",
      "[1] \"Date is good\"\n"
     ]
    },
    {
     "name": "stderr",
     "output_type": "stream",
     "text": [
      "\u001b[1m\u001b[22m`summarise()` has grouped output by 'occupy_id'. You can override using the\n",
      "`.groups` argument.\n"
     ]
    },
    {
     "name": "stdout",
     "output_type": "stream",
     "text": [
      "[1] \"SWOTCalVal_YF_PT_L1_PT224_20230524T150000_20230828T204500_20240401T152147_SWOTCalVal_YF_KEY_20230521_20230923.csv\"\n",
      "[1] \"this file passed all checks\"\n"
     ]
    }
   ],
   "source": [
    "#correct PTs to the GNSS from the key to the lake\n",
    "source('/nas/cee-water/cjgleason/calval_toolbox/R code/lake_PT.r')\n",
    "\n",
    "gnss_sd_thresh=0.15 # 15cm how much variance do you want in the GNSS data when it is within the distance threshold?\n",
    "offset_sd_thresh=0.10 #m, so 10cm. the the PT apparantly shift by more than a cm?\n",
    "change_thresh_15_min=0.05#m- does it change more than 5cm in 15 minutes? that is a discontinuity in offset\n",
    "dist_thresh=200\n",
    "time_thresh=15*60\n",
    "dry_threshold=0.10\n",
    "\n",
    "#get all the PTs in the data directory\n",
    "munged_files= list.files(raw_PT_data_directory,recursive= TRUE)\n",
    "PT_files=munged_files[grepl(paste0(\"_\", lakename, \"_PT_L1\"), munged_files)]\n",
    "# PT_index=which(!is.na(do.call(rbind,lapply(munged_files,str_match,'PT_L1'))))\n",
    "# PT_files=munged_files[PT_index]\n",
    "\n",
    "csv_index=which(!is.na(do.call(rbind,lapply(PT_files,str_match,'.csv'))))\n",
    "csv_PT_files=PT_files[csv_index]\n",
    "\n",
    "# correct_lake_index=which(!is.na(do.call(rbind,lapply(csv_PT_files,str_match,lakename))))\n",
    "# csv_PT_files=csv_PT_files[correct_lake_index]\n",
    " #there are 'bad' files within the PT xml folders that we do not want to bring in, so filter by version date.\n",
    "  # positions 8 and 9 are the start and end of the data\n",
    "  # position 10 is the repro date- we want the most recent repro\n",
    "  parse_pt=function(pt_file){\n",
    "    # sans_csv = sub('\\\\.csv$', '',pt_file)\n",
    "    splitter= strsplit(pt_file,'_')\n",
    "    first_two_dates=paste(splitter[[1]][8],splitter[[1]][9],sep=\"_\")\n",
    "    #the standard date format has an 'nT' character in the middle of thedates\n",
    "    third_date=as.POSIXct(paste0(substring(splitter[[1]][10],1,8),\n",
    "                                 substring(splitter[[1]][10],10,15) ),\n",
    "                          format='%Y%m%d%H%M%S')\n",
    "    # tp=splitter[[1]][[12]]\n",
    "    return(data.frame(cbind(keystring=paste0(splitter[[1]][7],'_',first_two_dates),third_date)))\n",
    "  }\n",
    "  \n",
    "  pt_index=do.call(rbind,lapply(csv_PT_files,parse_pt))%>%\n",
    "    #this is implicit, so when we filter things we'll mess up the order. \n",
    "    #add an index favlue\n",
    "    mutate(pt_file_index=1:nrow(.))%>%\n",
    "    group_by(keystring)%>%\n",
    "    filter(third_date==max(third_date))\n",
    "  \n",
    "  #remove old files\n",
    "  csv_PT_files=csv_PT_files[pt_index$pt_file_index]\n",
    "\n",
    "#pull filename before the .csv\n",
    "raw_PT=sub(\"\\\\..*\",\"\",csv_PT_files)\n",
    "raw_PT=sub(\".*/\",\"\",raw_PT)\n",
    "#pull filenam\\\\..*e before the second _\n",
    "QA_QC_PTs=sub(\"\\\\..*\",\"\",list.files(QA_QC_PT_output_directory))\n",
    "\n",
    "#what raw PT data have not been munged\n",
    "    #need to preserve the full path in csv_PT_files!\n",
    "unmunged_PTs=setdiff(csv_PT_files,QA_QC_PTs)\n",
    "# print(unmunged_PTs)\n",
    "\n",
    " for (i in 1:length(unmunged_PTs)){\n",
    "test=lake_PT(unmunged_PTs[i],\n",
    "             master_key=master_key,\n",
    "             dist_thresh=NULL,\n",
    "             time_thresh=time_thresh,\n",
    "             pt_data_directory=raw_PT_data_directory,\n",
    "             gnss_drift_data_directory=QA_QC_drift_output_directory,\n",
    "             QA_QC_PT_output_directory=QA_QC_PT_output_directory, \n",
    "             flagged_pt_output_directory=flagged_PT_output_directory,\n",
    "             gnss_sd_thresh=gnss_sd_thresh,\n",
    "             offset_sd_thresh=offset_sd_thresh,\n",
    "             change_thresh_15_min=change_thresh_15_min,\n",
    "             dry_threshold=dry_threshold)\n",
    " }\n",
    "\n",
    "\n",
    "    # cl=makeCluster(44,type='FORK')\n",
    "  \n",
    "#   dummy=parLapply(cl, unmunged_PTs,lake_PT,\n",
    "#              pt_key_file=PT_key_file,\n",
    "#              pt_data_directory=raw_PT_data_directory,\n",
    "#              dist_thresh=dist_thresh,\n",
    "#              time_thresh=time_thresh,\n",
    "#              gnss_drift_data_directory=QA_QC_drift_output_directory,\n",
    "#              QA_QC_pt_output_directory=QA_QC_PT_output_directory,\n",
    "#              flagged_pt_output_directory=flagged_PT_output_directory,\n",
    "#              gnss_sd_thresh=GNSS_sd_thresh,\n",
    "#              offset_sd_thresh=offset_sd_thresh,\n",
    "#              change_thresh_15_min=change_thresh_15_min)\n",
    "  \n",
    "#   stopCluster(cl)\n",
    "\n",
    "\n"
   ]
  },
  {
   "cell_type": "code",
   "execution_count": 55,
   "id": "e9a1dad8-f922-4aa0-a85e-5ac447e168b4",
   "metadata": {},
   "outputs": [
    {
     "data": {
      "text/html": [
       "2153229"
      ],
      "text/latex": [
       "2153229"
      ],
      "text/markdown": [
       "2153229"
      ],
      "text/plain": [
       "[1] 2153229"
      ]
     },
     "metadata": {},
     "output_type": "display_data"
    }
   ],
   "source": [
    "as.integer(substring(read.table(\"/nas/cee-water/cjgleason/calval/xml_scripts/CU/Munged/Munged__20240117/SWOTCalVal_PW_PT_L1_PT131_20230322T003000_20230426T234500_20240117T181415.csv\",nrow=1)$V1,1,7))\n",
    "  "
   ]
  }
 ],
 "metadata": {
  "kernelspec": {
   "display_name": "R [conda env:.conda-TaylorsToolboxes]",
   "language": "R",
   "name": "conda-env-.conda-TaylorsToolboxes-r"
  },
  "language_info": {
   "codemirror_mode": "r",
   "file_extension": ".r",
   "mimetype": "text/x-r-source",
   "name": "R",
   "pygments_lexer": "r",
   "version": "4.2.3"
  }
 },
 "nbformat": 4,
 "nbformat_minor": 5
}
