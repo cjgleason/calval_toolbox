{
 "cells": [
  {
   "cell_type": "code",
   "execution_count": 69,
   "id": "6dcbe011-64b4-4a41-b21f-fad85c7e819c",
   "metadata": {},
   "outputs": [
    {
     "name": "stderr",
     "output_type": "stream",
     "text": [
      "Warning message in left_join(PT_data, drift_data, by = \"reach_id\"):\n",
      "“\u001b[1m\u001b[22mDetected an unexpected many-to-many relationship between `x` and `y`.\n",
      "\u001b[36mℹ\u001b[39m Row 1 of `x` matches multiple rows in `y`.\n",
      "\u001b[36mℹ\u001b[39m Row 1 of `y` matches multiple rows in `x`.\n",
      "\u001b[36mℹ\u001b[39m If a many-to-many relationship is expected, set `relationship =\n",
      "  \"many-to-many\"` to silence this warning.”\n"
     ]
    },
    {
     "data": {
      "text/html": [
       "<table class=\"dataframe\">\n",
       "<caption>A data.frame: 6 × 8</caption>\n",
       "<thead>\n",
       "\t<tr><th></th><th scope=col>reach_id</th><th scope=col>pt_time_UTC</th><th scope=col>mean_reach_pt_wse_m</th><th scope=col>mean_reach_pt_wse_precision_m</th><th scope=col>drift_time_UTC</th><th scope=col>reach_wse_m</th><th scope=col>reach_wse_precision_m</th><th scope=col>time_diff</th></tr>\n",
       "\t<tr><th></th><th scope=col>&lt;dbl&gt;</th><th scope=col>&lt;dttm&gt;</th><th scope=col>&lt;dbl&gt;</th><th scope=col>&lt;dbl&gt;</th><th scope=col>&lt;dttm&gt;</th><th scope=col>&lt;dbl&gt;</th><th scope=col>&lt;dbl&gt;</th><th scope=col>&lt;drtn&gt;</th></tr>\n",
       "</thead>\n",
       "<tbody>\n",
       "\t<tr><th scope=row>1</th><td>7.1241e+10</td><td>2023-05-26 16:15:00</td><td>429.3460</td><td>0.026</td><td>2023-05-26 16:25:46</td><td>430.1090</td><td>0.05</td><td>-646.0 secs</td></tr>\n",
       "\t<tr><th scope=row>2</th><td>7.1241e+10</td><td>2023-05-26 16:30:00</td><td>429.4953</td><td>0.026</td><td>2023-05-26 16:25:46</td><td>430.1090</td><td>0.05</td><td> 254.0 secs</td></tr>\n",
       "\t<tr><th scope=row>3</th><td>7.1241e+10</td><td>2023-05-27 18:45:00</td><td>429.8959</td><td>0.026</td><td>2023-05-27 18:50:37</td><td>430.0430</td><td>0.05</td><td>-337.5 secs</td></tr>\n",
       "\t<tr><th scope=row>4</th><td>7.1241e+10</td><td>2023-05-27 19:00:00</td><td>429.8942</td><td>0.026</td><td>2023-05-27 18:50:37</td><td>430.0430</td><td>0.05</td><td> 562.5 secs</td></tr>\n",
       "\t<tr><th scope=row>5</th><td>7.1241e+10</td><td>2023-05-29 18:15:00</td><td>429.8832</td><td>0.026</td><td>2023-05-29 18:22:25</td><td>430.0662</td><td>0.05</td><td>-445.5 secs</td></tr>\n",
       "\t<tr><th scope=row>6</th><td>7.1241e+10</td><td>2023-05-29 18:15:00</td><td>429.8832</td><td>0.026</td><td>2023-05-29 18:22:25</td><td>430.1018</td><td>0.05</td><td>-445.5 secs</td></tr>\n",
       "</tbody>\n",
       "</table>\n"
      ],
      "text/latex": [
       "A data.frame: 6 × 8\n",
       "\\begin{tabular}{r|llllllll}\n",
       "  & reach\\_id & pt\\_time\\_UTC & mean\\_reach\\_pt\\_wse\\_m & mean\\_reach\\_pt\\_wse\\_precision\\_m & drift\\_time\\_UTC & reach\\_wse\\_m & reach\\_wse\\_precision\\_m & time\\_diff\\\\\n",
       "  & <dbl> & <dttm> & <dbl> & <dbl> & <dttm> & <dbl> & <dbl> & <drtn>\\\\\n",
       "\\hline\n",
       "\t1 & 7.1241e+10 & 2023-05-26 16:15:00 & 429.3460 & 0.026 & 2023-05-26 16:25:46 & 430.1090 & 0.05 & -646.0 secs\\\\\n",
       "\t2 & 7.1241e+10 & 2023-05-26 16:30:00 & 429.4953 & 0.026 & 2023-05-26 16:25:46 & 430.1090 & 0.05 &  254.0 secs\\\\\n",
       "\t3 & 7.1241e+10 & 2023-05-27 18:45:00 & 429.8959 & 0.026 & 2023-05-27 18:50:37 & 430.0430 & 0.05 & -337.5 secs\\\\\n",
       "\t4 & 7.1241e+10 & 2023-05-27 19:00:00 & 429.8942 & 0.026 & 2023-05-27 18:50:37 & 430.0430 & 0.05 &  562.5 secs\\\\\n",
       "\t5 & 7.1241e+10 & 2023-05-29 18:15:00 & 429.8832 & 0.026 & 2023-05-29 18:22:25 & 430.0662 & 0.05 & -445.5 secs\\\\\n",
       "\t6 & 7.1241e+10 & 2023-05-29 18:15:00 & 429.8832 & 0.026 & 2023-05-29 18:22:25 & 430.1018 & 0.05 & -445.5 secs\\\\\n",
       "\\end{tabular}\n"
      ],
      "text/markdown": [
       "\n",
       "A data.frame: 6 × 8\n",
       "\n",
       "| <!--/--> | reach_id &lt;dbl&gt; | pt_time_UTC &lt;dttm&gt; | mean_reach_pt_wse_m &lt;dbl&gt; | mean_reach_pt_wse_precision_m &lt;dbl&gt; | drift_time_UTC &lt;dttm&gt; | reach_wse_m &lt;dbl&gt; | reach_wse_precision_m &lt;dbl&gt; | time_diff &lt;drtn&gt; |\n",
       "|---|---|---|---|---|---|---|---|---|\n",
       "| 1 | 7.1241e+10 | 2023-05-26 16:15:00 | 429.3460 | 0.026 | 2023-05-26 16:25:46 | 430.1090 | 0.05 | -646.0 secs |\n",
       "| 2 | 7.1241e+10 | 2023-05-26 16:30:00 | 429.4953 | 0.026 | 2023-05-26 16:25:46 | 430.1090 | 0.05 |  254.0 secs |\n",
       "| 3 | 7.1241e+10 | 2023-05-27 18:45:00 | 429.8959 | 0.026 | 2023-05-27 18:50:37 | 430.0430 | 0.05 | -337.5 secs |\n",
       "| 4 | 7.1241e+10 | 2023-05-27 19:00:00 | 429.8942 | 0.026 | 2023-05-27 18:50:37 | 430.0430 | 0.05 |  562.5 secs |\n",
       "| 5 | 7.1241e+10 | 2023-05-29 18:15:00 | 429.8832 | 0.026 | 2023-05-29 18:22:25 | 430.0662 | 0.05 | -445.5 secs |\n",
       "| 6 | 7.1241e+10 | 2023-05-29 18:15:00 | 429.8832 | 0.026 | 2023-05-29 18:22:25 | 430.1018 | 0.05 | -445.5 secs |\n",
       "\n"
      ],
      "text/plain": [
       "  reach_id   pt_time_UTC         mean_reach_pt_wse_m\n",
       "1 7.1241e+10 2023-05-26 16:15:00 429.3460           \n",
       "2 7.1241e+10 2023-05-26 16:30:00 429.4953           \n",
       "3 7.1241e+10 2023-05-27 18:45:00 429.8959           \n",
       "4 7.1241e+10 2023-05-27 19:00:00 429.8942           \n",
       "5 7.1241e+10 2023-05-29 18:15:00 429.8832           \n",
       "6 7.1241e+10 2023-05-29 18:15:00 429.8832           \n",
       "  mean_reach_pt_wse_precision_m drift_time_UTC      reach_wse_m\n",
       "1 0.026                         2023-05-26 16:25:46 430.1090   \n",
       "2 0.026                         2023-05-26 16:25:46 430.1090   \n",
       "3 0.026                         2023-05-27 18:50:37 430.0430   \n",
       "4 0.026                         2023-05-27 18:50:37 430.0430   \n",
       "5 0.026                         2023-05-29 18:22:25 430.0662   \n",
       "6 0.026                         2023-05-29 18:22:25 430.1018   \n",
       "  reach_wse_precision_m time_diff  \n",
       "1 0.05                  -646.0 secs\n",
       "2 0.05                   254.0 secs\n",
       "3 0.05                  -337.5 secs\n",
       "4 0.05                   562.5 secs\n",
       "5 0.05                  -445.5 secs\n",
       "6 0.05                  -445.5 secs"
      ]
     },
     "metadata": {},
     "output_type": "display_data"
    },
    {
     "name": "stdout",
     "output_type": "stream",
     "text": [
      "[1] \"71241000101\" \"71241000111\" \"71241000121\"\n"
     ]
    }
   ],
   "source": [
    "# training for a simple analysis- comparing PTs and drifts across reaches and nodes\n",
    "library(dplyr)\n",
    "library(fuzzyjoin)\n",
    "\n",
    "\n",
    "#read in data\n",
    "PT_data=read.csv('/nas/cee-water/cjgleason/calval/Processed data/Brown/Data frames/reprocessed_2023_06_30/reach/NS_PT_reach_wse.csv')%>%\n",
    "mutate(pt_time_UTC=as.POSIXct(pt_time_UTC))\n",
    "    drift_data=read.csv('/nas/cee-water/cjgleason/calval/Processed data/Brown/Data frames/reprocessed_2023_06_30/reach/NS_drift_reach_wse_slope.csv')%>%\n",
    "    group_by(wse_drift_start_UTC)%>%    \n",
    "    mutate(average_drift_time= mean(c(as.POSIXct(wse_drift_start_UTC),as.POSIXct(wse_drift_end_UTC))))%>%\n",
    "       ungroup()%>%\n",
    "        transmute(reach_id=reach_id,drift_time_UTC=average_drift_time,\n",
    "                  drift_reach_wse_m=mean_reach_drift_wse_m,\treach_wse_precision_m=mean_reach_drift_wse_precision_m)\n",
    " \n",
    "joined_df=left_join(PT_data,drift_data,by='reach_id')%>%\n",
    "    mutate(time_diff = pt_time_UTC - drift_time_UTC)%>%\n",
    "    filter(abs(time_diff) < 15*60)\n",
    "\n",
    "\n",
    "head(joined_df)\n",
    "\n"
   ]
  },
  {
   "cell_type": "code",
   "execution_count": null,
   "id": "9d3b73f5-10b4-4749-83cf-f583e1c1344c",
   "metadata": {},
   "outputs": [],
   "source": [
    "library(ggplot2)\n",
    "\n",
    "p1= ggplot(joined_df) +\n",
    " geom_point(aes(x=mean_reach_pt_wse_m,y=drift_reach_wse_m))\n",
    "\n"
   ]
  }
 ],
 "metadata": {
  "kernelspec": {
   "display_name": "R [conda env:.conda-supposedlybetter]",
   "language": "R",
   "name": "conda-env-.conda-supposedlybetter-r"
  },
  "language_info": {
   "codemirror_mode": "r",
   "file_extension": ".r",
   "mimetype": "text/x-r-source",
   "name": "R",
   "pygments_lexer": "r",
   "version": "4.2.3"
  }
 },
 "nbformat": 4,
 "nbformat_minor": 5
}
