{
 "cells": [
  {
   "cell_type": "code",
   "execution_count": 1,
   "id": "7901617d-d7e3-4675-b474-1be621886f33",
   "metadata": {},
   "outputs": [
    {
     "name": "stderr",
     "output_type": "stream",
     "text": [
      "\n",
      "Attaching package: ‘dplyr’\n",
      "\n",
      "\n",
      "The following objects are masked from ‘package:stats’:\n",
      "\n",
      "    filter, lag\n",
      "\n",
      "\n",
      "The following objects are masked from ‘package:base’:\n",
      "\n",
      "    intersect, setdiff, setequal, union\n",
      "\n",
      "\n"
     ]
    },
    {
     "data": {
      "text/html": [
       "'/nas/cee-water/cjgleason/calval/Processed data/Brown/'"
      ],
      "text/latex": [
       "'/nas/cee-water/cjgleason/calval/Processed data/Brown/'"
      ],
      "text/markdown": [
       "'/nas/cee-water/cjgleason/calval/Processed data/Brown/'"
      ],
      "text/plain": [
       "[1] \"/nas/cee-water/cjgleason/calval/Processed data/Brown/\""
      ]
     },
     "metadata": {},
     "output_type": "display_data"
    }
   ],
   "source": [
    "library(dplyr)\n",
    "library(parallel)\n",
    "library(stringr)\n",
    "\n",
    "reprocess_switch=0 #0 or 1. 1 means to recreate all reach and node products following some change in processing. \n",
    "#0 means to just append to existing dataframes\n",
    "process_PTs=1 # switch. do you want to deal with PTs and all downstream processing?\n",
    "\n",
    "# hubname='UNC'\n",
    "# rivername='WK'\n",
    "# continent='oc'\n",
    "# PT_key_file= 'WK_Key_20230331.csv' #WK\n",
    "# utm_zone='58 +south'#WK='58 +south'\n",
    "\n",
    "# hubname='UMass'\n",
    "# rivername='CR'\n",
    "# continent='na'\n",
    "# PT_key_file='Key_CR_FS_20230322.csv' #CT\n",
    "# utm_zone=18 #Ct= 18\n",
    "\n",
    "# hubname='CU'\n",
    "# rivername='WM'\n",
    "# continent='na'\n",
    "# PT_key_file= 'SWOTCalVal_WM_KEY_20230326_20230510.csv' #WM\n",
    "# utm_zone=10 #WM= 10\n",
    "\n",
    "hubname='Brown'\n",
    "rivername='NS'\n",
    "continent='na'\n",
    "PT_key_file= 'Domain file_Brown_new.csv' #WM\n",
    "utm_zone=13 #NS= 13\n",
    "\n",
    "\n",
    "buffer=500 #m, 'extends' the reach\n",
    "\n",
    "setwd(paste0('/nas/cee-water/cjgleason/calval/Processed data/',hubname,'/'))\n",
    "domain_file=keyfile=paste0(rivername,'_domain.csv')\n",
    "paste0('/nas/cee-water/cjgleason/calval/Processed data/',hubname,'/')\n",
    "\n",
    "#PT paths---------\n",
    "PT_data_directory=paste0('/nas/cee-water/cjgleason/calval/xml_scripts/',hubname,'/Munged/')\n",
    "                        \n",
    "flagged_PT_output_directory='Flagged PT/'\n",
    "#--------------------------------------------------\n",
    "#drift paths------------------------------------------\n",
    "GNSS_drift_data_directory=paste0('From Andy/',hubname,'_netCDFs/')\n",
    "if(reprocess_switch==1){\n",
    "    \n",
    "    drift_string= paste0('Munged drifts/','reprocessed_',  str_replace_all(as.character(Sys.Date()),'\\\\-','_'))\n",
    "    PT_string =paste0('Munged PT/','reprocessed_',  str_replace_all(as.character(Sys.Date()),'\\\\-','_'))\n",
    "    reachnode_string= paste0('Data frames/','reprocessed_',  str_replace_all(as.character(Sys.Date()),'\\\\-','_'))\n",
    "    node_string =paste0('Data frames/','reprocessed_',  str_replace_all(as.character(Sys.Date()),'\\\\-','_'),'/node')\n",
    "    reach_string=paste0('Data frames/','reprocessed_',  str_replace_all(as.character(Sys.Date()),'\\\\-','_'),'/reach')\n",
    "    \n",
    "    #check if we've already reprocessed today\n",
    "    if (dir.exists(drift_string)){\n",
    "        #if we have, then use that as the output and clear the files in the drift directory\n",
    "        unlink(drift_string, recursive = TRUE)\n",
    "        unlink(PT_string,recursive = TRUE)\n",
    "        dir.create(drift_string)\n",
    "        dir.create(PT_string)\n",
    "        QA_QC_drift_output_directory=paste0(drift_string,'/')\n",
    "        QA_QC_PT_output_directory=paste0(PT_string,'/')\n",
    "        reachnode_output_directory=paste0(reachnode_string,'/')\n",
    "        } else {\n",
    "        #if we haven't reprocessed today\n",
    "        \n",
    "        \n",
    "    dir.create(drift_string)\n",
    "    dir.create(PT_string)\n",
    "    dir.create(reachnode_string)\n",
    "    dir.create(node_string)\n",
    "    dir.create(reach_string)\n",
    "        \n",
    "    QA_QC_drift_output_directory=paste0(drift_string,'/')\n",
    "    reachnode_output_directory=paste0(reachnode_string,'/')\n",
    "    QA_QC_PT_output_directory=paste0(PT_string,'/')\n",
    "    }\n",
    "    \n",
    "    } else { #we aren't reprocessing. find the most recent folders to use\n",
    "    \n",
    "folderlist= list.files('Munged drifts',full.names = TRUE)\n",
    "    \n",
    "foldertimes=file.info(folderlist)%>%\n",
    " mutate(mintime= Sys.time()-mtime) %>%\n",
    " filter(mintime== min(mintime)) \n",
    "    \n",
    "QA_QC_drift_output_directory=paste0(row.names(foldertimes),'/')  \n",
    "    \n",
    "folderlist2= list.files('Data frames',full.names = TRUE)\n",
    "    \n",
    "foldertimes2=file.info(folderlist2)%>%\n",
    " mutate(mintime= Sys.time()-mtime) %>%\n",
    " filter(mintime== min(mintime)) \n",
    "    \n",
    "reachnode_output_directory=paste0(row.names(foldertimes2),'/')\n",
    "    \n",
    "folderlist3= list.files('Munged PT',full.names = TRUE)\n",
    "    \n",
    "foldertimes3=file.info(folderlist3)%>%\n",
    " mutate(mintime= Sys.time()-mtime) %>%\n",
    " filter(mintime== min(mintime))  \n",
    "    \n",
    "QA_QC_PT_output_directory=paste0(row.names(foldertimes3),'/') \n",
    "}\n",
    "\n",
    "flagged_drift_output_directory='Flagged drifts/'\n",
    "#--------------------------------------------------\n",
    "\n",
    "#sword paths----------------------------------------\n",
    "SWORD_path=paste0('/nas/cee-water/cjgleason/calval/SWORD_15/netcdf/',continent,\n",
    "                  '_sword_v15.nc')\n",
    "#------------------------------\n",
    "\n"
   ]
  },
  {
   "cell_type": "code",
   "execution_count": 6,
   "id": "182da75d-65ee-4c19-8211-293f5b37826d",
   "metadata": {},
   "outputs": [
    {
     "data": {
      "text/html": [
       "'Munged drifts/reprocessed_2023_05_10/'"
      ],
      "text/latex": [
       "'Munged drifts/reprocessed\\_2023\\_05\\_10/'"
      ],
      "text/markdown": [
       "'Munged drifts/reprocessed_2023_05_10/'"
      ],
      "text/plain": [
       "[1] \"Munged drifts/reprocessed_2023_05_10/\""
      ]
     },
     "metadata": {},
     "output_type": "display_data"
    },
    {
     "data": {
      "text/html": [
       "'Munged PT/reprocessed_2023_06_01/'"
      ],
      "text/latex": [
       "'Munged PT/reprocessed\\_2023\\_06\\_01/'"
      ],
      "text/markdown": [
       "'Munged PT/reprocessed_2023_06_01/'"
      ],
      "text/plain": [
       "[1] \"Munged PT/reprocessed_2023_06_01/\""
      ]
     },
     "metadata": {},
     "output_type": "display_data"
    },
    {
     "data": {
      "text/html": [
       "'Data frames/reprocessed_2023_05_10/'"
      ],
      "text/latex": [
       "'Data frames/reprocessed\\_2023\\_05\\_10/'"
      ],
      "text/markdown": [
       "'Data frames/reprocessed_2023_05_10/'"
      ],
      "text/plain": [
       "[1] \"Data frames/reprocessed_2023_05_10/\""
      ]
     },
     "metadata": {},
     "output_type": "display_data"
    }
   ],
   "source": [
    "QA_QC_drift_output_directory\n",
    "QA_QC_PT_output_directory\n",
    "reachnode_output_directory\n",
    "\n"
   ]
  },
  {
   "cell_type": "code",
   "execution_count": 44,
   "id": "e0575e79-2d85-4376-be43-2204d8c58e18",
   "metadata": {},
   "outputs": [],
   "source": [
    "# stopCluster(cl)"
   ]
  },
  {
   "cell_type": "code",
   "execution_count": 45,
   "id": "a0a500b3-6c25-40ed-8c27-103dfdd433fd",
   "metadata": {},
   "outputs": [],
   "source": [
    "#create dataframes from drifts---------------------------------------------------------\n",
    "#pull filename before the .csv\n",
    "   source('/nas/cee-water/cjgleason/calval_toolbox/R code/create_GNSS_dataframe.R')\n",
    "raw_GNSS=sub( \"\\\\..*\",\"\", list.files(GNSS_drift_data_directory))\n",
    "\n",
    "#pull filename before the second _\n",
    "QA_QC_drifts=sub( \"\\\\..*\",\"\",list.files(QA_QC_drift_output_directory))\n",
    "flagged_drifts=sub(\"\\\\..*\",\"\",list.files(flagged_drift_output_directory))\n",
    "#what raw drift data have not been munged\n",
    "unmunged_drifts=setdiff(raw_GNSS,c(flagged_drifts,QA_QC_drifts))\n",
    "\n",
    "# create_gnss_dataframe(unmunged_drifts[1],\n",
    "#                   gnss_drift_data_directory=GNSS_drift_data_directory,\n",
    "#                   output_directory=QA_QC_drift_output_directory)\n",
    "\n",
    "# for (i in 1:10){\n",
    "# create_gnss_dataframe(unmunged_drifts[i],\n",
    "#                   gnss_drift_data_directory=GNSS_drift_data_directory,\n",
    "#                   output_directory=QA_QC_drift_output_directory)}\n",
    "if(!identical(unmunged_drifts,character(0))){\n",
    "\n",
    "    cl=makeCluster(44)\n",
    "\n",
    "    \n",
    "  dummy=parLapply(cl=cl,unmunged_drifts,create_gnss_dataframe,\n",
    "                  gnss_drift_data_directory=GNSS_drift_data_directory,\n",
    "                  output_directory=QA_QC_drift_output_directory)\n",
    "  stopCluster(cl)\n",
    "}\n",
    "\n",
    "#-------------------------------------------------"
   ]
  },
  {
   "cell_type": "code",
   "execution_count": 45,
   "id": "5888453a-f922-46bb-9263-6e83e2bc2884",
   "metadata": {},
   "outputs": [
    {
     "data": {
      "text/html": [
       "'/nas/cee-water/cjgleason/calval/Processed data/Imagery/BinaryMap.tif'"
      ],
      "text/latex": [
       "'/nas/cee-water/cjgleason/calval/Processed data/Imagery/BinaryMap.tif'"
      ],
      "text/markdown": [
       "'/nas/cee-water/cjgleason/calval/Processed data/Imagery/BinaryMap.tif'"
      ],
      "text/plain": [
       "[1] \"/nas/cee-water/cjgleason/calval/Processed data/Imagery/BinaryMap.tif\""
      ]
     },
     "metadata": {},
     "output_type": "display_data"
    },
    {
     "data": {
      "text/html": [
       "'BinaryMap'"
      ],
      "text/latex": [
       "'BinaryMap'"
      ],
      "text/markdown": [
       "'BinaryMap'"
      ],
      "text/plain": [
       "[1] \"BinaryMap\""
      ]
     },
     "metadata": {},
     "output_type": "display_data"
    }
   ],
   "source": []
  },
  {
   "cell_type": "code",
   "execution_count": 28,
   "id": "c364ea12-c6d7-49f2-b3d9-bdb2ba1f75ac",
   "metadata": {},
   "outputs": [
    {
     "ename": "ERROR",
     "evalue": "Error in read.table(file = file, header = header, sep = sep, quote = quote, : duplicate 'row.names' are not allowed\n",
     "output_type": "error",
     "traceback": [
      "Error in read.table(file = file, header = header, sep = sep, quote = quote, : duplicate 'row.names' are not allowed\nTraceback:\n",
      "1. correct_pt_to_gnss(unmunged_PTs[1], pt_key_file = PT_key_file, \n .     dist_thresh = dist_thresh, time_thresh = time_thresh, pt_data_directory = PT_data_directory, \n .     gnss_drift_data_directory = QA_QC_drift_output_directory, \n .     QA_QC_pt_output_directory = QA_QC_PT_output_directory, flagged_pt_output_directory = flagged_PT_output_directory, \n .     gnss_sd_thresh = GNSS_sd_thresh, offset_sd_thresh = offset_sd_thresh, \n .     change_thresh_15_min = change_thresh_15_min)   # at line 45-55 of file <text>",
      "2. handle_raw_pt(raw_pt_file, pt_key_file, pt_data_directory, gnss_drift_data_directory) %>% \n .     transmute(pt_time_UTC = pt_time_UTC, pt_lat = pt_Lat, pt_lon = pt_Lon, \n .         pt_install_UTC = as.POSIXct(paste(Date_GNSS_Install, \n .             Time_GNSS_Install_Start), format = \"%m/%d/%Y %H:%M\"), \n .         pt_uninstall_UTC = as.POSIXct(paste(Date_GNSS_Uninstall, \n .             Time_GNSS_Uninstall_End), format = \"%m/%d/%Y %H:%M\"), \n .         install_method = Install_method, pt_serial = pt_serial, \n .         pt_level = LEVEL, temperature = TEMPERATURE, driftID_install = driftID_install, \n .         driftID_uninstall = driftID_uninstall, datetime = datetime)",
      "3. transmute(., pt_time_UTC = pt_time_UTC, pt_lat = pt_Lat, pt_lon = pt_Lon, \n .     pt_install_UTC = as.POSIXct(paste(Date_GNSS_Install, Time_GNSS_Install_Start), \n .         format = \"%m/%d/%Y %H:%M\"), pt_uninstall_UTC = as.POSIXct(paste(Date_GNSS_Uninstall, \n .         Time_GNSS_Uninstall_End), format = \"%m/%d/%Y %H:%M\"), \n .     install_method = Install_method, pt_serial = pt_serial, pt_level = LEVEL, \n .     temperature = TEMPERATURE, driftID_install = driftID_install, \n .     driftID_uninstall = driftID_uninstall, datetime = datetime)",
      "4. handle_raw_pt(raw_pt_file, pt_key_file, pt_data_directory, gnss_drift_data_directory)",
      "5. read.csv(paste0(pt_data_directory, raw_pt_file), skip = 11, header = TRUE) %>% \n .     mutate(pt_serial = pt_serial)",
      "6. mutate(., pt_serial = pt_serial)",
      "7. read.csv(paste0(pt_data_directory, raw_pt_file), skip = 11, header = TRUE)",
      "8. read.table(file = file, header = header, sep = sep, quote = quote, \n .     dec = dec, fill = fill, comment.char = comment.char, ...)",
      "9. stop(\"duplicate 'row.names' are not allowed\")"
     ]
    }
   ],
   "source": [
    "#munge PTs if needed------\n",
    "if (process_PTs==1){\n",
    "dist_thresh=150 # 150m\n",
    "time_thresh= 15*60 #minutes as seconds, centered, so 15 =30 mins total time\n",
    "GNSS_sd_thresh=0.15 # 15cm how much variance do you want in the GNSS data when it is within the distance threshold?\n",
    "offset_sd_thresh=0.10 #m, so 10cm. the the PT apparantly shift by more than a cm?\n",
    "change_thresh_15_min=0.05#m- does it change more than 5cm in 15 minutes? that is a discontinuity in offset\n",
    "\n",
    "#check for un-munged PT data\n",
    "#first, move .csv files with an 'L1' in them over to the PT_data_directory\n",
    "munged_files= list.files(PT_data_directory,\n",
    "                         recursive= TRUE)\n",
    "\n",
    "PT_index=which(!is.na(do.call(rbind,lapply(munged_files,str_match,'PT_L1'))))\n",
    "PT_files=munged_files[PT_index]\n",
    "csv_index=which(!is.na(do.call(rbind,lapply(PT_files,str_match,'.csv'))))\n",
    "csv_PT_files=PT_files[csv_index]\n",
    "\n",
    "#pull filename before the .csv\n",
    "raw_PT=sub(\"\\\\..*\",\"\",csv_PT_files)\n",
    "raw_PT=sub(\".*/\",\"\",raw_PT)\n",
    "#pull filenam\\\\..*e before the second _\n",
    "QA_QC_PTs=sub(\"\\\\..*\",\"\",list.files(QA_QC_PT_output_directory))\n",
    "flagged_PTs=sub( \"\\\\..*\",\"\",list.files(flagged_PT_output_directory))\n",
    "#what raw PT data have not been munged\n",
    "    #need to preserve the full path in csv_PT_files!\n",
    "unmunged_PTs=setdiff(csv_PT_files,c(flagged_PTs,QA_QC_PTs))\n",
    "    \n",
    "    \n",
    "#run the PTs that are not yet munged\n",
    "    \n",
    "    #print(unmunged_PTs)\n",
    "\n",
    "files_to_run=list()\n",
    " for (i in 1:length(unmunged_PTs)){\n",
    "files_to_run[[i]]=munged_files[which(!is.na(str_match(munged_files,unmunged_PTs[i])))]\n",
    "     }\n",
    "\n",
    " files_to_run=paste0('/nas/cee-water/cjgleason/calval/xml_scripts/',hubname,'/Munged/',files_to_run)\n",
    "\n",
    "if(!identical(unmunged_PTs,character(0))){\n",
    "  source('/nas/cee-water/cjgleason/calval_toolbox/R code/correct_PT_to_GNSS.R')\n",
    "    \n",
    " \n",
    "correct_pt_to_gnss(unmunged_PTs[1],\n",
    "                  pt_key_file=PT_key_file,\n",
    "                  dist_thresh=dist_thresh,\n",
    "                  time_thresh=time_thresh,\n",
    "                  pt_data_directory=PT_data_directory,\n",
    "                  gnss_drift_data_directory=QA_QC_drift_output_directory,\n",
    "                  QA_QC_pt_output_directory=QA_QC_PT_output_directory,\n",
    "                  flagged_pt_output_directory=flagged_PT_output_directory,\n",
    "                  gnss_sd_thresh=GNSS_sd_thresh,\n",
    "                  offset_sd_thresh=offset_sd_thresh,\n",
    "                  change_thresh_15_min=change_thresh_15_min)\n",
    "    \n",
    "    \n",
    "#       cl=makeCluster(44)\n",
    "  \n",
    "#   dummy=parLapply(cl, files_to_run,correct_pt_to_gnss,\n",
    "#                   pt_key_file=PT_key_file,\n",
    "#                   dist_thresh=dist_thresh,\n",
    "#                   time_thresh=time_thresh,\n",
    "#                   pt_data_directory=PT_data_directory,\n",
    "#                   gnss_drift_data_directory=QA_QC_drift_output_directory,\n",
    "#                   QA_QC_pt_output_directory=QA_QC_PT_output_directory,\n",
    "#                   flagged_pt_output_directory=flagged_PT_output_directory,\n",
    "#                   gnss_sd_thresh=GNSS_sd_thresh,\n",
    "#                   offset_sd_thresh=offset_sd_thresh,\n",
    "#                   change_thresh_15_min=change_thresh_15_min)\n",
    "  \n",
    "#   stopCluster(cl)\n",
    "}\n",
    "    \n",
    "    }\n",
    "\n",
    "#-----------------------------\n"
   ]
  },
  {
   "cell_type": "code",
   "execution_count": null,
   "id": "e2eb2936-7614-4671-ad15-f21348594d1c",
   "metadata": {},
   "outputs": [],
   "source": []
  },
  {
   "cell_type": "code",
   "execution_count": 47,
   "id": "17f756bb-48ed-4423-b691-8514b2fbda7a",
   "metadata": {},
   "outputs": [
    {
     "name": "stdout",
     "output_type": "stream",
     "text": [
      "[1] \">>>> WARNING <<<  attribute _FillValue is an 8-byte value, but R\"\n",
      "[1] \"does not support this data type. I am returning a double precision\"\n",
      "[1] \"floating point, but you must be aware that this could lose precision!\"\n",
      "[1] \">>>> WARNING <<<  attribute _FillValue is an 8-byte value, but R\"\n",
      "[1] \"does not support this data type. I am returning a double precision\"\n",
      "[1] \"floating point, but you must be aware that this could lose precision!\"\n",
      "[1] \">>>> WARNING <<<  attribute _FillValue is an 8-byte value, but R\"\n",
      "[1] \"does not support this data type. I am returning a double precision\"\n",
      "[1] \"floating point, but you must be aware that this could lose precision!\"\n",
      "[1] \">>>> WARNING <<<  attribute _FillValue is an 8-byte value, but R\"\n",
      "[1] \"does not support this data type. I am returning a double precision\"\n",
      "[1] \"floating point, but you must be aware that this could lose precision!\"\n",
      "[1] \">>>> WARNING <<<  attribute _FillValue is an 8-byte value, but R\"\n",
      "[1] \"does not support this data type. I am returning a double precision\"\n",
      "[1] \"floating point, but you must be aware that this could lose precision!\"\n",
      "[1] \">>>> WARNING <<<  attribute _FillValue is an 8-byte value, but R\"\n",
      "[1] \"does not support this data type. I am returning a double precision\"\n",
      "[1] \"floating point, but you must be aware that this could lose precision!\"\n",
      "[1] \">>>> WARNING <<<  attribute _FillValue is an 8-byte value, but R\"\n",
      "[1] \"does not support this data type. I am returning a double precision\"\n",
      "[1] \"floating point, but you must be aware that this could lose precision!\"\n",
      "[1] \">>>> WARNING <<<  attribute _FillValue is an 8-byte value, but R\"\n",
      "[1] \"does not support this data type. I am returning a double precision\"\n",
      "[1] \"floating point, but you must be aware that this could lose precision!\"\n",
      "[1] \">>>> WARNING <<<  attribute _FillValue is an 8-byte value, but R\"\n",
      "[1] \"does not support this data type. I am returning a double precision\"\n",
      "[1] \"floating point, but you must be aware that this could lose precision!\"\n",
      "[1] \">>>> WARNING <<<  attribute _FillValue is an 8-byte value, but R\"\n",
      "[1] \"does not support this data type. I am returning a double precision\"\n",
      "[1] \"floating point, but you must be aware that this could lose precision!\"\n",
      "[1] \">>>> WARNING <<<  attribute _FillValue is an 8-byte value, but R\"\n",
      "[1] \"does not support this data type. I am returning a double precision\"\n",
      "[1] \"floating point, but you must be aware that this could lose precision!\"\n",
      "[1] \">>>> WARNING <<<  attribute _FillValue is an 8-byte value, but R\"\n",
      "[1] \"does not support this data type. I am returning a double precision\"\n",
      "[1] \"floating point, but you must be aware that this could lose precision!\"\n",
      "[1] \">>>> WARNING <<<  attribute _FillValue is an 8-byte value, but R\"\n",
      "[1] \"does not support this data type. I am returning a double precision\"\n",
      "[1] \"floating point, but you must be aware that this could lose precision!\"\n",
      "[1] \">>>> WARNING <<<  attribute _FillValue is an 8-byte value, but R\"\n",
      "[1] \"does not support this data type. I am returning a double precision\"\n",
      "[1] \"floating point, but you must be aware that this could lose precision!\"\n",
      "[1] \">>>> WARNING <<<  attribute _FillValue is an 8-byte value, but R\"\n",
      "[1] \"does not support this data type. I am returning a double precision\"\n",
      "[1] \"floating point, but you must be aware that this could lose precision!\"\n",
      "[1] \">>>> WARNING <<<  attribute _FillValue is an 8-byte value, but R\"\n",
      "[1] \"does not support this data type. I am returning a double precision\"\n",
      "[1] \"floating point, but you must be aware that this could lose precision!\"\n"
     ]
    },
    {
     "data": {
      "image/png": "[encoded data removed]",
      "text/plain": [
       "plot without title"
      ]
     },
     "metadata": {
      "image/png": {
       "height": 420,
       "width": 420
      }
     },
     "output_type": "display_data"
    }
   ],
   "source": [
    "#calculate slopes and heights from drifts within nodes and reaches------\n",
    "\n",
    "SWORD_reach= read.csv(domain_file)\n",
    "this_river_reach_IDs= as.numeric(unique(SWORD_reach$Reach_ID[!is.na(SWORD_reach$Reach_ID)]))\n",
    "this_river_node_IDs= as.numeric(unique(SWORD_reach$Node_ID[!is.na(SWORD_reach$Node_ID)]))\n",
    "\n",
    "\n",
    "\n",
    "#photo_path= 'Willamette/Watermask/Demo_output/Shapefile/'\n",
    "#this_river_reach_IDs\n",
    "options(warn=-1)\n",
    "source('/nas/cee-water/cjgleason/calval_toolbox/R code/calculate_slope_wse_fromdrift.R')\n",
    "\n",
    "dummy=calculate_slope_wse_fromdrift(SWORD_path=SWORD_path,\n",
    "                                    drift_directory=QA_QC_drift_output_directory,\n",
    "                                    PT_directory=PT_directory,\n",
    "                                    output_directory=reachnode_output_directory,\n",
    "                                    this_river_reach_ids=this_river_reach_IDs,\n",
    "                                    this_river_node_ids=this_river_node_IDs,\n",
    "                                    utm_zone=utm_zone, \n",
    "                                    buffer=buffer,\n",
    "                                    rivername=rivername,\n",
    "                                    reprocess_switch=reprocess_switch)\n",
    "\n",
    "# dummy\n",
    "#-----------------------------"
   ]
  },
  {
   "cell_type": "code",
   "execution_count": 48,
   "id": "de238d52-ab26-450a-8aff-8d85e157f293",
   "metadata": {},
   "outputs": [],
   "source": [
    "#calculate slopes and heights from PTs within nodes and reaches----\n",
    "if (process_PTs==1){\n",
    "PT_files=paste0(QA_QC_PT_output_directory,list.files(QA_QC_PT_output_directory))\n",
    "SWORD_reach= read.csv(domain_file)\n",
    "this_river_reach_IDs= as.numeric(as.character(unique(SWORD_reach$Reach_ID)))\n",
    "\n",
    "\n",
    "alongstream_error= 0.0001*200 #m error we get from the downstream slope of a reach in a node. This placeholder is a 1e-4 slope over a 200m node\n",
    "crossstream_error= 0.005 #m error we get from PT not representing cross stream superelevation/noise in a node\n",
    "measurement_error= 0.001 #m error we get from PT measurement itself \n",
    "source('/nas/cee-water/cjgleason/calval_toolbox/R code/calculate_slope_wse_fromPT.R')\n",
    "\n",
    "\n",
    "dummy=calculate_slope_wse_fromPT(keyfile=PT_key_file,\n",
    "                                 pt_files=PT_files,\n",
    "                                 SWORD_path=SWORD_path,\n",
    "                                 SWORD_reach=SWORD_reach,\n",
    "                                 this_river_reach_ids=this_river_reach_IDs,\n",
    "                                 rivername=rivername,\n",
    "                                 output_directory= reachnode_output_directory,\n",
    "                                 alongstream_error=alongstream_error,\n",
    "                                 crossstream_error=crossstream_error,\n",
    "                                 measurement_error=measurement_error)\n",
    "     }\n",
    "#-----------------------------"
   ]
  },
  {
   "cell_type": "code",
   "execution_count": 49,
   "id": "e3012e0d-904e-4a87-b1b2-490c8391ed3e",
   "metadata": {},
   "outputs": [],
   "source": [
    "# passfile='/nas/cee-water/cjgleason/calval/Processed data/riversp_list_clean.txt'\n",
    "# passnames=read.delim(passfile,header=F)$V1[which(!is.na(str_match(read.delim(passfile,header=F)$V1,'NA')))]\n",
    "\n",
    "# time_threshold_sec= 120*60 #two hour\n",
    "# wse_threshold_m=0.05 #within 5cm\n",
    "# distance_threshold_m =200 #within 200m\n",
    "\n",
    "# if (!dir.exists(paste0('Matched_drifts/','processed_',str_replace_all(as.character(Sys.Date()),'\\\\-','_')))){\n",
    "#     dir.create(paste0('Matched_drifts/','processed_',str_replace_all(as.character(Sys.Date()),'\\\\-','_')))}\n",
    "\n",
    "\n",
    "# matched_output_directory= paste0('Matched_drifts/','processed_',str_replace_all(as.character(Sys.Date()),'\\\\-','_'),'/')\n",
    "# munged_drift_directory= QA_QC_drift_output_directory\n",
    "# munged_pt_directory=QA_QC_PT_output_directory\n",
    "\n",
    "# source('/nas/cee-water/cjgleason/calval_toolbox/R code/select_appropriate_drift.R')\n",
    "\n",
    "\n",
    "\n",
    "# dummy=select_appropriate_drift(passnames[1],\n",
    "#                                drift_node_directory= paste0(reachnode_output_directory,'/node/'),\n",
    "#                                munged_drift_directory=munged_drift_directory,\n",
    "#                                matched_output_directory=matched_output_directory,\n",
    "#                                munged_pt_directory=munged_pt_directory,\n",
    "#                                time_threshold_sec=time_threshold_sec,\n",
    "#                                wse_threshold_m= wse_threshold_m,\n",
    "#                                distance_threshold_m=distance_threshold_m,\n",
    "#                                keyfile=PT_key_file,\n",
    "#                                rivername=rivername)\n"
   ]
  },
  {
   "cell_type": "code",
   "execution_count": null,
   "id": "0a3747c7-21b0-469d-8028-cd51e6278384",
   "metadata": {},
   "outputs": [],
   "source": []
  },
  {
   "cell_type": "code",
   "execution_count": 50,
   "id": "05a92fb3-131a-40d6-bd24-e67abd5bf202",
   "metadata": {},
   "outputs": [],
   "source": [
    "#define what drift goes with what SWOT overpass--------------------\n",
    "#SWOT_L2_HR_RiverSP_<FileIdentifier>_<CycleID>_<PassID>_<ContinentID>_<RangeBeginningDateTime>_<RangeEndingDateTime>_<CRID>_<ProductCounter>.<extension> \n",
    "if (process_PTs==1){\n",
    "passfile='/nas/cee-water/cjgleason/calval/Processed data/riversp_list_clean.txt'\n",
    "passnames=read.delim(passfile,header=F)$V1[which(!is.na(str_match(read.delim(passfile,header=F)$V1,'NA')))]\n",
    "\n",
    "time_threshold_sec= 120*60 #two hour\n",
    "wse_threshold_m=0.05 #within 5cm\n",
    "distance_threshold_m =200 #within 200m\n",
    "\n",
    "if (!dir.exists(paste0('Matched_drifts/','processed_',str_replace_all(as.character(Sys.Date()),'\\\\-','_')))){\n",
    "    dir.create(paste0('Matched_drifts/','processed_',str_replace_all(as.character(Sys.Date()),'\\\\-','_')))}\n",
    "\n",
    "\n",
    "matched_output_directory= paste0('Matched_drifts/','processed_',str_replace_all(as.character(Sys.Date()),'\\\\-','_'),'/')\n",
    "munged_drift_directory= QA_QC_drift_output_directory\n",
    "munged_pt_directory=QA_QC_PT_output_directory\n",
    "\n",
    "source('/nas/cee-water/cjgleason/calval_toolbox/R code/select_appropriate_drift.R')\n",
    "\n",
    "\n",
    "  \n",
    "  cl=makeCluster(44)\n",
    "dummy=parLapply(cl, passnames,select_appropriate_drift,\n",
    "                               drift_node_directory= paste0(reachnode_output_directory,'/node/'),\n",
    "                               munged_drift_directory=munged_drift_directory,\n",
    "                               matched_output_directory=matched_output_directory,\n",
    "                               munged_pt_directory=munged_pt_directory,\n",
    "                               time_threshold_sec=time_threshold_sec,\n",
    "                               wse_threshold_m= wse_threshold_m,\n",
    "                               distance_threshold_m=distance_threshold_m,\n",
    "                               keyfile=PT_key_file,\n",
    "                               rivername=rivername)\n",
    "\n",
    "stopCluster(cl)\n",
    "    }\n",
    "#-----------------------------"
   ]
  },
  {
   "cell_type": "code",
   "execution_count": 49,
   "id": "f5155e21-63ea-4924-8a93-46b0a4a0d014",
   "metadata": {},
   "outputs": [
    {
     "name": "stdout",
     "output_type": "stream",
     "text": [
      "[1] \">>>> WARNING <<<  attribute _FillValue is an 8-byte value, but R\"\n",
      "[1] \"does not support this data type. I am returning a double precision\"\n",
      "[1] \"floating point, but you must be aware that this could lose precision!\"\n",
      "[1] \">>>> WARNING <<<  attribute _FillValue is an 8-byte value, but R\"\n",
      "[1] \"does not support this data type. I am returning a double precision\"\n",
      "[1] \"floating point, but you must be aware that this could lose precision!\"\n",
      "[1] \">>>> WARNING <<<  attribute _FillValue is an 8-byte value, but R\"\n",
      "[1] \"does not support this data type. I am returning a double precision\"\n",
      "[1] \"floating point, but you must be aware that this could lose precision!\"\n",
      "[1] \">>>> WARNING <<<  attribute _FillValue is an 8-byte value, but R\"\n",
      "[1] \"does not support this data type. I am returning a double precision\"\n",
      "[1] \"floating point, but you must be aware that this could lose precision!\"\n",
      "[1] \">>>> WARNING <<<  attribute _FillValue is an 8-byte value, but R\"\n",
      "[1] \"does not support this data type. I am returning a double precision\"\n",
      "[1] \"floating point, but you must be aware that this could lose precision!\"\n",
      "[1] \">>>> WARNING <<<  attribute _FillValue is an 8-byte value, but R\"\n",
      "[1] \"does not support this data type. I am returning a double precision\"\n",
      "[1] \"floating point, but you must be aware that this could lose precision!\"\n",
      "[1] \">>>> WARNING <<<  attribute _FillValue is an 8-byte value, but R\"\n",
      "[1] \"does not support this data type. I am returning a double precision\"\n",
      "[1] \"floating point, but you must be aware that this could lose precision!\"\n",
      "[1] \">>>> WARNING <<<  attribute _FillValue is an 8-byte value, but R\"\n",
      "[1] \"does not support this data type. I am returning a double precision\"\n",
      "[1] \"floating point, but you must be aware that this could lose precision!\"\n",
      "[1] \">>>> WARNING <<<  attribute _FillValue is an 8-byte value, but R\"\n",
      "[1] \"does not support this data type. I am returning a double precision\"\n",
      "[1] \"floating point, but you must be aware that this could lose precision!\"\n",
      "[1] \">>>> WARNING <<<  attribute _FillValue is an 8-byte value, but R\"\n",
      "[1] \"does not support this data type. I am returning a double precision\"\n",
      "[1] \"floating point, but you must be aware that this could lose precision!\"\n",
      "[1] \">>>> WARNING <<<  attribute _FillValue is an 8-byte value, but R\"\n",
      "[1] \"does not support this data type. I am returning a double precision\"\n",
      "[1] \"floating point, but you must be aware that this could lose precision!\"\n",
      "[1] \">>>> WARNING <<<  attribute _FillValue is an 8-byte value, but R\"\n",
      "[1] \"does not support this data type. I am returning a double precision\"\n",
      "[1] \"floating point, but you must be aware that this could lose precision!\"\n",
      "[1] \">>>> WARNING <<<  attribute _FillValue is an 8-byte value, but R\"\n",
      "[1] \"does not support this data type. I am returning a double precision\"\n",
      "[1] \"floating point, but you must be aware that this could lose precision!\"\n",
      "[1] \">>>> WARNING <<<  attribute _FillValue is an 8-byte value, but R\"\n",
      "[1] \"does not support this data type. I am returning a double precision\"\n",
      "[1] \"floating point, but you must be aware that this could lose precision!\"\n",
      "[1] \">>>> WARNING <<<  attribute _FillValue is an 8-byte value, but R\"\n",
      "[1] \"does not support this data type. I am returning a double precision\"\n",
      "[1] \"floating point, but you must be aware that this could lose precision!\"\n",
      "[1] \">>>> WARNING <<<  attribute _FillValue is an 8-byte value, but R\"\n",
      "[1] \"does not support this data type. I am returning a double precision\"\n",
      "[1] \"floating point, but you must be aware that this could lose precision!\"\n",
      "Time difference of 3.561657 mins\n"
     ]
    }
   ],
   "source": [
    "#calcluate areas from images------------------\n",
    "a=Sys.time()\n",
    "\n",
    "library(parallel)\n",
    "source('/nas/cee-water/cjgleason/calval_toolbox/R code/calculate_area_from_imagery.R')\n",
    "\n",
    "scale_maxwidth = 3\n",
    "#path of input image \n",
    "image = '/nas/cee-water/cjgleason/calval/Processed data/Imagery/Input/BinaryMap.tif'\n",
    "\n",
    "#output dir\n",
    "dir_output = '/nas/cee-water/cjgleason/calval/Processed data/Imagery/Output/'\n",
    "\n",
    "\n",
    "calculate_area_from_imagery(image=image,\n",
    "                                     this_river_reach_ids=image_reaches,\n",
    "                                     this_river_node_ids=image_nodes,\n",
    "                                     rivercode=rivername,\n",
    "                                     utm_zone=utm_zone,\n",
    "                                     scale_maxwidth=scale_maxwidth, \n",
    "                                     SWORD_path=SWORD_path)\n",
    "print(Sys.time()-a)#calcluate areas from images----\n"
   ]
  }
 ],
 "metadata": {
  "kernelspec": {
   "display_name": "R [conda env:.conda-supposedlybetter]",
   "language": "R",
   "name": "conda-env-.conda-supposedlybetter-r"
  },
  "language_info": {
   "codemirror_mode": "r",
   "file_extension": ".r",
   "mimetype": "text/x-r-source",
   "name": "R",
   "pygments_lexer": "r",
   "version": "4.2.3"
  }
 },
 "nbformat": 4,
 "nbformat_minor": 5
}
