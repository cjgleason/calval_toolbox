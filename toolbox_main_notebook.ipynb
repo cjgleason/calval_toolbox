{
 "cells": [
  {
   "cell_type": "code",
   "execution_count": 5,
   "id": "7901617d-d7e3-4675-b474-1be621886f33",
   "metadata": {},
   "outputs": [
    {
     "data": {
      "text/html": [
       "'/nas/cee-water/cjgleason/calval/Processed data/UMass/'"
      ],
      "text/latex": [
       "'/nas/cee-water/cjgleason/calval/Processed data/UMass/'"
      ],
      "text/markdown": [
       "'/nas/cee-water/cjgleason/calval/Processed data/UMass/'"
      ],
      "text/plain": [
       "[1] \"/nas/cee-water/cjgleason/calval/Processed data/UMass/\""
      ]
     },
     "metadata": {},
     "output_type": "display_data"
    },
    {
     "name": "stdout",
     "output_type": "stream",
     "text": [
      "PD only rerun, so deleted files in directory: Munged drifts/reprocessed_2025_03_28 \n",
      "[1] \"/nas/cee-water/cjgleason/calval/cnes_watermasks/fromCNES_20230724/PD/extracteo/\"\n"
     ]
    }
   ],
   "source": [
    "Sys.umask('002')\n",
    "library(dplyr)\n",
    "# library(parallel)\n",
    "library(ncdf4)\n",
    "# library(rgdal)\n",
    "# library(stringr, lib.loc = \"/nas/cee-water/cjgleason/r-lib/\",quietly = TRUE)\n",
    "library(stringr)\n",
    "library(sf)\n",
    "\n",
    "reprocess_switch=1 #0 or 1. 1 means to recreate all reach and node products following some change in processing. \n",
    "#0 means to just append to existing dataframes\n",
    "process_PTs=1 # switch. do you want to deal with PTs and all downstream processing?\n",
    "process_airborne =0 #swtich\n",
    "\n",
    "# hubname='UNC'\n",
    "# rivername='WK'\n",
    "# continent='oc'\n",
    "# PT_key_file= 'SWOTCalVal_WK_KEY_20230331_20230507_2.csv' #WK\n",
    "# utm_zone='58 +south'#WK='58 +south'\n",
    "\n",
    "# hubname='UNC'\n",
    "# rivername='PY'\n",
    "# continent='na'\n",
    "# utm_zone=6 \n",
    "\n",
    "# hubname='UNC'\n",
    "# rivername='YR'\n",
    "# continent='na'\n",
    "# utm_zone=6 \n",
    "# # PT_key_file='SWOTCalVal_YR_KEY_20230521_20230923.csv'\n",
    "# PT_key_file='SWOTCalVal_YR_KEY_20240704_20240826.csv'\n",
    "\n",
    "# hubname='UNC'\n",
    "# rivername='TN'\n",
    "# continent='na'\n",
    "# PT_key_file= 'SWOTCalVal_TN_KEY_20230717_20230825.csv' #TN\n",
    "# utm_zone=6\n",
    "\n",
    "# hubname='CU'\n",
    "# rivername='GC'\n",
    "# continent='na'\n",
    "# utm_zone=12\n",
    "\n",
    "# hubname='CU'\n",
    "# rivername='AR'\n",
    "# continent='sa'\n",
    "# utm_zone='20 +south'\n",
    "\n",
    "# hubname='CU'\n",
    "# rivername='CU'\n",
    "# continent='na'\n",
    "# utm_zone=12\n",
    "\n",
    "# hubname='CU'\n",
    "# rivername='MK'\n",
    "# continent='na'\n",
    "# utm_zone=10\n",
    "\n",
    "# hubname='CU'\n",
    "# rivername='WM'\n",
    "# continent='na'\n",
    "# PT_key_file= c('SWOTCalVal_WM_KEY_20230326_20230510_v17b.csv',\n",
    "#               'SWOTCalVal_WM_KEY_20230509_20230601_v17b.csv',\n",
    "#               'SWOTCalVal_WM_KEY_20230601_20230801_v17b.csv',\n",
    "#               'SWOTCalVal_WM_KEY_20240109_20240320_v17b.csv')#WM\n",
    "# utm_zone=10 #WM= 10\n",
    "\n",
    "# hubname='UMass'\n",
    "# rivername='CR'\n",
    "# continent='na'\n",
    "# PT_key_file=c('SWOTCalVal_CR_KEY_20230322_20230614.csv',\n",
    "#               'SWOTCalVal_CR_KEY_20230516_20230613.csv',\n",
    "#               'SWOTCalVal_CR_KEY_20230613_20231128.csv',\n",
    "#               'SWOTCalVal_CR_KEY_20231116_20240509.csv') #CT\n",
    "# utm_zone=18 #Ct= 18\n",
    "\n",
    "hubname='UMass'\n",
    "rivername= 'PD'\n",
    "continent='na'\n",
    "PT_key_file='SWOTCalVal_PD_KEY_20230723_20230903_v17b.csv'\n",
    "utm_zone=12\n",
    "\n",
    "# hubname='UMass'\n",
    "# rivername='SG'\n",
    "# continent='na'\n",
    "# PT_key_file=c('SWOTCalVal_SG_KEY_20230624_20230831.csv',\n",
    "#               'SWOTCalVal_SG_KEY_20230628_20230704.csv') #CT\n",
    "# utm_zone=6\n",
    "\n",
    "# hubname='Brown'\n",
    "# rivername='NS'\n",
    "# continent='na'\n",
    "# PT_key_file= c('SWOTCalVal_NS_KEY_20230525_20230613.csv',\n",
    "#               'SWOTCalVal_NS_KEY_20230613_20230725.csv',\n",
    "#               'SWOTCalVal_NS_KEY_20230725_20230928.csv')\n",
    "# #WM\n",
    "# utm_zone=13 #NS= 13\n",
    "\n",
    "reach_end_buffer=500 #m, 'extends' the reach\n",
    "scale_maxwidth=5 # how many sword widths wide is each node box\n",
    "\n",
    "setwd(paste0('/nas/cee-water/cjgleason/calval/Processed data/',hubname,'/'))\n",
    "working_dir=(paste0('/nas/cee-water/cjgleason/calval/Processed data/',hubname,'/'))\n",
    "domain_file=paste0(rivername,'_domain_v17b.csv')\n",
    "paste0('/nas/cee-water/cjgleason/calval/Processed data/',hubname,'/')\n",
    "\n",
    "#PT paths---------\n",
    "PT_data_directory=paste0('/nas/cee-water/cjgleason/calval/xml_scripts/',hubname,'/Munged/')\n",
    "\n",
    "#--------------------------------------------------\n",
    "#drift paths------------------------------------------\n",
    "### Must change drift path to pull fromPODAACNetCDF - new small script to move them all to indiv hubs...###\n",
    "GNSS_drift_data_directory=paste0('From Andy/',hubname,'_netCDFs/')\n",
    "# GNSS_drift_data_directory='/nas/cee-water/cjgleason/calval/fromPODAACNetCDF/'\n",
    "if(reprocess_switch==1){\n",
    "    \n",
    "    drift_string= paste0('Munged drifts/','reprocessed_',  str_replace_all(as.character(Sys.Date()),'\\\\-','_'))\n",
    "    PT_string =paste0('Munged PT/','reprocessed_',  str_replace_all(as.character(Sys.Date()),'\\\\-','_'))\n",
    "    PT_string_flyby=paste0('Flyby PT/','reprocessed_',  str_replace_all(as.character(Sys.Date()),'\\\\-','_'))\n",
    "    reachnode_string= paste0('Data frames/','reprocessed_',  str_replace_all(as.character(Sys.Date()),'\\\\-','_'))\n",
    "    node_string =paste0('Data frames/','reprocessed_',  str_replace_all(as.character(Sys.Date()),'\\\\-','_'),'/node')\n",
    "    reach_string=paste0('Data frames/','reprocessed_',  str_replace_all(as.character(Sys.Date()),'\\\\-','_'),'/reach')\n",
    "    flagged_PT_output_directory=paste0('Flagged PT/','reprocessed_',  str_replace_all(as.character(Sys.Date()),'\\\\-','_'))\n",
    "\n",
    "    directories = c(drift_string, PT_string, PT_string_flyby, reachnode_string, node_string, reach_string, flagged_PT_output_directory)\n",
    "    match = paste0(\"_\",rivername,\"_\")\n",
    "    \n",
    "  # This should preserve other hub files when reprocessing one site (on the same day) in a hub that hosts multiple #\n",
    "    if (dir.exists(drift_string)){\n",
    "        for (dir in directories) {\n",
    "  # List all files in the current directory\n",
    "          file_list <- list.files(dir, full.names = TRUE)\n",
    "\n",
    "  # Filter files to keep only the ones that match the string\n",
    "          matching_files <- file_list[grep(match, file_list)]\n",
    "\n",
    "  # Delete the files\n",
    "          if (length(matching_files) > 0) {\n",
    "            file.remove(matching_files)\n",
    "            cat(rivername, \"only rerun, so deleted files in directory:\", dir, \"\\n\")\n",
    "            } \n",
    "        } \n",
    "  # Define directories if nothing was deleted  \n",
    "        QA_QC_drift_output_directory=paste0(drift_string,'/')\n",
    "        QA_QC_PT_output_directory=paste0(PT_string,'/')\n",
    "        QA_QC_PT_flyby_output_directory=paste0(PT_string_flyby,'/')\n",
    "        reachnode_output_directory=paste0(reachnode_string,'/')\n",
    "        flagged_PT_output_directory=paste0(flagged_PT_output_directory,'/')\n",
    "    }\n",
    "    else {\n",
    "    # #check if we've already reprocessed today\n",
    "    # if (dir.exists(drift_string)){\n",
    "    #     #if we have, then use that as the output and clear the files in the drift directory\n",
    "    #     unlink(drift_string,recursive = TRUE)\n",
    "    #     unlink(PT_string,recursive = TRUE)\n",
    "    #     unlink(flagged_PT_output_directory,recursive = TRUE)\n",
    "    #     dir.create(drift_string)\n",
    "    #     dir.create(flagged_PT_output_directory)\n",
    "    #     dir.create(PT_string)\n",
    "    #     QA_QC_drift_output_directory=paste0(drift_string,'/')\n",
    "    #     QA_QC_PT_output_directory=paste0(PT_string,'/')\n",
    "    #     reachnode_output_directory=paste0(reachnode_string,'/')\n",
    "    #     flagged_PT_output_directory=paste0(flagged_PT_output_directory,'/')\n",
    "    #     } else {\n",
    "        #if we haven't reprocessed today\n",
    "        \n",
    "        dir.create(flagged_PT_output_directory)\n",
    "    dir.create(drift_string)\n",
    "    dir.create(PT_string)\n",
    "    dir.create(PT_string_flyby)\n",
    "    dir.create(reachnode_string)\n",
    "    dir.create(node_string)\n",
    "    dir.create(reach_string)\n",
    "        \n",
    "    flagged_PT_output_directory=paste0(flagged_PT_output_directory,'/')\n",
    "    QA_QC_drift_output_directory=paste0(drift_string,'/')\n",
    "    reachnode_output_directory=paste0(reachnode_string,'/')\n",
    "    QA_QC_PT_output_directory=paste0(PT_string,'/')\n",
    "    QA_QC_PT_flyby_output_directory=paste0(PT_string_flyby,'/')\n",
    "    }\n",
    "} else { #we aren't reprocessing. find the most recent folders to use\n",
    "    \n",
    "folderlist= list.files('Munged drifts',full.names = TRUE)\n",
    "    \n",
    "foldertimes=file.info(folderlist)%>%\n",
    " mutate(mintime= Sys.time()-mtime) %>%\n",
    " filter(mintime== min(mintime)) \n",
    "    \n",
    "QA_QC_drift_output_directory=paste0(row.names(foldertimes),'/')  \n",
    "    \n",
    "folderlist2= list.files('Data frames',full.names = TRUE)\n",
    "    \n",
    "foldertimes2=file.info(folderlist2)%>%\n",
    " mutate(mintime= Sys.time()-mtime) %>%\n",
    " filter(mintime== min(mintime)) \n",
    "    \n",
    "reachnode_output_directory=paste0(row.names(foldertimes2),'/')\n",
    "    \n",
    "folderlist3= list.files('Munged PT',full.names = TRUE)\n",
    "    \n",
    "foldertimes3=file.info(folderlist3)%>%\n",
    " mutate(mintime= Sys.time()-mtime) %>%\n",
    " filter(mintime== min(mintime))  \n",
    "    \n",
    "QA_QC_PT_output_directory=paste0(row.names(foldertimes3),'/') \n",
    "    \n",
    "folderlist4= list.files('Flagged PT',full.names = TRUE)\n",
    "    \n",
    "foldertimes4=file.info(folderlist4)%>%\n",
    " mutate(mintime= Sys.time()-mtime) %>%\n",
    " filter(mintime== min(mintime))  \n",
    "    \n",
    "flagged_PT_output_directory=paste0(row.names(foldertimes4),'/') \n",
    "    \n",
    "folderlist5= list.files('Flyby PT',full.names = TRUE)\n",
    "    \n",
    "foldertimes5=file.info(folderlist5)%>%\n",
    " mutate(mintime= Sys.time()-mtime) %>%\n",
    " filter(mintime== min(mintime))  \n",
    "    \n",
    "QA_QC_PT_flyby_output_directory=paste0(row.names(foldertimes5),'/') \n",
    "}\n",
    "    \n",
    "flagged_drift_output_directory='Flagged drifts/'\n",
    "#--------------------------------------------------\n",
    "\n",
    "#sword paths----------------------------------------\n",
    "# SWORD_path=paste0('/nas/cee-water/cjgleason/calval/SWORD_15/netcdf/',continent,\n",
    "                  # '_sword_v15.nc')\n",
    "# SWORD_path=paste0('/nas/cee-water/cjgleason/data/SWORD/SWORDv16/netcdf/',continent,\n",
    "#                   '_sword_v16.nc')\n",
    "SWORD_path=paste0('/nas/cee-water/cjgleason/data/SWORD/SWORD_v17b/netcdf/na_sword_v17b.nc')\n",
    "#------------------------------\n",
    "\n",
    "image_directory=paste0('/nas/cee-water/cjgleason/calval/cnes_watermasks/fromCNES_20230724/',rivername,'/extracteo/') \n",
    "print(image_directory)"
   ]
  },
  {
   "cell_type": "code",
   "execution_count": 2,
   "id": "182da75d-65ee-4c19-8211-293f5b37826d",
   "metadata": {},
   "outputs": [
    {
     "data": {
      "text/html": [
       "'Munged drifts/reprocessed_2025_03_28/'"
      ],
      "text/latex": [
       "'Munged drifts/reprocessed\\_2025\\_03\\_28/'"
      ],
      "text/markdown": [
       "'Munged drifts/reprocessed_2025_03_28/'"
      ],
      "text/plain": [
       "[1] \"Munged drifts/reprocessed_2025_03_28/\""
      ]
     },
     "metadata": {},
     "output_type": "display_data"
    },
    {
     "data": {
      "text/html": [
       "'Munged PT/reprocessed_2025_03_28/'"
      ],
      "text/latex": [
       "'Munged PT/reprocessed\\_2025\\_03\\_28/'"
      ],
      "text/markdown": [
       "'Munged PT/reprocessed_2025_03_28/'"
      ],
      "text/plain": [
       "[1] \"Munged PT/reprocessed_2025_03_28/\""
      ]
     },
     "metadata": {},
     "output_type": "display_data"
    },
    {
     "data": {
      "text/html": [
       "'Data frames/reprocessed_2025_03_28/'"
      ],
      "text/latex": [
       "'Data frames/reprocessed\\_2025\\_03\\_28/'"
      ],
      "text/markdown": [
       "'Data frames/reprocessed_2025_03_28/'"
      ],
      "text/plain": [
       "[1] \"Data frames/reprocessed_2025_03_28/\""
      ]
     },
     "metadata": {},
     "output_type": "display_data"
    },
    {
     "data": {
      "text/html": [
       "'Flagged PT/reprocessed_2025_03_28/'"
      ],
      "text/latex": [
       "'Flagged PT/reprocessed\\_2025\\_03\\_28/'"
      ],
      "text/markdown": [
       "'Flagged PT/reprocessed_2025_03_28/'"
      ],
      "text/plain": [
       "[1] \"Flagged PT/reprocessed_2025_03_28/\""
      ]
     },
     "metadata": {},
     "output_type": "display_data"
    },
    {
     "data": {
      "text/html": [
       "'Flyby PT/reprocessed_2025_03_28/'"
      ],
      "text/latex": [
       "'Flyby PT/reprocessed\\_2025\\_03\\_28/'"
      ],
      "text/markdown": [
       "'Flyby PT/reprocessed_2025_03_28/'"
      ],
      "text/plain": [
       "[1] \"Flyby PT/reprocessed_2025_03_28/\""
      ]
     },
     "metadata": {},
     "output_type": "display_data"
    }
   ],
   "source": [
    "# QA_QC_PT_output_directory = 'Munged PT/reprocessed_2024_05_14/'\n",
    "# QA_QC_drift_output_directory ='Munged drifts/reprocessed_2024_05_14/'\n",
    "# # QA_QC_PT_output_directory='Munged PT/reprocessed_2024_04_24/'\n",
    "# reachnode_output_directory='Data frames/reprocessed_2024_05_14/'\n",
    "# flagged_PT_output_directory='Flagged PT/reprocessed_2024_05_14/'\n",
    "# QA_QC_PT_flyby_output_directory='Flyby PT/reprocessed_2024_05_14/'\n",
    "\n",
    "QA_QC_drift_output_directory\n",
    "QA_QC_PT_output_directory\n",
    "reachnode_output_directory\n",
    "flagged_PT_output_directory\n",
    "QA_QC_PT_flyby_output_directory"
   ]
  },
  {
   "cell_type": "code",
   "execution_count": 7,
   "id": "a0a500b3-6c25-40ed-8c27-103dfdd433fd",
   "metadata": {},
   "outputs": [
    {
     "name": "stdout",
     "output_type": "stream",
     "text": [
      "[1] \"Munged drifts/reprocessed_2025_03_28/SWOTCalVal_PD_GNSS_L2_Rec7_20230731T115604_20230731T180722_20231020T153935_1.csv\"\n",
      "[1] \"Munged drifts/reprocessed_2025_03_28/SWOTCalVal_PD_GNSS_L2_Rec7_20230731T115604_20230731T180722_20231020T153935_2.csv\"\n",
      "[1] \"Munged drifts/reprocessed_2025_03_28/SWOTCalVal_PD_GNSS_L2_Rec7_20230731T115604_20230731T180722_20231020T153935_3.csv\"\n",
      "[1] \"Munged drifts/reprocessed_2025_03_28/SWOTCalVal_PD_GNSS_L2_Rec7_20230802T132441_20230802T201609_20231020T151330_1.csv\"\n",
      "[1] \"Munged drifts/reprocessed_2025_03_28/SWOTCalVal_PD_GNSS_L2_Rec7_20230802T132441_20230802T201609_20231020T151330_2.csv\"\n",
      "[1] \"Munged drifts/reprocessed_2025_03_28/SWOTCalVal_PD_GNSS_L2_Rec7_20230811T131610_20230811T221517_20231020T110130_1.csv\"\n",
      "[1] \"Munged drifts/reprocessed_2025_03_28/SWOTCalVal_PD_GNSS_L2_Rec7_20230811T131610_20230811T221517_20231020T110130_2.csv\"\n",
      "[1] \"Munged drifts/reprocessed_2025_03_28/SWOTCalVal_PD_GNSS_L2_Rec7_20230811T131610_20230811T221517_20231020T110130_3.csv\"\n",
      "[1] \"Munged drifts/reprocessed_2025_03_28/SWOTCalVal_PD_GNSS_L2_Rec7_20230812T151100_20230812T231430_20231020T102951_1.csv\"\n",
      "[1] \"Munged drifts/reprocessed_2025_03_28/SWOTCalVal_PD_GNSS_L2_Rec7_20230812T151100_20230812T231430_20231020T102951_2.csv\"\n",
      "[1] \"Munged drifts/reprocessed_2025_03_28/SWOTCalVal_PD_GNSS_L2_Rec7_20230821T132021_20230821T223415_20231019T220416_1.csv\"\n",
      "[1] \"Munged drifts/reprocessed_2025_03_28/SWOTCalVal_PD_GNSS_L2_Rec7_20230821T132021_20230821T223415_20231019T220416_2.csv\"\n",
      "[1] \"Munged drifts/reprocessed_2025_03_28/SWOTCalVal_PD_GNSS_L2_Rec7_20230821T132021_20230821T223415_20231019T220416_3.csv\"\n",
      "[1] \"Munged drifts/reprocessed_2025_03_28/SWOTCalVal_PD_GNSS_L2_Rec7_20230823T131828_20230823T215730_20231019T212535_1.csv\"\n",
      "[1] \"Munged drifts/reprocessed_2025_03_28/SWOTCalVal_PD_GNSS_L2_Rec7_20230823T131828_20230823T215730_20231019T212535_2.csv\"\n",
      "[1] \"Munged drifts/reprocessed_2025_03_28/SWOTCalVal_PD_GNSS_L2_Rec7_20230823T131828_20230823T215730_20231019T212535_3.csv\"\n",
      "[1] \"Munged drifts/reprocessed_2025_03_28/SWOTCalVal_PD_GNSS_L2_Rec7_20230823T131828_20230823T215730_20231019T212535_4.csv\"\n",
      "[1] \"Munged drifts/reprocessed_2025_03_28/SWOTCalVal_PD_GNSS_L2_Rec7_20230901T130549_20230901T205112_20231019T115308_1.csv\"\n",
      "[1] \"Munged drifts/reprocessed_2025_03_28/SWOTCalVal_PD_GNSS_L2_Rec7_20230901T130549_20230901T205112_20231019T115308_2.csv\"\n",
      "[1] \"Munged drifts/reprocessed_2025_03_28/SWOTCalVal_PD_GNSS_L2_Rec7_20230902T131424_20230902T235515_20231019T105244_1.csv\"\n",
      "[1] \"Munged drifts/reprocessed_2025_03_28/SWOTCalVal_PD_GNSS_L2_Rec7_20230902T131424_20230902T235515_20231019T105244_2.csv\"\n"
     ]
    }
   ],
   "source": [
    "# #create dataframes from drifts---------------------------------------------------------\n",
    "# #pull filename before the .csv\n",
    "source('/nas/cee-water/cjgleason/calval_toolbox/R code/create_GNSS_dataframe.R')\n",
    "raw_GNSS=sub( \"\\\\..*\",\"\", list.files(GNSS_drift_data_directory,recursive=TRUE))\n",
    "raw_GNSS_river=which(!is.na(do.call(rbind,lapply(raw_GNSS,str_match,rivername)))) #NS doesn't work for NS? where are we getting latest version date also?\n",
    "raw_GNSS=raw_GNSS[raw_GNSS_river]\n",
    "\n",
    "  #there are 'bad' files within the GNSS xml folders that we do not want to bring in, so filter by version date.\n",
    "  # positions 6 and 7 are the start and end of the data\n",
    "  # position 8 is the repro date- we want the most recent repro\n",
    "  parse_gnss=function(gnss_file){\n",
    "    splitter= strsplit(gnss_file,'_')\n",
    "    first_two_dates=paste(splitter[[1]][6],splitter[[1]][7],sep=\"_\")\n",
    "    \n",
    "    #the standard date format has an 'nT' character in the middle of thedates\n",
    "    third_date=as.POSIXct(paste0(substring(splitter[[1]][8],1,8),\n",
    "                                 substring(splitter[[1]][8],10,15) ),\n",
    "                          format='%Y%m%d%H%M%S')\n",
    "    # tp=splitter[[1]][[12]]\n",
    "    return(data.frame(cbind(keystring=paste(first_two_dates),third_date)))\n",
    "  }\n",
    "  \n",
    "  \n",
    "  \n",
    "  gnss_index=do.call(rbind,lapply(raw_GNSS,parse_gnss))%>%\n",
    "    #this is implicit, so when we filter things we'll mess up the order. \n",
    "    #add an index favlue\n",
    "    mutate(gnss_file_index=1:nrow(.))%>%\n",
    "    group_by(keystring)%>%\n",
    "    filter(third_date==max(third_date))\n",
    "  \n",
    " \n",
    "  #remove old files\n",
    "  raw_GNSS=raw_GNSS[gnss_index$gnss_file_index]\n",
    "\n",
    "#pull filename before the second _\n",
    "QA_QC_drifts=sub( \"\\\\..*\",\"\",list.files(QA_QC_drift_output_directory))\n",
    "flagged_drifts=sub(\"\\\\..*\",\"\",list.files(flagged_drift_output_directory))\n",
    "\n",
    "#what raw drift data have not been munged\n",
    "unmunged_drifts=setdiff(raw_GNSS,c(flagged_drifts,QA_QC_drifts))\n",
    "\n",
    "# key_col_names = c(\"PT_Serial\", \"Label\", \"Baro_Comp\", \"Node_ID\", \"Reach_ID\", \"US_Reach_ID\", \n",
    "#                       \"DS_Reach_ID\", \"Lat_WGS84\", \"Long_WGS84\", \"Install_method\",\n",
    "#                       \"Date_PT_Install\", \"Time_PT_Install_UTC\", \"Date_PT_Uninstall\",\n",
    "#                       \"Time_PT_Uninstall_UTC\", \"Date_GNSS_Install\", \"Time_GNSS_Install_Start_UTC\", \n",
    "#                       \"Time_GNSS_Install_End_UTC\", \"GNSS_Offset_m\", \"Receiver_Install\", \"Original_Install_Log_File\", \n",
    "#                       \"Final_Install_Log_File\", \"Date_GNSS_Uninstall\", \"Time_GNSS_Uninstall_Start_UTC\", \n",
    "#                       \"Time_GNSS_Uninstall_End_UTC\", \"Receiver_Uninstall\", \"Original_Uninstall_Log_File\", \"Final_Uninstall_Log_File\",\n",
    "#                       \"keyid\", \"pt_serial\")\n",
    "#open the key files   \n",
    "if(rivername=='KK'){\n",
    "read_keys=function(keyfile){\n",
    "   this_key= read.csv(keyfile,stringsAsFactors=FALSE, col.names = key_col_names, na.strings = c(\"\",\"NA\",\"na\",\"NaN\", \" \"))%>%\n",
    "    mutate(keyid=keyfile)%>%\n",
    "    mutate(pt_serial=as.integer(PT_Serial))\n",
    "    }\n",
    "\n",
    "master_key= do.call(rbind,lapply(PT_key_file,read_keys))}else {master_key=NULL}\n",
    "\n",
    "for (i in 1:length(unmunged_drifts)){\n",
    "create_gnss_dataframe(unmunged_drifts[i],\n",
    "                  gnss_drift_data_directory=GNSS_drift_data_directory,\n",
    "                  output_directory=QA_QC_drift_output_directory,\n",
    "                  keyfile= master_key,\n",
    "                  rivername=  rivername,\n",
    "                naughty_bin_directory=flagged_drift_output_directory )}\n",
    "\n",
    "\n",
    "#     cl=makeCluster(44)\n",
    "\n",
    "    \n",
    "#   dummy=parLapply(cl=cl,unmunged_drifts,create_gnss_dataframe,\n",
    "#                   gnss_drift_data_directory=GNSS_drift_data_directory,\n",
    "#                   output_directory=QA_QC_drift_output_directory)\n",
    "#   stopCluster(cl)\n",
    "\n",
    "\n",
    "#-------------------------------------------------"
   ]
  },
  {
   "cell_type": "code",
   "execution_count": 8,
   "id": "bf321a73-cf83-4d68-865f-2783e5f30ed2",
   "metadata": {},
   "outputs": [
    {
     "name": "stdout",
     "output_type": "stream",
     "text": [
      "[1] \"Key file column names are of equal length\"\n",
      "[1] \"Key file passes QA/QC checks\"\n",
      "[1] \"/nas/cee-water/cjgleason/calval/xml_scripts/UMass/Munged/Munged__20231120/SWOTCalVal_PD_PT_L1_PT301_20230723T120000_20230903T013000_20231120T175506.csv\"\n",
      "[1] \"Date is good\"\n",
      "[1] \"Date is in correct format\"\n",
      "[1] \"Data are 15 min\"\n"
     ]
    },
    {
     "name": "stderr",
     "output_type": "stream",
     "text": [
      "\u001b[1m\u001b[22m`summarise()` has grouped output by 'occupy_id'. You can override using the\n",
      "`.groups` argument.\n"
     ]
    },
    {
     "name": "stdout",
     "output_type": "stream",
     "text": [
      "[1] \"SWOTCalVal_PD_PT_L1_PT301_20230723T120000_20230903T013000_20231120T175506_SWOTCalVal_PD_KEY_20230723_20230903_v17b.csv\"\n",
      "[1] \"this file passed all checks\"\n",
      "[1] \"/nas/cee-water/cjgleason/calval/xml_scripts/UMass/Munged/Munged__20231120/SWOTCalVal_PD_PT_L1_PT303_20230723T120000_20230904T033000_20231120T175506.csv\"\n",
      "[1] \"Date is good\"\n",
      "[1] \"Date is in correct format\"\n",
      "[1] \"Data are 15 min\"\n"
     ]
    },
    {
     "name": "stderr",
     "output_type": "stream",
     "text": [
      "\u001b[1m\u001b[22m`summarise()` has grouped output by 'occupy_id'. You can override using the\n",
      "`.groups` argument.\n"
     ]
    },
    {
     "name": "stdout",
     "output_type": "stream",
     "text": [
      "[1] \"SWOTCalVal_PD_PT_L1_PT303_20230723T120000_20230904T033000_20231120T175506_SWOTCalVal_PD_KEY_20230723_20230903_v17b.csv\"\n",
      "[1] \"this file passed all checks\"\n",
      "[1] \"/nas/cee-water/cjgleason/calval/xml_scripts/UMass/Munged/Munged__20231120/SWOTCalVal_PD_PT_L1_PT304_20230723T120000_20230903T013000_20231120T175506.csv\"\n",
      "[1] \"Date is good\"\n",
      "[1] \"Date is in correct format\"\n",
      "[1] \"Data are 15 min\"\n"
     ]
    },
    {
     "name": "stderr",
     "output_type": "stream",
     "text": [
      "\u001b[1m\u001b[22m`summarise()` has grouped output by 'occupy_id'. You can override using the\n",
      "`.groups` argument.\n"
     ]
    },
    {
     "name": "stdout",
     "output_type": "stream",
     "text": [
      "[1] \"SWOTCalVal_PD_PT_L1_PT304_20230723T120000_20230903T013000_20231120T175506_SWOTCalVal_PD_KEY_20230723_20230903_v17b.csv\"\n",
      "[1] \"this file passed all checks\"\n",
      "[1] \"/nas/cee-water/cjgleason/calval/xml_scripts/UMass/Munged/Munged__20231120/SWOTCalVal_PD_PT_L1_PT305_20230723T120000_20230903T013000_20231120T175506.csv\"\n",
      "[1] \"Date is good\"\n",
      "[1] \"Date is in correct format\"\n",
      "[1] \"Data are 15 min\"\n"
     ]
    },
    {
     "name": "stderr",
     "output_type": "stream",
     "text": [
      "\u001b[1m\u001b[22m`summarise()` has grouped output by 'occupy_id'. You can override using the\n",
      "`.groups` argument.\n"
     ]
    },
    {
     "name": "stdout",
     "output_type": "stream",
     "text": [
      "[1] \"SWOTCalVal_PD_PT_L1_PT305_20230723T120000_20230903T013000_20231120T175506_SWOTCalVal_PD_KEY_20230723_20230903_v17b.csv\"\n",
      "[1] \"this file passed all checks\"\n",
      "[1] \"/nas/cee-water/cjgleason/calval/xml_scripts/UMass/Munged/Munged__20231120/SWOTCalVal_PD_PT_L1_PT306_20230723T120000_20230903T014500_20231120T175506.csv\"\n",
      "[1] \"Date is good\"\n",
      "[1] \"Date is in correct format\"\n",
      "[1] \"Data are 15 min\"\n"
     ]
    },
    {
     "name": "stderr",
     "output_type": "stream",
     "text": [
      "\u001b[1m\u001b[22m`summarise()` has grouped output by 'occupy_id'. You can override using the\n",
      "`.groups` argument.\n"
     ]
    },
    {
     "name": "stdout",
     "output_type": "stream",
     "text": [
      "[1] \"SWOTCalVal_PD_PT_L1_PT306_20230723T120000_20230903T014500_20231120T175506_SWOTCalVal_PD_KEY_20230723_20230903_v17b.csv\"\n",
      "[1] \"this file passed all checks\"\n",
      "[1] \"/nas/cee-water/cjgleason/calval/xml_scripts/UMass/Munged/Munged__20231120/SWOTCalVal_PD_PT_L1_PT307_20230723T120000_20230903T011500_20231120T175506.csv\"\n",
      "[1] \"Date is good\"\n",
      "[1] \"Date is in correct format\"\n",
      "[1] \"Data are 15 min\"\n"
     ]
    },
    {
     "name": "stderr",
     "output_type": "stream",
     "text": [
      "\u001b[1m\u001b[22m`summarise()` has grouped output by 'occupy_id'. You can override using the\n",
      "`.groups` argument.\n"
     ]
    },
    {
     "name": "stdout",
     "output_type": "stream",
     "text": [
      "[1] \"SWOTCalVal_PD_PT_L1_PT307_20230723T120000_20230903T011500_20231120T175506_SWOTCalVal_PD_KEY_20230723_20230903_v17b.csv\"\n",
      "[1] \"this file passed all checks\"\n",
      "[1] \"/nas/cee-water/cjgleason/calval/xml_scripts/UMass/Munged/Munged__20231120/SWOTCalVal_PD_PT_L1_PT309_20230723T120000_20230904T030000_20231120T175506.csv\"\n",
      "[1] \"Date is good\"\n",
      "[1] \"Date is in correct format\"\n",
      "[1] \"Data are 15 min\"\n"
     ]
    },
    {
     "name": "stderr",
     "output_type": "stream",
     "text": [
      "\u001b[1m\u001b[22m`summarise()` has grouped output by 'occupy_id'. You can override using the\n",
      "`.groups` argument.\n"
     ]
    },
    {
     "name": "stdout",
     "output_type": "stream",
     "text": [
      "[1] \"SWOTCalVal_PD_PT_L1_PT309_20230723T120000_20230904T030000_20231120T175506_SWOTCalVal_PD_KEY_20230723_20230903_v17b.csv\"\n",
      "[1] \"this file passed all checks\"\n",
      "[1] \"/nas/cee-water/cjgleason/calval/xml_scripts/UMass/Munged/Munged__20231120/SWOTCalVal_PD_PT_L1_PT310_20230723T120000_20230904T031500_20231120T175506.csv\"\n",
      "[1] \"Date is good\"\n",
      "[1] \"Date is in correct format\"\n",
      "[1] \"Data are 15 min\"\n"
     ]
    },
    {
     "name": "stderr",
     "output_type": "stream",
     "text": [
      "\u001b[1m\u001b[22m`summarise()` has grouped output by 'occupy_id'. You can override using the\n",
      "`.groups` argument.\n"
     ]
    },
    {
     "name": "stdout",
     "output_type": "stream",
     "text": [
      "[1] \"SWOTCalVal_PD_PT_L1_PT310_20230723T120000_20230904T031500_20231120T175506_SWOTCalVal_PD_KEY_20230723_20230903_v17b.csv\"\n",
      "[1] \"this file passed all checks\"\n",
      "[1] \"/nas/cee-water/cjgleason/calval/xml_scripts/UMass/Munged/Munged__20231120/SWOTCalVal_PD_PT_L1_PT311_20230723T120000_20230904T031500_20231120T175507.csv\"\n",
      "[1] \"Date is good\"\n",
      "[1] \"Date is in correct format\"\n",
      "[1] \"Data are 15 min\"\n"
     ]
    },
    {
     "name": "stderr",
     "output_type": "stream",
     "text": [
      "\u001b[1m\u001b[22m`summarise()` has grouped output by 'occupy_id'. You can override using the\n",
      "`.groups` argument.\n"
     ]
    },
    {
     "name": "stdout",
     "output_type": "stream",
     "text": [
      "[1] \"SWOTCalVal_PD_PT_L1_PT311_20230723T120000_20230904T031500_20231120T175507_SWOTCalVal_PD_KEY_20230723_20230903_v17b.csv\"\n",
      "[1] \"this file passed all checks\"\n",
      "[1] \"/nas/cee-water/cjgleason/calval/xml_scripts/UMass/Munged/Munged__20231120/SWOTCalVal_PD_PT_L1_PT312_20230723T120000_20230904T031500_20231120T175507.csv\"\n",
      "[1] \"Date is good\"\n",
      "[1] \"Date is in correct format\"\n",
      "[1] \"Data are 15 min\"\n"
     ]
    },
    {
     "name": "stderr",
     "output_type": "stream",
     "text": [
      "\u001b[1m\u001b[22m`summarise()` has grouped output by 'occupy_id'. You can override using the\n",
      "`.groups` argument.\n"
     ]
    },
    {
     "name": "stdout",
     "output_type": "stream",
     "text": [
      "[1] \"SWOTCalVal_PD_PT_L1_PT312_20230723T120000_20230904T031500_20231120T175507_SWOTCalVal_PD_KEY_20230723_20230903_v17b.csv\"\n",
      "[1] \"this file passed all checks\"\n",
      "[1] \"/nas/cee-water/cjgleason/calval/xml_scripts/UMass/Munged/Munged__20231120/SWOTCalVal_PD_PT_L1_PT313_20230723T120000_20230904T031500_20231120T175507.csv\"\n",
      "[1] \"Date is good\"\n",
      "[1] \"Date is in correct format\"\n",
      "[1] \"Data are 15 min\"\n"
     ]
    },
    {
     "name": "stderr",
     "output_type": "stream",
     "text": [
      "\u001b[1m\u001b[22m`summarise()` has grouped output by 'occupy_id'. You can override using the\n",
      "`.groups` argument.\n"
     ]
    },
    {
     "name": "stdout",
     "output_type": "stream",
     "text": [
      "[1] \"SWOTCalVal_PD_PT_L1_PT313_20230723T120000_20230904T031500_20231120T175507_SWOTCalVal_PD_KEY_20230723_20230903_v17b.csv\"\n",
      "[1] \"this file passed all checks\"\n",
      "[1] \"/nas/cee-water/cjgleason/calval/xml_scripts/UMass/Munged/Munged__20231120/SWOTCalVal_PD_PT_L1_PT314_20230723T120000_20230904T024500_20231120T175507.csv\"\n",
      "[1] \"Date is good\"\n",
      "[1] \"Date is in correct format\"\n",
      "[1] \"Data are 15 min\"\n"
     ]
    },
    {
     "name": "stderr",
     "output_type": "stream",
     "text": [
      "\u001b[1m\u001b[22m`summarise()` has grouped output by 'occupy_id'. You can override using the\n",
      "`.groups` argument.\n"
     ]
    },
    {
     "name": "stdout",
     "output_type": "stream",
     "text": [
      "[1] \"SWOTCalVal_PD_PT_L1_PT314_20230723T120000_20230904T024500_20231120T175507_SWOTCalVal_PD_KEY_20230723_20230903_v17b.csv\"\n",
      "[1] \"this file passed all checks\"\n",
      "[1] \"/nas/cee-water/cjgleason/calval/xml_scripts/UMass/Munged/Munged__20231120/SWOTCalVal_PD_PT_L1_PT315_20230723T120000_20230904T030000_20231120T175507.csv\"\n",
      "[1] \"Date is good\"\n",
      "[1] \"Date is in correct format\"\n",
      "[1] \"Data are 15 min\"\n"
     ]
    },
    {
     "name": "stderr",
     "output_type": "stream",
     "text": [
      "\u001b[1m\u001b[22m`summarise()` has grouped output by 'occupy_id'. You can override using the\n",
      "`.groups` argument.\n"
     ]
    },
    {
     "name": "stdout",
     "output_type": "stream",
     "text": [
      "[1] \"SWOTCalVal_PD_PT_L1_PT315_20230723T120000_20230904T030000_20231120T175507_SWOTCalVal_PD_KEY_20230723_20230903_v17b.csv\"\n",
      "[1] \"this file passed all checks\"\n",
      "[1] \"/nas/cee-water/cjgleason/calval/xml_scripts/UMass/Munged/Munged__20231120/SWOTCalVal_PD_PT_L1_PT316_20230723T120000_20230904T033000_20231120T175507.csv\"\n",
      "[1] \"Date is good\"\n",
      "[1] \"Date is in correct format\"\n",
      "[1] \"Data are 15 min\"\n"
     ]
    },
    {
     "name": "stderr",
     "output_type": "stream",
     "text": [
      "\u001b[1m\u001b[22m`summarise()` has grouped output by 'occupy_id'. You can override using the\n",
      "`.groups` argument.\n"
     ]
    },
    {
     "name": "stdout",
     "output_type": "stream",
     "text": [
      "[1] \"SWOTCalVal_PD_PT_L1_PT316_20230723T120000_20230904T033000_20231120T175507_SWOTCalVal_PD_KEY_20230723_20230903_v17b.csv\"\n",
      "[1] \"this file passed all checks\"\n",
      "[1] \"/nas/cee-water/cjgleason/calval/xml_scripts/UMass/Munged/Munged__20231120/SWOTCalVal_PD_PT_L1_PT317_20230723T120000_20230904T030000_20231120T175507.csv\"\n",
      "[1] \"Date is good\"\n",
      "[1] \"Date is in correct format\"\n",
      "[1] \"Data are 15 min\"\n"
     ]
    },
    {
     "name": "stderr",
     "output_type": "stream",
     "text": [
      "\u001b[1m\u001b[22m`summarise()` has grouped output by 'occupy_id'. You can override using the\n",
      "`.groups` argument.\n"
     ]
    },
    {
     "name": "stdout",
     "output_type": "stream",
     "text": [
      "[1] \"SWOTCalVal_PD_PT_L1_PT317_20230723T120000_20230904T030000_20231120T175507_SWOTCalVal_PD_KEY_20230723_20230903_v17b.csv\"\n",
      "[1] \"this file passed all checks\"\n",
      "[1] \"/nas/cee-water/cjgleason/calval/xml_scripts/UMass/Munged/Munged__20231120/SWOTCalVal_PD_PT_L1_PT319_20230723T120000_20230904T031500_20231120T175507.csv\"\n",
      "[1] \"Date is good\"\n",
      "[1] \"Date is in correct format\"\n",
      "[1] \"Data are 15 min\"\n"
     ]
    },
    {
     "name": "stderr",
     "output_type": "stream",
     "text": [
      "\u001b[1m\u001b[22m`summarise()` has grouped output by 'occupy_id'. You can override using the\n",
      "`.groups` argument.\n"
     ]
    },
    {
     "name": "stdout",
     "output_type": "stream",
     "text": [
      "[1] \"SWOTCalVal_PD_PT_L1_PT319_20230723T120000_20230904T031500_20231120T175507_SWOTCalVal_PD_KEY_20230723_20230903_v17b.csv\"\n",
      "[1] \"this file passed all checks\"\n",
      "[1] \"/nas/cee-water/cjgleason/calval/xml_scripts/UMass/Munged/Munged__20231120/SWOTCalVal_PD_PT_L1_PT320_20230723T120000_20230904T030000_20231120T175507.csv\"\n",
      "[1] \"Date is good\"\n",
      "[1] \"Date is in correct format\"\n",
      "[1] \"Data are 15 min\"\n"
     ]
    },
    {
     "name": "stderr",
     "output_type": "stream",
     "text": [
      "\u001b[1m\u001b[22m`summarise()` has grouped output by 'occupy_id'. You can override using the\n",
      "`.groups` argument.\n"
     ]
    },
    {
     "name": "stdout",
     "output_type": "stream",
     "text": [
      "[1] \"SWOTCalVal_PD_PT_L1_PT320_20230723T120000_20230904T030000_20231120T175507_SWOTCalVal_PD_KEY_20230723_20230903_v17b.csv\"\n",
      "[1] \"this file passed all checks\"\n",
      "[1] \"/nas/cee-water/cjgleason/calval/xml_scripts/UMass/Munged/Munged__20231120/SWOTCalVal_PD_PT_L1_PT321_20230723T120000_20230904T030000_20231120T175507.csv\"\n",
      "[1] \"Date is good\"\n",
      "[1] \"Date is in correct format\"\n",
      "[1] \"Data are 15 min\"\n"
     ]
    },
    {
     "name": "stderr",
     "output_type": "stream",
     "text": [
      "\u001b[1m\u001b[22m`summarise()` has grouped output by 'occupy_id'. You can override using the\n",
      "`.groups` argument.\n"
     ]
    },
    {
     "name": "stdout",
     "output_type": "stream",
     "text": [
      "[1] \"SWOTCalVal_PD_PT_L1_PT321_20230723T120000_20230904T030000_20231120T175507_SWOTCalVal_PD_KEY_20230723_20230903_v17b.csv\"\n",
      "[1] \"this file passed all checks\"\n",
      "[1] \"/nas/cee-water/cjgleason/calval/xml_scripts/UMass/Munged/Munged__20231120/SWOTCalVal_PD_PT_L1_PT322_20230723T120000_20230904T030000_20231120T175507.csv\"\n",
      "[1] \"Date is good\"\n",
      "[1] \"Date is in correct format\"\n",
      "[1] \"Data are 15 min\"\n"
     ]
    },
    {
     "name": "stderr",
     "output_type": "stream",
     "text": [
      "\u001b[1m\u001b[22m`summarise()` has grouped output by 'occupy_id'. You can override using the\n",
      "`.groups` argument.\n"
     ]
    },
    {
     "name": "stdout",
     "output_type": "stream",
     "text": [
      "[1] \"SWOTCalVal_PD_PT_L1_PT322_20230723T120000_20230904T030000_20231120T175507_SWOTCalVal_PD_KEY_20230723_20230903_v17b.csv\"\n",
      "[1] \"this file passed all checks\"\n",
      "[1] \"/nas/cee-water/cjgleason/calval/xml_scripts/UMass/Munged/Munged__20231120/SWOTCalVal_PD_PT_L1_PT323_20230723T120000_20230904T033000_20231120T175507.csv\"\n",
      "[1] \"Date is good\"\n",
      "[1] \"Date is in correct format\"\n",
      "[1] \"Data are 15 min\"\n"
     ]
    },
    {
     "name": "stderr",
     "output_type": "stream",
     "text": [
      "\u001b[1m\u001b[22m`summarise()` has grouped output by 'occupy_id'. You can override using the\n",
      "`.groups` argument.\n"
     ]
    },
    {
     "name": "stdout",
     "output_type": "stream",
     "text": [
      "[1] \"SWOTCalVal_PD_PT_L1_PT323_20230723T120000_20230904T033000_20231120T175507_SWOTCalVal_PD_KEY_20230723_20230903_v17b.csv\"\n",
      "[1] \"this file passed all checks\"\n",
      "[1] \"/nas/cee-water/cjgleason/calval/xml_scripts/UMass/Munged/Munged__20231120/SWOTCalVal_PD_PT_L1_PT324_20230723T120000_20230904T024500_20231120T175507.csv\"\n",
      "[1] \"Date is good\"\n",
      "[1] \"Date is in correct format\"\n",
      "[1] \"Data are 15 min\"\n"
     ]
    },
    {
     "name": "stderr",
     "output_type": "stream",
     "text": [
      "Warning message in left_join(., keyfile, by = \"pt_serial\"):\n",
      "“\u001b[1m\u001b[22mDetected an unexpected many-to-many relationship between `x` and `y`.\n",
      "\u001b[36mℹ\u001b[39m Row 1 of `x` matches multiple rows in `y`.\n",
      "\u001b[36mℹ\u001b[39m Row 1 of `y` matches multiple rows in `x`.\n",
      "\u001b[36mℹ\u001b[39m If a many-to-many relationship is expected, set `relationship =\n",
      "  \"many-to-many\"` to silence this warning.”\n",
      "\u001b[1m\u001b[22m`summarise()` has grouped output by 'occupy_id'. You can override using the\n",
      "`.groups` argument.\n"
     ]
    },
    {
     "name": "stdout",
     "output_type": "stream",
     "text": [
      "[1] \"SWOTCalVal_PD_PT_L1_PT324_20230723T120000_20230904T024500_20231120T175507_SWOTCalVal_PD_KEY_20230723_20230903_v17b.csv\"\n",
      "[1] \"this file passed all checks\"\n",
      "[1] \"/nas/cee-water/cjgleason/calval/xml_scripts/UMass/Munged/Munged__20231120/SWOTCalVal_PD_PT_L1_PT325_20230723T120000_20230904T030000_20231120T175507.csv\"\n",
      "[1] \"Date is good\"\n",
      "[1] \"Date is in correct format\"\n",
      "[1] \"Data are 15 min\"\n"
     ]
    },
    {
     "name": "stderr",
     "output_type": "stream",
     "text": [
      "Warning message in left_join(., keyfile, by = \"pt_serial\"):\n",
      "“\u001b[1m\u001b[22mDetected an unexpected many-to-many relationship between `x` and `y`.\n",
      "\u001b[36mℹ\u001b[39m Row 1 of `x` matches multiple rows in `y`.\n",
      "\u001b[36mℹ\u001b[39m Row 1 of `y` matches multiple rows in `x`.\n",
      "\u001b[36mℹ\u001b[39m If a many-to-many relationship is expected, set `relationship =\n",
      "  \"many-to-many\"` to silence this warning.”\n",
      "\u001b[1m\u001b[22m`summarise()` has grouped output by 'occupy_id'. You can override using the\n",
      "`.groups` argument.\n"
     ]
    },
    {
     "name": "stdout",
     "output_type": "stream",
     "text": [
      "[1] \"SWOTCalVal_PD_PT_L1_PT325_20230723T120000_20230904T030000_20231120T175507_SWOTCalVal_PD_KEY_20230723_20230903_v17b.csv\"\n",
      "[1] \"this file passed all checks\"\n",
      "[1] \"/nas/cee-water/cjgleason/calval/xml_scripts/UMass/Munged/Munged__20231120/SWOTCalVal_PD_PT_L1_PT326_20230723T120000_20230904T033000_20231120T175507.csv\"\n",
      "[1] \"Date is good\"\n",
      "[1] \"Date is in correct format\"\n",
      "[1] \"Data are 15 min\"\n"
     ]
    },
    {
     "name": "stderr",
     "output_type": "stream",
     "text": [
      "\u001b[1m\u001b[22m`summarise()` has grouped output by 'occupy_id'. You can override using the\n",
      "`.groups` argument.\n"
     ]
    },
    {
     "name": "stdout",
     "output_type": "stream",
     "text": [
      "[1] \"SWOTCalVal_PD_PT_L1_PT326_20230723T120000_20230904T033000_20231120T175507_SWOTCalVal_PD_KEY_20230723_20230903_v17b.csv\"\n",
      "[1] \"this file passed all checks\"\n",
      "[1] \"/nas/cee-water/cjgleason/calval/xml_scripts/UMass/Munged/Munged__20231120/SWOTCalVal_PD_PT_L1_PT327_20230723T120000_20230904T031500_20231120T175507.csv\"\n",
      "[1] \"Date is good\"\n",
      "[1] \"Date is in correct format\"\n",
      "[1] \"Data are 15 min\"\n"
     ]
    },
    {
     "name": "stderr",
     "output_type": "stream",
     "text": [
      "\u001b[1m\u001b[22m`summarise()` has grouped output by 'occupy_id'. You can override using the\n",
      "`.groups` argument.\n"
     ]
    },
    {
     "name": "stdout",
     "output_type": "stream",
     "text": [
      "[1] \"SWOTCalVal_PD_PT_L1_PT327_20230723T120000_20230904T031500_20231120T175507_SWOTCalVal_PD_KEY_20230723_20230903_v17b.csv\"\n",
      "[1] \"this file passed all checks\"\n",
      "[1] \"/nas/cee-water/cjgleason/calval/xml_scripts/UMass/Munged/Munged__20231120/SWOTCalVal_PD_PT_L1_PT328_20230723T120000_20230904T033000_20231120T175508.csv\"\n",
      "[1] \"Date is good\"\n",
      "[1] \"Date is in correct format\"\n",
      "[1] \"Data are 15 min\"\n"
     ]
    },
    {
     "name": "stderr",
     "output_type": "stream",
     "text": [
      "\u001b[1m\u001b[22m`summarise()` has grouped output by 'occupy_id'. You can override using the\n",
      "`.groups` argument.\n"
     ]
    },
    {
     "name": "stdout",
     "output_type": "stream",
     "text": [
      "[1] \"SWOTCalVal_PD_PT_L1_PT328_20230723T120000_20230904T033000_20231120T175508_SWOTCalVal_PD_KEY_20230723_20230903_v17b.csv\"\n",
      "[1] \"this file passed all checks\"\n",
      "[1] \"/nas/cee-water/cjgleason/calval/xml_scripts/UMass/Munged/Munged__20231120/SWOTCalVal_PD_PT_L1_PT329_20230723T120000_20230904T030000_20231120T175508.csv\"\n",
      "[1] \"Date is good\"\n",
      "[1] \"Date is in correct format\"\n",
      "[1] \"Data are 15 min\"\n"
     ]
    },
    {
     "name": "stderr",
     "output_type": "stream",
     "text": [
      "\u001b[1m\u001b[22m`summarise()` has grouped output by 'occupy_id'. You can override using the\n",
      "`.groups` argument.\n"
     ]
    },
    {
     "name": "stdout",
     "output_type": "stream",
     "text": [
      "[1] \"SWOTCalVal_PD_PT_L1_PT329_20230723T120000_20230904T030000_20231120T175508_SWOTCalVal_PD_KEY_20230723_20230903_v17b.csv\"\n",
      "[1] \"this file passed all checks\"\n",
      "[1] \"/nas/cee-water/cjgleason/calval/xml_scripts/UMass/Munged/Munged__20231120/SWOTCalVal_PD_PT_L1_PT330_20230723T120000_20230904T033000_20231120T175507.csv\"\n",
      "[1] \"Date is good\"\n",
      "[1] \"Date is in correct format\"\n",
      "[1] \"Data are 15 min\"\n"
     ]
    },
    {
     "name": "stderr",
     "output_type": "stream",
     "text": [
      "\u001b[1m\u001b[22m`summarise()` has grouped output by 'occupy_id'. You can override using the\n",
      "`.groups` argument.\n"
     ]
    },
    {
     "name": "stdout",
     "output_type": "stream",
     "text": [
      "[1] \"SWOTCalVal_PD_PT_L1_PT330_20230723T120000_20230904T033000_20231120T175507_SWOTCalVal_PD_KEY_20230723_20230903_v17b.csv\"\n",
      "[1] \"this file passed all checks\"\n",
      "[1] \"/nas/cee-water/cjgleason/calval/xml_scripts/UMass/Munged/Munged__20231120/SWOTCalVal_PD_PT_L1_PT331_20230723T120000_20230904T031500_20231120T175508.csv\"\n",
      "[1] \"Date is good\"\n",
      "[1] \"Date is in correct format\"\n",
      "[1] \"Data are 15 min\"\n"
     ]
    },
    {
     "name": "stderr",
     "output_type": "stream",
     "text": [
      "\u001b[1m\u001b[22m`summarise()` has grouped output by 'occupy_id'. You can override using the\n",
      "`.groups` argument.\n"
     ]
    },
    {
     "name": "stdout",
     "output_type": "stream",
     "text": [
      "[1] \"SWOTCalVal_PD_PT_L1_PT331_20230723T120000_20230904T031500_20231120T175508_SWOTCalVal_PD_KEY_20230723_20230903_v17b.csv\"\n",
      "[1] \"this file passed all checks\"\n",
      "[1] \"/nas/cee-water/cjgleason/calval/xml_scripts/UMass/Munged/Munged__20231120/SWOTCalVal_PD_PT_L1_PT332_20230723T120000_20230903T014500_20231120T175508.csv\"\n",
      "[1] \"Date is good\"\n",
      "[1] \"Date is in correct format\"\n",
      "[1] \"Data are 15 min\"\n"
     ]
    },
    {
     "name": "stderr",
     "output_type": "stream",
     "text": [
      "\u001b[1m\u001b[22m`summarise()` has grouped output by 'occupy_id'. You can override using the\n",
      "`.groups` argument.\n"
     ]
    },
    {
     "name": "stdout",
     "output_type": "stream",
     "text": [
      "[1] \"SWOTCalVal_PD_PT_L1_PT332_20230723T120000_20230903T014500_20231120T175508_SWOTCalVal_PD_KEY_20230723_20230903_v17b.csv\"\n",
      "[1] \"this file passed all checks\"\n",
      "[1] \"/nas/cee-water/cjgleason/calval/xml_scripts/UMass/Munged/Munged__20231120/SWOTCalVal_PD_PT_L1_PT333_20230723T120000_20230904T031500_20231120T175508.csv\"\n",
      "[1] \"Date is good\"\n",
      "[1] \"Date is in correct format\"\n",
      "[1] \"Data are 15 min\"\n"
     ]
    },
    {
     "name": "stderr",
     "output_type": "stream",
     "text": [
      "\u001b[1m\u001b[22m`summarise()` has grouped output by 'occupy_id'. You can override using the\n",
      "`.groups` argument.\n"
     ]
    },
    {
     "name": "stdout",
     "output_type": "stream",
     "text": [
      "[1] \"SWOTCalVal_PD_PT_L1_PT333_20230723T120000_20230904T031500_20231120T175508_SWOTCalVal_PD_KEY_20230723_20230903_v17b.csv\"\n",
      "[1] \"this file passed all checks\"\n",
      "[1] \"/nas/cee-water/cjgleason/calval/xml_scripts/UMass/Munged/Munged__20231120/SWOTCalVal_PD_PT_L1_PT334_20230723T120000_20230904T031500_20231120T175508.csv\"\n",
      "[1] \"Date is good\"\n",
      "[1] \"Date is in correct format\"\n",
      "[1] \"Data are 15 min\"\n"
     ]
    },
    {
     "name": "stderr",
     "output_type": "stream",
     "text": [
      "\u001b[1m\u001b[22m`summarise()` has grouped output by 'occupy_id'. You can override using the\n",
      "`.groups` argument.\n"
     ]
    },
    {
     "name": "stdout",
     "output_type": "stream",
     "text": [
      "[1] \"SWOTCalVal_PD_PT_L1_PT334_20230723T120000_20230904T031500_20231120T175508_SWOTCalVal_PD_KEY_20230723_20230903_v17b.csv\"\n",
      "[1] \"this file passed all checks\"\n",
      "[1] \"/nas/cee-water/cjgleason/calval/xml_scripts/UMass/Munged/Munged__20231120/SWOTCalVal_PD_PT_L1_PT335_20230722T201330_20230904T024830_20231120T175508.csv\"\n",
      "[1] \"Date is good\"\n",
      "[1] \"Date is in correct format\"\n"
     ]
    },
    {
     "name": "stderr",
     "output_type": "stream",
     "text": [
      "\u001b[1m\u001b[22m`summarise()` has grouped output by 'occupy_id'. You can override using the\n",
      "`.groups` argument.\n"
     ]
    },
    {
     "name": "stdout",
     "output_type": "stream",
     "text": [
      "[1] \"SWOTCalVal_PD_PT_L1_PT335_20230722T201330_20230904T024830_20231120T175508_SWOTCalVal_PD_KEY_20230723_20230903_v17b.csv\"\n",
      "[1] \"this file passed all checks\"\n",
      "[1] \"/nas/cee-water/cjgleason/calval/xml_scripts/UMass/Munged/Munged__20231120/SWOTCalVal_PD_PT_L1_PT336_20230723T120000_20230904T031500_20231120T175508.csv\"\n",
      "[1] \"Date is good\"\n",
      "[1] \"Date is in correct format\"\n",
      "[1] \"Data are 15 min\"\n"
     ]
    },
    {
     "name": "stderr",
     "output_type": "stream",
     "text": [
      "\u001b[1m\u001b[22m`summarise()` has grouped output by 'occupy_id'. You can override using the\n",
      "`.groups` argument.\n"
     ]
    },
    {
     "name": "stdout",
     "output_type": "stream",
     "text": [
      "[1] \"SWOTCalVal_PD_PT_L1_PT336_20230723T120000_20230904T031500_20231120T175508_SWOTCalVal_PD_KEY_20230723_20230903_v17b.csv\"\n",
      "[1] \"this file passed all checks\"\n",
      "[1] \"/nas/cee-water/cjgleason/calval/xml_scripts/UMass/Munged/Munged__20231120/SWOTCalVal_PD_PT_L1_PT337_20230723T120000_20230904T030000_20231120T175508.csv\"\n",
      "[1] \"Date is good\"\n",
      "[1] \"Date is in correct format\"\n",
      "[1] \"Data are 15 min\"\n"
     ]
    },
    {
     "name": "stderr",
     "output_type": "stream",
     "text": [
      "\u001b[1m\u001b[22m`summarise()` has grouped output by 'occupy_id'. You can override using the\n",
      "`.groups` argument.\n"
     ]
    },
    {
     "name": "stdout",
     "output_type": "stream",
     "text": [
      "[1] \"SWOTCalVal_PD_PT_L1_PT337_20230723T120000_20230904T030000_20231120T175508_SWOTCalVal_PD_KEY_20230723_20230903_v17b.csv\"\n",
      "[1] \"this file passed all checks\"\n",
      "[1] \"/nas/cee-water/cjgleason/calval/xml_scripts/UMass/Munged/Munged__20231120/SWOTCalVal_PD_PT_L1_PT338_20230723T120000_20230904T033000_20231120T175508.csv\"\n",
      "[1] \"Date is good\"\n",
      "[1] \"Date is in correct format\"\n",
      "[1] \"Data are 15 min\"\n"
     ]
    },
    {
     "name": "stderr",
     "output_type": "stream",
     "text": [
      "\u001b[1m\u001b[22m`summarise()` has grouped output by 'occupy_id'. You can override using the\n",
      "`.groups` argument.\n"
     ]
    },
    {
     "name": "stdout",
     "output_type": "stream",
     "text": [
      "[1] \"SWOTCalVal_PD_PT_L1_PT338_20230723T120000_20230904T033000_20231120T175508_SWOTCalVal_PD_KEY_20230723_20230903_v17b.csv\"\n",
      "[1] \"this file passed all checks\"\n",
      "[1] \"/nas/cee-water/cjgleason/calval/xml_scripts/UMass/Munged/Munged__20231120/SWOTCalVal_PD_PT_L1_PT339_20230723T120000_20230904T033000_20231120T175508.csv\"\n",
      "[1] \"Date is good\"\n",
      "[1] \"Date is in correct format\"\n",
      "[1] \"Data are 15 min\"\n"
     ]
    },
    {
     "name": "stderr",
     "output_type": "stream",
     "text": [
      "\u001b[1m\u001b[22m`summarise()` has grouped output by 'occupy_id'. You can override using the\n",
      "`.groups` argument.\n"
     ]
    },
    {
     "name": "stdout",
     "output_type": "stream",
     "text": [
      "[1] \"SWOTCalVal_PD_PT_L1_PT339_20230723T120000_20230904T033000_20231120T175508_SWOTCalVal_PD_KEY_20230723_20230903_v17b.csv\"\n",
      "[1] \"this file passed all checks\"\n",
      "[1] \"/nas/cee-water/cjgleason/calval/xml_scripts/UMass/Munged/Munged__20231120/SWOTCalVal_PD_PT_L1_PT340_20230723T120000_20230904T031500_20231120T175508.csv\"\n",
      "[1] \"Date is good\"\n",
      "[1] \"Date is in correct format\"\n",
      "[1] \"Data are 15 min\"\n"
     ]
    },
    {
     "name": "stderr",
     "output_type": "stream",
     "text": [
      "\u001b[1m\u001b[22m`summarise()` has grouped output by 'occupy_id'. You can override using the\n",
      "`.groups` argument.\n"
     ]
    },
    {
     "name": "stdout",
     "output_type": "stream",
     "text": [
      "[1] \"SWOTCalVal_PD_PT_L1_PT340_20230723T120000_20230904T031500_20231120T175508_SWOTCalVal_PD_KEY_20230723_20230903_v17b.csv\"\n",
      "[1] \"this file passed all checks\"\n",
      "[1] \"/nas/cee-water/cjgleason/calval/xml_scripts/UMass/Munged/Munged__20231120/SWOTCalVal_PD_PT_L1_PT341_20230723T120000_20230904T024500_20231120T175508.csv\"\n",
      "[1] \"Date is good\"\n",
      "[1] \"Date is in correct format\"\n",
      "[1] \"Data are 15 min\"\n"
     ]
    },
    {
     "name": "stderr",
     "output_type": "stream",
     "text": [
      "\u001b[1m\u001b[22m`summarise()` has grouped output by 'occupy_id'. You can override using the\n",
      "`.groups` argument.\n"
     ]
    },
    {
     "name": "stdout",
     "output_type": "stream",
     "text": [
      "[1] \"SWOTCalVal_PD_PT_L1_PT341_20230723T120000_20230904T024500_20231120T175508_SWOTCalVal_PD_KEY_20230723_20230903_v17b.csv\"\n",
      "[1] \"this file passed all checks\"\n",
      "[1] \"/nas/cee-water/cjgleason/calval/xml_scripts/UMass/Munged/Munged__20231120/SWOTCalVal_PD_PT_L1_PT342_20230723T120000_20230904T033000_20231120T175508.csv\"\n",
      "[1] \"Date is good\"\n",
      "[1] \"Date is in correct format\"\n",
      "[1] \"Data are 15 min\"\n"
     ]
    },
    {
     "name": "stderr",
     "output_type": "stream",
     "text": [
      "\u001b[1m\u001b[22m`summarise()` has grouped output by 'occupy_id'. You can override using the\n",
      "`.groups` argument.\n"
     ]
    },
    {
     "name": "stdout",
     "output_type": "stream",
     "text": [
      "[1] \"SWOTCalVal_PD_PT_L1_PT342_20230723T120000_20230904T033000_20231120T175508_SWOTCalVal_PD_KEY_20230723_20230903_v17b.csv\"\n",
      "[1] \"this file passed all checks\"\n",
      "[1] \"/nas/cee-water/cjgleason/calval/xml_scripts/UMass/Munged/Munged__20231120/SWOTCalVal_PD_PT_L1_PT343_20230723T120000_20230904T033000_20231120T175508.csv\"\n",
      "[1] \"Date is good\"\n",
      "[1] \"Date is in correct format\"\n",
      "[1] \"Data are 15 min\"\n"
     ]
    },
    {
     "name": "stderr",
     "output_type": "stream",
     "text": [
      "\u001b[1m\u001b[22m`summarise()` has grouped output by 'occupy_id'. You can override using the\n",
      "`.groups` argument.\n"
     ]
    },
    {
     "name": "stdout",
     "output_type": "stream",
     "text": [
      "[1] \"SWOTCalVal_PD_PT_L1_PT343_20230723T120000_20230904T033000_20231120T175508_SWOTCalVal_PD_KEY_20230723_20230903_v17b.csv\"\n",
      "[1] \"this file passed all checks\"\n",
      "[1] \"/nas/cee-water/cjgleason/calval/xml_scripts/UMass/Munged/Munged__20231120/SWOTCalVal_PD_PT_L1_PT344_20230723T120000_20230904T030000_20231120T175509.csv\"\n",
      "[1] \"Date is good\"\n",
      "[1] \"Date is in correct format\"\n",
      "[1] \"Data are 15 min\"\n"
     ]
    },
    {
     "name": "stderr",
     "output_type": "stream",
     "text": [
      "\u001b[1m\u001b[22m`summarise()` has grouped output by 'occupy_id'. You can override using the\n",
      "`.groups` argument.\n"
     ]
    },
    {
     "name": "stdout",
     "output_type": "stream",
     "text": [
      "[1] \"SWOTCalVal_PD_PT_L1_PT344_20230723T120000_20230904T030000_20231120T175509_SWOTCalVal_PD_KEY_20230723_20230903_v17b.csv\"\n",
      "[1] \"this file passed all checks\"\n",
      "[1] \"/nas/cee-water/cjgleason/calval/xml_scripts/UMass/Munged/Munged__20231120/SWOTCalVal_PD_PT_L1_PT345_20230723T120000_20230904T031500_20231120T175509.csv\"\n",
      "[1] \"Date is good\"\n",
      "[1] \"Date is in correct format\"\n",
      "[1] \"Data are 15 min\"\n"
     ]
    },
    {
     "name": "stderr",
     "output_type": "stream",
     "text": [
      "\u001b[1m\u001b[22m`summarise()` has grouped output by 'occupy_id'. You can override using the\n",
      "`.groups` argument.\n"
     ]
    },
    {
     "name": "stdout",
     "output_type": "stream",
     "text": [
      "[1] \"SWOTCalVal_PD_PT_L1_PT345_20230723T120000_20230904T031500_20231120T175509_SWOTCalVal_PD_KEY_20230723_20230903_v17b.csv\"\n",
      "[1] \"this file passed all checks\"\n",
      "[1] \"/nas/cee-water/cjgleason/calval/xml_scripts/UMass/Munged/Munged__20231120/SWOTCalVal_PD_PT_L1_PT346_20230723T120000_20230904T030000_20231120T175506.csv\"\n",
      "[1] \"Date is good\"\n",
      "[1] \"Date is in correct format\"\n",
      "[1] \"Data are 15 min\"\n"
     ]
    },
    {
     "name": "stderr",
     "output_type": "stream",
     "text": [
      "\u001b[1m\u001b[22m`summarise()` has grouped output by 'occupy_id'. You can override using the\n",
      "`.groups` argument.\n"
     ]
    },
    {
     "name": "stdout",
     "output_type": "stream",
     "text": [
      "[1] \"SWOTCalVal_PD_PT_L1_PT346_20230723T120000_20230904T030000_20231120T175506_SWOTCalVal_PD_KEY_20230723_20230903_v17b.csv\"\n",
      "[1] \"this file passed all checks\"\n",
      "[1] \"/nas/cee-water/cjgleason/calval/xml_scripts/UMass/Munged/Munged__20231120/SWOTCalVal_PD_PT_L1_PT347_20230723T120000_20230904T033000_20231120T175506.csv\"\n",
      "[1] \"Date is good\"\n",
      "[1] \"Date is in correct format\"\n",
      "[1] \"Data are 15 min\"\n"
     ]
    },
    {
     "name": "stderr",
     "output_type": "stream",
     "text": [
      "\u001b[1m\u001b[22m`summarise()` has grouped output by 'occupy_id'. You can override using the\n",
      "`.groups` argument.\n"
     ]
    },
    {
     "name": "stdout",
     "output_type": "stream",
     "text": [
      "[1] \"SWOTCalVal_PD_PT_L1_PT347_20230723T120000_20230904T033000_20231120T175506_SWOTCalVal_PD_KEY_20230723_20230903_v17b.csv\"\n",
      "[1] \"this file passed all checks\"\n",
      "[1] \"/nas/cee-water/cjgleason/calval/xml_scripts/UMass/Munged/Munged__20231120/SWOTCalVal_PD_PT_L1_PT348_20230723T120000_20230904T031500_20231120T175506.csv\"\n",
      "[1] \"Date is good\"\n",
      "[1] \"Date is in correct format\"\n",
      "[1] \"Data are 15 min\"\n"
     ]
    },
    {
     "name": "stderr",
     "output_type": "stream",
     "text": [
      "\u001b[1m\u001b[22m`summarise()` has grouped output by 'occupy_id'. You can override using the\n",
      "`.groups` argument.\n"
     ]
    },
    {
     "name": "stdout",
     "output_type": "stream",
     "text": [
      "[1] \"SWOTCalVal_PD_PT_L1_PT348_20230723T120000_20230904T031500_20231120T175506_SWOTCalVal_PD_KEY_20230723_20230903_v17b.csv\"\n",
      "[1] \"this file passed all checks\"\n"
     ]
    }
   ],
   "source": [
    "### Munge PTs if needed - NEW with occupy only ###\n",
    "source('/nas/cee-water/cjgleason/calval_toolbox/R code/correct_PT_to_GNSS_occupy_only.R')\n",
    "if (process_PTs==1){\n",
    "dist_thresh=150 # 150m\n",
    "time_thresh= 15*60 #minutes as seconds, centered, so 15 =30 mins total time\n",
    "GNSS_sd_thresh=0.05 # 15cm how much variance do you want in the GNSS data when it is within the distance threshold?\n",
    "# offset_sd_thresh=0.10 #m, so 10cm. the the PT apparantly shift by more than a cm?\n",
    "change_thresh_15_min=0.15#m- does it change more than 5cm in 15 minutes? that is a discontinuity in offset\n",
    "dry_threshold = 0.10 #This is a raw pt level where anything below is considered a PT out of water - this can change if we want\n",
    "#first, move .csv files with an 'L1' in them over to the PT_data_directory\n",
    "munged_files= list.files(PT_data_directory,\n",
    "                         recursive= TRUE)\n",
    "PT_files=munged_files[grepl(paste0(\"_\", rivername, \"_PT_L1\"), munged_files)]\n",
    "# PT_index=which(!is.na(do.call(rbind,lapply(munged_files,str_match,'PT_L1'))))\n",
    "# PT_files=munged_files[PT_index]\n",
    "csv_index=which(!is.na(do.call(rbind,lapply(PT_files,str_match,'.csv'))))\n",
    "raw_PT_files=PT_files[csv_index]\n",
    "raw_PT_files=raw_PT_files\n",
    "\n",
    " #there are 'bad' files within the PT xml folders that we do not want to bring in, so filter by version date.\n",
    "  # positions 8 and 9 are the start and end of the data\n",
    "  # position 10 is the repro date- we want the most recent repro\n",
    "  parse_pt=function(pt_file){\n",
    "    # sans_csv = sub('\\\\.csv$', '',pt_file)\n",
    "    splitter= strsplit(pt_file,'_')\n",
    "    first_two_dates=paste(splitter[[1]][8],splitter[[1]][9],sep=\"_\")\n",
    "    #the standard date format has an 'nT' character in the middle of thedates\n",
    "    third_date=as.POSIXct(paste0(substring(splitter[[1]][10],1,8),\n",
    "                                 substring(splitter[[1]][10],10,15) ),\n",
    "                          format='%Y%m%d%H%M%S')\n",
    "    # tp=splitter[[1]][[12]]\n",
    "    return(data.frame(cbind(keystring=paste0(splitter[[1]][7],'_',first_two_dates),third_date)))\n",
    "  }\n",
    "  \n",
    "  pt_index=do.call(rbind,lapply(raw_PT_files,parse_pt))%>%\n",
    "    #this is implicit, so when we filter things we'll mess up the order. \n",
    "    #add an index favlue\n",
    "    mutate(pt_file_index=1:nrow(.))%>%\n",
    "    group_by(keystring)%>%\n",
    "    filter(third_date==max(third_date))\n",
    "  \n",
    " \n",
    "  #remove old files\n",
    "  raw_PT_files=raw_PT_files[pt_index$pt_file_index]\n",
    "#open the key files   - Taylor added column labels and way to handle blank cells to make as NA\n",
    "\n",
    "read_keys=function(keyfile){\n",
    "    \n",
    "    # Read in key file and check column names and NODE ID for precision lost with scientific notation #\n",
    "  this_key= read.csv(keyfile,stringsAsFactors=FALSE, na.strings = c(\"\",\"NA\",\"na\",\"NaN\", \" \"))%>%\n",
    "    mutate(keyid=keyfile)%>%\n",
    "    mutate(pt_serial=as.integer(PT_Serial))\n",
    "    \n",
    "    }\n",
    "    \n",
    "### Key file get and check ###    \n",
    "master_key= do.call(rbind,lapply(PT_key_file,read_keys))\n",
    "   \n",
    "    # key_file column names to check against (keyfile and pt_serial are added in this process, do not add to original key files)#\n",
    "key_col_names = c(\"PT_Serial\", \"Label\", \"Baro_Comp\", \"v16_node_id\", \"v16_reach_id\", \"v16_US_Reach_ID\", \n",
    "                      \"v16_DS_Reach_ID\", \"Lat_WGS84\", \"Long_WGS84\", \"Install_method\",\n",
    "                      \"Date_PT_Install\", \"Time_PT_Install_UTC\", \"Date_PT_Uninstall\",\n",
    "                      \"Time_PT_Uninstall_UTC\", \"Date_GNSS_Install\", \"Time_GNSS_Install_Start_UTC\", \n",
    "                      \"Time_GNSS_Install_End_UTC\", \"GNSS_Offset_m\", \"Receiver_Install\", \"Original_Install_Log_File\", \n",
    "                      \"Final_Install_Log_File\", \"Date_GNSS_Uninstall\", \"Time_GNSS_Uninstall_Start_UTC\", \n",
    "                      \"Time_GNSS_Uninstall_End_UTC\", \"Receiver_Uninstall\", \"Original_Uninstall_Log_File\", \"Final_Uninstall_Log_File\",\n",
    "                      \"v17b_node_id\", \"v17b_reach_id\", \"v17b_US_Reach_ID\", \"v17b_DS_Reach_ID\",\"keyid\", \"pt_serial\")\n",
    "hub_key_colnames = colnames(master_key)\n",
    "\n",
    "key_check <- function(key_col_names, hub_key_colnames){\n",
    "  if(length(key_col_names) == length(hub_key_colnames)) {\n",
    "    print('Key file column names are of equal length')\n",
    "  }\n",
    "  if(length(which(is.na(match(key_col_names,hub_key_colnames))))!=0) {\n",
    "    stop(paste('Key file has a missing/misnamed column',which(is.na(match(key_col_names,hub_key_colnames))),\",\",\n",
    "               key_col_names[!key_col_names %in% hub_key_colnames],\", please fix and reupload, and/or the Key file has an extra/misnamed column\",\n",
    "               which(is.na(match(hub_key_colnames,key_col_names))),\",\", hub_key_colnames[!hub_key_colnames %in% key_col_names],\", please fix and reupload\"))\n",
    "  }\n",
    "  \n",
    "  if(length(unique(master_key$v17b_node_id))<=2){stop(\"Check that node ID in key file did not lose precision with scientific notation, if so, fix key and reupload.\")}\n",
    "    else{print(\"Key file passes QA/QC checks\")}\n",
    "}\n",
    "\n",
    "    \n",
    "key_check(key_col_names,hub_key_colnames)\n",
    "    #Checks what files have been processed in munged and flagged folders\n",
    "\n",
    "getit_processed=function(inputstring){   \n",
    "    output=paste(strsplit(inputstring,'_')[[1]][1:8],collapse='_')\n",
    "    output=sub(\"\\\\..*\",\"\",output)\n",
    "        \n",
    "}\n",
    "    # Checks which file names exist in the master key\n",
    "getit_key =function(inputstring){   \n",
    "    output=paste(c('SWOTCalVal',rivername,'PT','L1',inputstring),collapse='_')\n",
    "    output=sub(\"\\\\..*\",\"\",output)\n",
    "    \n",
    "}\n",
    "  \n",
    "getit_negative=function(longstring, shortstrings){\n",
    "    #search for a pattern between one and many strings with partial matches allows\n",
    "        output=!any(str_detect(longstring,shortstrings)  )\n",
    "}\n",
    "    \n",
    "getit_positive=function(longstring, shortstrings){\n",
    "    #search for a pattern between one and many strings with partial matches allows\n",
    "        output=any(str_detect(longstring,shortstrings))  \n",
    "}\n",
    "       \n",
    "processed_files= do.call(rbind,lapply(c(list.files(QA_QC_PT_output_directory),list.files(flagged_PT_output_directory)),getit_processed))\n",
    "key_files=do.call(rbind,lapply(master_key$Label,getit_key))\n",
    "    \n",
    "    if (is.null(processed_files)){unprocessed_files=raw_PT_files}else{\n",
    "unprocessed_files=raw_PT_files[do.call(rbind,lapply(raw_PT_files,getit_negative,processed_files))]}\n",
    "in_key_unprocessed=unprocessed_files[do.call(rbind,lapply(unprocessed_files,getit_positive,key_files))]\n",
    "# print(in_key_unprocessed)\n",
    "#     bonk\n",
    "#for(thisone in in_key_unprocessed){\n",
    "\n",
    "        dummy = lapply(in_key_unprocessed,correct_PT_to_GNSS_occupy_only,\n",
    "                  master_key=master_key,\n",
    "                  dist_thresh=dist_thresh,\n",
    "                  time_thresh=time_thresh,\n",
    "                  pt_data_directory=PT_data_directory,\n",
    "                  gnss_drift_data_directory=QA_QC_drift_output_directory,\n",
    "                  QA_QC_PT_output_directory=QA_QC_PT_output_directory,\n",
    "                  flagged_pt_output_directory=flagged_PT_output_directory,\n",
    "                  gnss_sd_thresh=GNSS_sd_thresh,\n",
    "                  offset_sd_thresh=offset_sd_thresh,\n",
    "                  change_thresh_15_min=change_thresh_15_min,\n",
    "                  dry_threshold = dry_threshold) \n",
    "    \n",
    " \n",
    "    #}\n",
    "} "
   ]
  },
  {
   "cell_type": "code",
   "execution_count": null,
   "id": "72182995-b038-49e3-94d3-b447abf3023a",
   "metadata": {},
   "outputs": [],
   "source": [
    "### FLYBY OFFSETS ###\n",
    "source('/nas/cee-water/cjgleason/calval_toolbox/R code/correct_PT_via_flyby.R')\n",
    "\n",
    "munged_PT_directory= QA_QC_PT_output_directory\n",
    "output_dir=QA_QC_PT_flyby_output_directory\n",
    "pt_file_in=list.files(munged_PT_directory)\n",
    "pt_file_in = pt_file_in[grepl(paste0(\"_\", rivername, \"_\"), pt_file_in)]\n",
    "munged_GNSS_directory=QA_QC_drift_output_directory\n",
    "gnss_sd_thresh=0.05\n",
    "time_thresh=7.5*60\n",
    "dist_thresh=200\n",
    "\n",
    "lapply(pt_file_in,correct_PT_via_flyby,\n",
    "       munged_GNSS_directory=munged_GNSS_directory,\n",
    "       munged_PT_directory=munged_PT_directory,\n",
    "       time_thresh=time_thresh,\n",
    "       dist_thresh=dist_thresh,\n",
    "       gnss_sd_thresh=gnss_sd_thresh,\n",
    "       output_dir=output_dir,\n",
    "       rivername=rivername)"
   ]
  },
  {
   "cell_type": "code",
   "execution_count": 7,
   "id": "17f756bb-48ed-4423-b691-8514b2fbda7a",
   "metadata": {},
   "outputs": [
    {
     "name": "stdout",
     "output_type": "stream",
     "text": [
      "[1] \">>>> WARNING <<<  attribute _FillValue is an 8-byte value, but R\"\n",
      "[1] \"does not support this data type. I am returning a double precision\"\n",
      "[1] \"floating point, but you must be aware that this could lose precision!\"\n",
      "[1] \">>>> WARNING <<<  attribute _FillValue is an 8-byte value, but R\"\n",
      "[1] \"does not support this data type. I am returning a double precision\"\n",
      "[1] \"floating point, but you must be aware that this could lose precision!\"\n",
      "[1] \">>>> WARNING <<<  attribute _FillValue is an 8-byte value, but R\"\n",
      "[1] \"does not support this data type. I am returning a double precision\"\n",
      "[1] \"floating point, but you must be aware that this could lose precision!\"\n",
      "[1] \">>>> WARNING <<<  attribute _FillValue is an 8-byte value, but R\"\n",
      "[1] \"does not support this data type. I am returning a double precision\"\n",
      "[1] \"floating point, but you must be aware that this could lose precision!\"\n",
      "[1] \">>>> WARNING <<<  attribute _FillValue is an 8-byte value, but R\"\n",
      "[1] \"does not support this data type. I am returning a double precision\"\n",
      "[1] \"floating point, but you must be aware that this could lose precision!\"\n",
      "[1] \">>>> WARNING <<<  attribute _FillValue is an 8-byte value, but R\"\n",
      "[1] \"does not support this data type. I am returning a double precision\"\n",
      "[1] \"floating point, but you must be aware that this could lose precision!\"\n",
      "[1] \">>>> WARNING <<<  attribute _FillValue is an 8-byte value, but R\"\n",
      "[1] \"does not support this data type. I am returning a double precision\"\n",
      "[1] \"floating point, but you must be aware that this could lose precision!\"\n",
      "[1] \">>>> WARNING <<<  attribute _FillValue is an 8-byte value, but R\"\n",
      "[1] \"does not support this data type. I am returning a double precision\"\n",
      "[1] \"floating point, but you must be aware that this could lose precision!\"\n",
      "[1] \">>>> WARNING <<<  attribute _FillValue is an 8-byte value, but R\"\n",
      "[1] \"does not support this data type. I am returning a double precision\"\n",
      "[1] \"floating point, but you must be aware that this could lose precision!\"\n",
      "[1] \">>>> WARNING <<<  attribute _FillValue is an 8-byte value, but R\"\n",
      "[1] \"does not support this data type. I am returning a double precision\"\n",
      "[1] \"floating point, but you must be aware that this could lose precision!\"\n",
      "[1] \">>>> WARNING <<<  attribute _FillValue is an 8-byte value, but R\"\n",
      "[1] \"does not support this data type. I am returning a double precision\"\n",
      "[1] \"floating point, but you must be aware that this could lose precision!\"\n",
      "[1] \">>>> WARNING <<<  attribute _FillValue is an 8-byte value, but R\"\n",
      "[1] \"does not support this data type. I am returning a double precision\"\n",
      "[1] \"floating point, but you must be aware that this could lose precision!\"\n",
      "[1] \">>>> WARNING <<<  attribute _FillValue is an 8-byte value, but R\"\n",
      "[1] \"does not support this data type. I am returning a double precision\"\n",
      "[1] \"floating point, but you must be aware that this could lose precision!\"\n",
      "[1] \">>>> WARNING <<<  attribute _FillValue is an 8-byte value, but R\"\n",
      "[1] \"does not support this data type. I am returning a double precision\"\n",
      "[1] \"floating point, but you must be aware that this could lose precision!\"\n",
      "[1] \">>>> WARNING <<<  attribute _FillValue is an 8-byte value, but R\"\n",
      "[1] \"does not support this data type. I am returning a double precision\"\n",
      "[1] \"floating point, but you must be aware that this could lose precision!\"\n",
      "[1] \">>>> WARNING <<<  attribute _FillValue is an 8-byte value, but R\"\n",
      "[1] \"does not support this data type. I am returning a double precision\"\n",
      "[1] \"floating point, but you must be aware that this could lose precision!\"\n",
      "[1] \">>>> WARNING <<<  attribute _FillValue is an 8-byte value, but R\"\n",
      "[1] \"does not support this data type. I am returning a double precision\"\n",
      "[1] \"floating point, but you must be aware that this could lose precision!\"\n",
      "[1] \">>>> WARNING <<<  attribute _FillValue is an 8-byte value, but R\"\n",
      "[1] \"does not support this data type. I am returning a double precision\"\n",
      "[1] \"floating point, but you must be aware that this could lose precision!\"\n",
      "[1] \">>>> WARNING <<<  attribute _FillValue is an 8-byte value, but R\"\n",
      "[1] \"does not support this data type. I am returning a double precision\"\n",
      "[1] \"floating point, but you must be aware that this could lose precision!\"\n",
      "[1] \">>>> WARNING <<<  attribute _FillValue is an 8-byte value, but R\"\n",
      "[1] \"does not support this data type. I am returning a double precision\"\n",
      "[1] \"floating point, but you must be aware that this could lose precision!\"\n",
      "[1] \">>>> WARNING <<<  attribute _FillValue is an 8-byte value, but R\"\n",
      "[1] \"does not support this data type. I am returning a double precision\"\n",
      "[1] \"floating point, but you must be aware that this could lose precision!\"\n",
      "[1] \">>>> WARNING <<<  attribute _FillValue is an 8-byte value, but R\"\n",
      "[1] \"does not support this data type. I am returning a double precision\"\n",
      "[1] \"floating point, but you must be aware that this could lose precision!\"\n",
      "[1] \"Data frames/reprocessed_2025_01_08/node/WM_drift_node_wses.csv\"\n",
      "[1] \"Data frames/reprocessed_2025_01_08//reach/WM_drift_reach_wse_slope.csv\"\n"
     ]
    }
   ],
   "source": [
    "#calculate slopes and heights from drifts within nodes and reaches------\n",
    "reprocess_switch=1\n",
    "SWORD_reach= read.csv(domain_file)\n",
    "this_river_reach_IDs= as.numeric(unique(SWORD_reach$v17b_reach_id[!is.na(SWORD_reach$v17b_reach_id)]))\n",
    "this_river_node_IDs= as.numeric(unique(SWORD_reach$v17b_node_id[!is.na(SWORD_reach$v17b_node_id)]))\n",
    "\n",
    "\n",
    "source('/nas/cee-water/cjgleason/calval_toolbox/R code/calculate_slope_wse_fromdrift.R')\n",
    "\n",
    "\n",
    "dummy=calculate_slope_wse_fromdrift(SWORD_path=SWORD_path,\n",
    "                                    drift_directory=QA_QC_drift_output_directory,\n",
    "                                    PT_directory=PT_directory,\n",
    "                                    output_directory=reachnode_output_directory,\n",
    "                                    this_river_reach_ids=this_river_reach_IDs,\n",
    "                                    this_river_node_ids=this_river_node_IDs,\n",
    "                                    utm_zone=utm_zone, \n",
    "                                    buffer=reach_end_buffer,\n",
    "                                    rivername=rivername,\n",
    "                                    reprocess_switch=reprocess_switch,\n",
    "                                    core_count=core_count,\n",
    "                                    scale_maxwidth=scale_maxwidth)\n",
    "            "
   ]
  },
  {
   "cell_type": "code",
   "execution_count": 8,
   "id": "de238d52-ab26-450a-8aff-8d85e157f293",
   "metadata": {},
   "outputs": [
    {
     "name": "stdout",
     "output_type": "stream",
     "text": [
      "[1] \">>>> WARNING <<<  attribute _FillValue is an 8-byte value, but R\"\n",
      "[1] \"does not support this data type. I am returning a double precision\"\n",
      "[1] \"floating point, but you must be aware that this could lose precision!\"\n",
      "[1] \">>>> WARNING <<<  attribute _FillValue is an 8-byte value, but R\"\n",
      "[1] \"does not support this data type. I am returning a double precision\"\n",
      "[1] \"floating point, but you must be aware that this could lose precision!\"\n",
      "[1] \">>>> WARNING <<<  attribute _FillValue is an 8-byte value, but R\"\n",
      "[1] \"does not support this data type. I am returning a double precision\"\n",
      "[1] \"floating point, but you must be aware that this could lose precision!\"\n",
      "[1] \">>>> WARNING <<<  attribute _FillValue is an 8-byte value, but R\"\n",
      "[1] \"does not support this data type. I am returning a double precision\"\n",
      "[1] \"floating point, but you must be aware that this could lose precision!\"\n",
      "[1] \">>>> WARNING <<<  attribute _FillValue is an 8-byte value, but R\"\n",
      "[1] \"does not support this data type. I am returning a double precision\"\n",
      "[1] \"floating point, but you must be aware that this could lose precision!\"\n",
      "[1] \">>>> WARNING <<<  attribute _FillValue is an 8-byte value, but R\"\n",
      "[1] \"does not support this data type. I am returning a double precision\"\n",
      "[1] \"floating point, but you must be aware that this could lose precision!\"\n",
      "[1] \">>>> WARNING <<<  attribute _FillValue is an 8-byte value, but R\"\n",
      "[1] \"does not support this data type. I am returning a double precision\"\n",
      "[1] \"floating point, but you must be aware that this could lose precision!\"\n",
      "[1] \">>>> WARNING <<<  attribute _FillValue is an 8-byte value, but R\"\n",
      "[1] \"does not support this data type. I am returning a double precision\"\n",
      "[1] \"floating point, but you must be aware that this could lose precision!\"\n",
      "[1] \">>>> WARNING <<<  attribute _FillValue is an 8-byte value, but R\"\n",
      "[1] \"does not support this data type. I am returning a double precision\"\n",
      "[1] \"floating point, but you must be aware that this could lose precision!\"\n",
      "[1] \">>>> WARNING <<<  attribute _FillValue is an 8-byte value, but R\"\n",
      "[1] \"does not support this data type. I am returning a double precision\"\n",
      "[1] \"floating point, but you must be aware that this could lose precision!\"\n",
      "[1] \">>>> WARNING <<<  attribute _FillValue is an 8-byte value, but R\"\n",
      "[1] \"does not support this data type. I am returning a double precision\"\n",
      "[1] \"floating point, but you must be aware that this could lose precision!\"\n",
      "[1] \">>>> WARNING <<<  attribute _FillValue is an 8-byte value, but R\"\n",
      "[1] \"does not support this data type. I am returning a double precision\"\n",
      "[1] \"floating point, but you must be aware that this could lose precision!\"\n",
      "[1] \">>>> WARNING <<<  attribute _FillValue is an 8-byte value, but R\"\n",
      "[1] \"does not support this data type. I am returning a double precision\"\n",
      "[1] \"floating point, but you must be aware that this could lose precision!\"\n",
      "[1] \">>>> WARNING <<<  attribute _FillValue is an 8-byte value, but R\"\n",
      "[1] \"does not support this data type. I am returning a double precision\"\n",
      "[1] \"floating point, but you must be aware that this could lose precision!\"\n",
      "[1] \">>>> WARNING <<<  attribute _FillValue is an 8-byte value, but R\"\n",
      "[1] \"does not support this data type. I am returning a double precision\"\n",
      "[1] \"floating point, but you must be aware that this could lose precision!\"\n",
      "[1] \">>>> WARNING <<<  attribute _FillValue is an 8-byte value, but R\"\n",
      "[1] \"does not support this data type. I am returning a double precision\"\n",
      "[1] \"floating point, but you must be aware that this could lose precision!\"\n",
      "[1] \">>>> WARNING <<<  attribute _FillValue is an 8-byte value, but R\"\n",
      "[1] \"does not support this data type. I am returning a double precision\"\n",
      "[1] \"floating point, but you must be aware that this could lose precision!\"\n",
      "[1] \">>>> WARNING <<<  attribute _FillValue is an 8-byte value, but R\"\n",
      "[1] \"does not support this data type. I am returning a double precision\"\n",
      "[1] \"floating point, but you must be aware that this could lose precision!\"\n",
      "[1] \">>>> WARNING <<<  attribute _FillValue is an 8-byte value, but R\"\n",
      "[1] \"does not support this data type. I am returning a double precision\"\n",
      "[1] \"floating point, but you must be aware that this could lose precision!\"\n",
      "[1] \">>>> WARNING <<<  attribute _FillValue is an 8-byte value, but R\"\n",
      "[1] \"does not support this data type. I am returning a double precision\"\n",
      "[1] \"floating point, but you must be aware that this could lose precision!\"\n",
      "[1] \">>>> WARNING <<<  attribute _FillValue is an 8-byte value, but R\"\n",
      "[1] \"does not support this data type. I am returning a double precision\"\n",
      "[1] \"floating point, but you must be aware that this could lose precision!\"\n",
      "[1] \">>>> WARNING <<<  attribute _FillValue is an 8-byte value, but R\"\n",
      "[1] \"does not support this data type. I am returning a double precision\"\n",
      "[1] \"floating point, but you must be aware that this could lose precision!\"\n"
     ]
    },
    {
     "name": "stderr",
     "output_type": "stream",
     "text": [
      "\u001b[1m\u001b[22m`summarise()` has grouped output by 'node_id', 'pt_time_UTC'. You can override\n",
      "using the `.groups` argument.\n",
      "\u001b[1m\u001b[22m`summarise()` has grouped output by 'node_id', 'pt_time_UTC'. You can override\n",
      "using the `.groups` argument.\n",
      "\u001b[1m\u001b[22m`summarise()` has grouped output by 'node_id', 'pt_time_UTC'. You can override\n",
      "using the `.groups` argument.\n",
      "\u001b[1m\u001b[22m`summarise()` has grouped output by 'node_id', 'pt_time_UTC'. You can override\n",
      "using the `.groups` argument.\n",
      "\u001b[1m\u001b[22m`summarise()` has grouped output by 'node_id', 'pt_time_UTC'. You can override\n",
      "using the `.groups` argument.\n",
      "\u001b[1m\u001b[22m`summarise()` has grouped output by 'node_id', 'pt_time_UTC'. You can override\n",
      "using the `.groups` argument.\n",
      "\u001b[1m\u001b[22m`summarise()` has grouped output by 'node_id', 'pt_time_UTC'. You can override\n",
      "using the `.groups` argument.\n",
      "\u001b[1m\u001b[22m`summarise()` has grouped output by 'node_id', 'pt_time_UTC'. You can override\n",
      "using the `.groups` argument.\n",
      "\u001b[1m\u001b[22m`summarise()` has grouped output by 'node_id', 'pt_time_UTC'. You can override\n",
      "using the `.groups` argument.\n",
      "\u001b[1m\u001b[22m`summarise()` has grouped output by 'node_id'. You can override using the\n",
      "`.groups` argument.\n",
      "\u001b[1m\u001b[22m`summarise()` has grouped output by 'node_id', 'pt_time_UTC'. You can override\n",
      "using the `.groups` argument.\n",
      "\u001b[1m\u001b[22m`summarise()` has grouped output by 'node_id', 'pt_time_UTC'. You can override\n",
      "using the `.groups` argument.\n",
      "\u001b[1m\u001b[22m`summarise()` has grouped output by 'node_id', 'pt_time_UTC'. You can override\n",
      "using the `.groups` argument.\n",
      "\u001b[1m\u001b[22m`summarise()` has grouped output by 'node_id'. You can override using the\n",
      "`.groups` argument.\n",
      "\u001b[1m\u001b[22m`summarise()` has grouped output by 'node_id', 'pt_time_UTC'. You can override\n",
      "using the `.groups` argument.\n",
      "\u001b[1m\u001b[22m`summarise()` has grouped output by 'node_id', 'pt_time_UTC'. You can override\n",
      "using the `.groups` argument.\n",
      "\u001b[1m\u001b[22m`summarise()` has grouped output by 'node_id', 'pt_time_UTC'. You can override\n",
      "using the `.groups` argument.\n",
      "\u001b[1m\u001b[22m`summarise()` has grouped output by 'node_id', 'pt_time_UTC'. You can override\n",
      "using the `.groups` argument.\n",
      "\u001b[1m\u001b[22m`summarise()` has grouped output by 'node_id', 'pt_time_UTC'. You can override\n",
      "using the `.groups` argument.\n",
      "\u001b[1m\u001b[22m`summarise()` has grouped output by 'node_id', 'pt_time_UTC'. You can override\n",
      "using the `.groups` argument.\n",
      "\u001b[1m\u001b[22m`summarise()` has grouped output by 'node_id', 'pt_time_UTC'. You can override\n",
      "using the `.groups` argument.\n",
      "\u001b[1m\u001b[22m`summarise()` has grouped output by 'node_id', 'pt_time_UTC'. You can override\n",
      "using the `.groups` argument.\n",
      "\u001b[1m\u001b[22m`summarise()` has grouped output by 'node_id', 'pt_time_UTC'. You can override\n",
      "using the `.groups` argument.\n",
      "\u001b[1m\u001b[22m`summarise()` has grouped output by 'node_id', 'pt_time_UTC'. You can override\n",
      "using the `.groups` argument.\n",
      "\u001b[1m\u001b[22m`summarise()` has grouped output by 'node_id', 'pt_time_UTC'. You can override\n",
      "using the `.groups` argument.\n",
      "\u001b[1m\u001b[22m`summarise()` has grouped output by 'node_id'. You can override using the\n",
      "`.groups` argument.\n",
      "\u001b[1m\u001b[22m`summarise()` has grouped output by 'node_id', 'pt_time_UTC'. You can override\n",
      "using the `.groups` argument.\n",
      "\u001b[1m\u001b[22m`summarise()` has grouped output by 'node_id', 'pt_time_UTC'. You can override\n",
      "using the `.groups` argument.\n",
      "\u001b[1m\u001b[22m`summarise()` has grouped output by 'node_id'. You can override using the\n",
      "`.groups` argument.\n",
      "\u001b[1m\u001b[22m`summarise()` has grouped output by 'node_id', 'pt_time_UTC'. You can override\n",
      "using the `.groups` argument.\n",
      "\u001b[1m\u001b[22m`summarise()` has grouped output by 'node_id', 'pt_time_UTC'. You can override\n",
      "using the `.groups` argument.\n",
      "\u001b[1m\u001b[22m`summarise()` has grouped output by 'node_id', 'pt_time_UTC'. You can override\n",
      "using the `.groups` argument.\n",
      "\u001b[1m\u001b[22m`summarise()` has grouped output by 'node_id'. You can override using the\n",
      "`.groups` argument.\n",
      "\u001b[1m\u001b[22m`summarise()` has grouped output by 'node_id', 'pt_time_UTC'. You can override\n",
      "using the `.groups` argument.\n",
      "\u001b[1m\u001b[22m`summarise()` has grouped output by 'node_id', 'pt_time_UTC'. You can override\n",
      "using the `.groups` argument.\n",
      "\u001b[1m\u001b[22m`summarise()` has grouped output by 'node_id', 'pt_time_UTC'. You can override\n",
      "using the `.groups` argument.\n",
      "\u001b[1m\u001b[22m`summarise()` has grouped output by 'node_id', 'pt_time_UTC'. You can override\n",
      "using the `.groups` argument.\n",
      "\u001b[1m\u001b[22m`summarise()` has grouped output by 'node_id', 'pt_time_UTC'. You can override\n",
      "using the `.groups` argument.\n",
      "\u001b[1m\u001b[22m`summarise()` has grouped output by 'node_id', 'pt_time_UTC'. You can override\n",
      "using the `.groups` argument.\n",
      "\u001b[1m\u001b[22m`summarise()` has grouped output by 'node_id', 'pt_time_UTC'. You can override\n",
      "using the `.groups` argument.\n",
      "\u001b[1m\u001b[22m`summarise()` has grouped output by 'node_id', 'pt_time_UTC'. You can override\n",
      "using the `.groups` argument.\n",
      "\u001b[1m\u001b[22m`summarise()` has grouped output by 'node_id'. You can override using the\n",
      "`.groups` argument.\n",
      "\u001b[1m\u001b[22m`summarise()` has grouped output by 'node_id', 'pt_time_UTC'. You can override\n",
      "using the `.groups` argument.\n",
      "\u001b[1m\u001b[22m`summarise()` has grouped output by 'node_id', 'pt_time_UTC'. You can override\n",
      "using the `.groups` argument.\n",
      "\u001b[1m\u001b[22m`summarise()` has grouped output by 'node_id'. You can override using the\n",
      "`.groups` argument.\n",
      "\u001b[1m\u001b[22m`summarise()` has grouped output by 'node_id', 'pt_time_UTC'. You can override\n",
      "using the `.groups` argument.\n",
      "\u001b[1m\u001b[22m`summarise()` has grouped output by 'node_id', 'pt_time_UTC'. You can override\n",
      "using the `.groups` argument.\n",
      "\u001b[1m\u001b[22m`summarise()` has grouped output by 'node_id', 'pt_time_UTC'. You can override\n",
      "using the `.groups` argument.\n",
      "\u001b[1m\u001b[22m`summarise()` has grouped output by 'node_id'. You can override using the\n",
      "`.groups` argument.\n",
      "\u001b[1m\u001b[22m`summarise()` has grouped output by 'node_id', 'pt_time_UTC'. You can override\n",
      "using the `.groups` argument.\n",
      "\u001b[1m\u001b[22m`summarise()` has grouped output by 'node_id', 'pt_time_UTC'. You can override\n",
      "using the `.groups` argument.\n",
      "\u001b[1m\u001b[22m`summarise()` has grouped output by 'node_id', 'pt_time_UTC'. You can override\n",
      "using the `.groups` argument.\n",
      "\u001b[1m\u001b[22m`summarise()` has grouped output by 'node_id', 'pt_time_UTC'. You can override\n",
      "using the `.groups` argument.\n",
      "\u001b[1m\u001b[22m`summarise()` has grouped output by 'node_id', 'pt_time_UTC'. You can override\n",
      "using the `.groups` argument.\n",
      "\u001b[1m\u001b[22m`summarise()` has grouped output by 'node_id', 'pt_time_UTC'. You can override\n",
      "using the `.groups` argument.\n",
      "\u001b[1m\u001b[22m`summarise()` has grouped output by 'node_id', 'pt_time_UTC'. You can override\n",
      "using the `.groups` argument.\n",
      "\u001b[1m\u001b[22m`summarise()` has grouped output by 'node_id', 'pt_time_UTC'. You can override\n",
      "using the `.groups` argument.\n",
      "\u001b[1m\u001b[22m`summarise()` has grouped output by 'node_id', 'pt_time_UTC'. You can override\n",
      "using the `.groups` argument.\n",
      "\u001b[1m\u001b[22m`summarise()` has grouped output by 'node_id'. You can override using the\n",
      "`.groups` argument.\n",
      "\u001b[1m\u001b[22m`summarise()` has grouped output by 'node_id', 'pt_time_UTC'. You can override\n",
      "using the `.groups` argument.\n",
      "\u001b[1m\u001b[22m`summarise()` has grouped output by 'node_id', 'pt_time_UTC'. You can override\n",
      "using the `.groups` argument.\n",
      "\u001b[1m\u001b[22m`summarise()` has grouped output by 'node_id'. You can override using the\n",
      "`.groups` argument.\n",
      "\u001b[1m\u001b[22m`summarise()` has grouped output by 'node_id', 'pt_time_UTC'. You can override\n",
      "using the `.groups` argument.\n",
      "\u001b[1m\u001b[22m`summarise()` has grouped output by 'node_id', 'pt_time_UTC'. You can override\n",
      "using the `.groups` argument.\n",
      "\u001b[1m\u001b[22m`summarise()` has grouped output by 'node_id', 'pt_time_UTC'. You can override\n",
      "using the `.groups` argument.\n",
      "\u001b[1m\u001b[22m`summarise()` has grouped output by 'node_id', 'pt_time_UTC'. You can override\n",
      "using the `.groups` argument.\n",
      "\u001b[1m\u001b[22m`summarise()` has grouped output by 'node_id', 'pt_time_UTC'. You can override\n",
      "using the `.groups` argument.\n",
      "\u001b[1m\u001b[22m`summarise()` has grouped output by 'node_id'. You can override using the\n",
      "`.groups` argument.\n",
      "\u001b[1m\u001b[22m`summarise()` has grouped output by 'node_id', 'pt_time_UTC'. You can override\n",
      "using the `.groups` argument.\n",
      "\u001b[1m\u001b[22m`summarise()` has grouped output by 'node_id', 'pt_time_UTC'. You can override\n",
      "using the `.groups` argument.\n",
      "\u001b[1m\u001b[22m`summarise()` has grouped output by 'node_id'. You can override using the\n",
      "`.groups` argument.\n",
      "\u001b[1m\u001b[22m`summarise()` has grouped output by 'node_id', 'pt_time_UTC'. You can override\n",
      "using the `.groups` argument.\n",
      "\u001b[1m\u001b[22m`summarise()` has grouped output by 'node_id', 'pt_time_UTC'. You can override\n",
      "using the `.groups` argument.\n",
      "\u001b[1m\u001b[22m`summarise()` has grouped output by 'node_id', 'pt_time_UTC'. You can override\n",
      "using the `.groups` argument.\n",
      "\u001b[1m\u001b[22m`summarise()` has grouped output by 'node_id', 'pt_time_UTC'. You can override\n",
      "using the `.groups` argument.\n",
      "\u001b[1m\u001b[22m`summarise()` has grouped output by 'node_id', 'pt_time_UTC'. You can override\n",
      "using the `.groups` argument.\n",
      "\u001b[1m\u001b[22m`summarise()` has grouped output by 'node_id', 'pt_time_UTC'. You can override\n",
      "using the `.groups` argument.\n",
      "\u001b[1m\u001b[22m`summarise()` has grouped output by 'node_id', 'pt_time_UTC'. You can override\n",
      "using the `.groups` argument.\n",
      "\u001b[1m\u001b[22m`summarise()` has grouped output by 'node_id', 'pt_time_UTC'. You can override\n",
      "using the `.groups` argument.\n",
      "\u001b[1m\u001b[22m`summarise()` has grouped output by 'node_id', 'pt_time_UTC'. You can override\n",
      "using the `.groups` argument.\n",
      "\u001b[1m\u001b[22m`summarise()` has grouped output by 'pt_time_UTC'. You can override using the\n",
      "`.groups` argument.\n",
      "\u001b[1m\u001b[22m`summarise()` has grouped output by 'pt_time_UTC'. You can override using the\n",
      "`.groups` argument.\n",
      "\u001b[1m\u001b[22m`summarise()` has grouped output by 'pt_time_UTC'. You can override using the\n",
      "`.groups` argument.\n",
      "\u001b[1m\u001b[22m`summarise()` has grouped output by 'pt_time_UTC'. You can override using the\n",
      "`.groups` argument.\n",
      "\u001b[1m\u001b[22m`summarise()` has grouped output by 'pt_time_UTC'. You can override using the\n",
      "`.groups` argument.\n",
      "\u001b[1m\u001b[22m`summarise()` has grouped output by 'pt_time_UTC'. You can override using the\n",
      "`.groups` argument.\n",
      "\u001b[1m\u001b[22m`summarise()` has grouped output by 'pt_time_UTC'. You can override using the\n",
      "`.groups` argument.\n"
     ]
    }
   ],
   "source": [
    "#calculate slopes and heights from PTs within nodes and reaches----\n",
    "if (process_PTs==1){\n",
    "PT_files=paste0(QA_QC_PT_flyby_output_directory,list.files(QA_QC_PT_flyby_output_directory))\n",
    "\n",
    "# PT_files = as.list(c(\"Flyby PT/reprocessed_2024_01_30/flyby_SWOTCalVal_NS_PT_L1_WSCPT100_20230525T212900_20230613T201946_20230629T194243_SWOTCalVal_NS_KEY_20230525_20230613.csv\",\n",
    "                  # \"Flyby PT/reprocessed_2024_01_30/flyby_SWOTCalVal_NS_PT_L1_WSCPT140_20230525T185200_20230613T175546_20230629T194243_SWOTCalVal_NS_KEY_20230525_20230613.csv\"))\n",
    "# This filters for only rivername PTs #    \n",
    "PT_files = PT_files[grepl(paste0(\"_\", rivername, \"_\"), PT_files)]               \n",
    "SWORD_reach= read.csv(domain_file)\n",
    "this_river_reach_IDs= as.numeric(as.character(unique(SWORD_reach$v17b_reach_id)))\n",
    "this_river_node_IDs= as.numeric(unique(SWORD_reach$v17b_node_id[!is.na(SWORD_reach$v17b_node_id)]))\n",
    " \n",
    "alongstream_error= 0.0001*200 #m error we get from the downstream slope of a reach in a node. This placeholder is a 1e-4 slope over a 200m node\n",
    "crossstream_error= 0.005 #m error we get from PT not representing cross stream superelevation/noise in a node\n",
    "measurement_error= 0.001 #m error we get from PT measurement itself \n",
    "source('/nas/cee-water/cjgleason/calval_toolbox/R code/calculate_slope_wse_fromPT_flybys.R')\n",
    "\n",
    "read_keys=function(keyfile){\n",
    "   key_col_names = c(\"PT_Serial\", \"Label\", \"Baro_Comp\", \"v16_node_id\", \"v16_reach_id\", \"v16_US_Reach_ID\", \n",
    "                      \"v16_DS_Reach_ID\", \"Lat_WGS84\", \"Long_WGS84\", \"Install_method\",\n",
    "                      \"Date_PT_Install\", \"Time_PT_Install_UTC\", \"Date_PT_Uninstall\",\n",
    "                      \"Time_PT_Uninstall_UTC\", \"Date_GNSS_Install\", \"Time_GNSS_Install_Start_UTC\", \n",
    "                      \"Time_GNSS_Install_End_UTC\", \"GNSS_Offset_m\", \"Receiver_Install\", \"Original_Install_Log_File\", \n",
    "                      \"Final_Install_Log_File\", \"Date_GNSS_Uninstall\", \"Time_GNSS_Uninstall_Start_UTC\", \n",
    "                      \"Time_GNSS_Uninstall_End_UTC\", \"Receiver_Uninstall\", \"Original_Uninstall_Log_File\", \"Final_Uninstall_Log_File\",\n",
    "                      \"v17b_node_id\", \"v17b_reach_id\", \"v17b_US_Reach_ID\", \"v17b_DS_Reach_ID\")\n",
    "   this_key= read.csv(keyfile,stringsAsFactors=FALSE, col.names = key_col_names, na.strings = c(\"\",\"NA\",\"na\",\"NaN\", \" \"))%>%\n",
    "    mutate(keyid=keyfile)%>%\n",
    "    mutate(pt_serial=as.integer(PT_Serial))\n",
    "    }\n",
    "    \n",
    "master_key= do.call(rbind,lapply(PT_key_file,read_keys))\n",
    "\n",
    "dummy=calculate_slope_wse_fromPT_flybys(keyfile=master_key,\n",
    "                                 pt_files=PT_files,\n",
    "                                 SWORD_path=SWORD_path,\n",
    "                                 SWORD_reach=SWORD_reach,\n",
    "                                 this_river_reach_ids=this_river_reach_IDs,\n",
    "                                 this_river_node_ids=this_river_node_IDs,\n",
    "                                 rivername=rivername,\n",
    "                                 output_directory= reachnode_output_directory,\n",
    "                                 alongstream_error=alongstream_error,\n",
    "                                 crossstream_error=crossstream_error,\n",
    "                                 measurement_error=measurement_error)\n",
    "     }\n",
    "#-----------------------------\n"
   ]
  },
  {
   "cell_type": "code",
   "execution_count": null,
   "id": "f82be9b8-29e1-4b5d-ab8a-55f5c82dcb89",
   "metadata": {},
   "outputs": [],
   "source": []
  },
  {
   "cell_type": "code",
   "execution_count": 9,
   "id": "05a92fb3-131a-40d6-bd24-e67abd5bf202",
   "metadata": {},
   "outputs": [
    {
     "name": "stderr",
     "output_type": "stream",
     "text": [
      "\u001b[1m\u001b[22m`summarise()` has grouped output by 'node_id'. You can override using the\n",
      "`.groups` argument.\n",
      "\u001b[1m\u001b[22m`summarise()` has grouped output by 'node_id'. You can override using the\n",
      "`.groups` argument.\n",
      "\u001b[1m\u001b[22m`summarise()` has grouped output by 'node_id'. You can override using the\n",
      "`.groups` argument.\n",
      "\u001b[1m\u001b[22m`summarise()` has grouped output by 'node_id'. You can override using the\n",
      "`.groups` argument.\n",
      "\u001b[1m\u001b[22m`summarise()` has grouped output by 'node_id'. You can override using the\n",
      "`.groups` argument.\n",
      "\u001b[1m\u001b[22m`summarise()` has grouped output by 'node_id'. You can override using the\n",
      "`.groups` argument.\n",
      "\u001b[1m\u001b[22m`summarise()` has grouped output by 'node_id'. You can override using the\n",
      "`.groups` argument.\n",
      "\u001b[1m\u001b[22m`summarise()` has grouped output by 'node_id'. You can override using the\n",
      "`.groups` argument.\n",
      "\u001b[1m\u001b[22m`summarise()` has grouped output by 'node_id'. You can override using the\n",
      "`.groups` argument.\n",
      "\u001b[1m\u001b[22m`summarise()` has grouped output by 'node_id'. You can override using the\n",
      "`.groups` argument.\n",
      "\u001b[1m\u001b[22m`summarise()` has grouped output by 'node_id'. You can override using the\n",
      "`.groups` argument.\n",
      "\u001b[1m\u001b[22m`summarise()` has grouped output by 'node_id'. You can override using the\n",
      "`.groups` argument.\n",
      "\u001b[1m\u001b[22m`summarise()` has grouped output by 'node_id'. You can override using the\n",
      "`.groups` argument.\n",
      "\u001b[1m\u001b[22m`summarise()` has grouped output by 'node_id'. You can override using the\n",
      "`.groups` argument.\n",
      "\u001b[1m\u001b[22m`summarise()` has grouped output by 'node_id'. You can override using the\n",
      "`.groups` argument.\n",
      "\u001b[1m\u001b[22m`summarise()` has grouped output by 'node_id'. You can override using the\n",
      "`.groups` argument.\n",
      "\u001b[1m\u001b[22m`summarise()` has grouped output by 'node_id'. You can override using the\n",
      "`.groups` argument.\n",
      "\u001b[1m\u001b[22m`summarise()` has grouped output by 'node_id'. You can override using the\n",
      "`.groups` argument.\n",
      "\u001b[1m\u001b[22m`summarise()` has grouped output by 'node_id'. You can override using the\n",
      "`.groups` argument.\n",
      "\u001b[1m\u001b[22m`summarise()` has grouped output by 'node_id'. You can override using the\n",
      "`.groups` argument.\n",
      "\u001b[1m\u001b[22m`summarise()` has grouped output by 'node_id'. You can override using the\n",
      "`.groups` argument.\n",
      "\u001b[1m\u001b[22m`summarise()` has grouped output by 'node_id'. You can override using the\n",
      "`.groups` argument.\n",
      "\u001b[1m\u001b[22m`summarise()` has grouped output by 'node_id'. You can override using the\n",
      "`.groups` argument.\n",
      "\u001b[1m\u001b[22m`summarise()` has grouped output by 'node_id'. You can override using the\n",
      "`.groups` argument.\n",
      "\u001b[1m\u001b[22m`summarise()` has grouped output by 'node_id'. You can override using the\n",
      "`.groups` argument.\n",
      "\u001b[1m\u001b[22m`summarise()` has grouped output by 'node_id'. You can override using the\n",
      "`.groups` argument.\n",
      "\u001b[1m\u001b[22m`summarise()` has grouped output by 'node_id'. You can override using the\n",
      "`.groups` argument.\n",
      "\u001b[1m\u001b[22m`summarise()` has grouped output by 'node_id'. You can override using the\n",
      "`.groups` argument.\n",
      "\u001b[1m\u001b[22m`summarise()` has grouped output by 'node_id'. You can override using the\n",
      "`.groups` argument.\n",
      "\u001b[1m\u001b[22m`summarise()` has grouped output by 'node_id'. You can override using the\n",
      "`.groups` argument.\n",
      "\u001b[1m\u001b[22m`summarise()` has grouped output by 'node_id'. You can override using the\n",
      "`.groups` argument.\n",
      "\u001b[1m\u001b[22m`summarise()` has grouped output by 'node_id'. You can override using the\n",
      "`.groups` argument.\n",
      "\u001b[1m\u001b[22m`summarise()` has grouped output by 'node_id'. You can override using the\n",
      "`.groups` argument.\n",
      "\u001b[1m\u001b[22m`summarise()` has grouped output by 'node_id'. You can override using the\n",
      "`.groups` argument.\n",
      "\u001b[1m\u001b[22m`summarise()` has grouped output by 'node_id'. You can override using the\n",
      "`.groups` argument.\n",
      "\u001b[1m\u001b[22m`summarise()` has grouped output by 'node_id'. You can override using the\n",
      "`.groups` argument.\n",
      "\u001b[1m\u001b[22m`summarise()` has grouped output by 'node_id'. You can override using the\n",
      "`.groups` argument.\n",
      "\u001b[1m\u001b[22m`summarise()` has grouped output by 'node_id'. You can override using the\n",
      "`.groups` argument.\n",
      "\u001b[1m\u001b[22m`summarise()` has grouped output by 'node_id'. You can override using the\n",
      "`.groups` argument.\n",
      "\u001b[1m\u001b[22m`summarise()` has grouped output by 'node_id'. You can override using the\n",
      "`.groups` argument.\n",
      "\u001b[1m\u001b[22m`summarise()` has grouped output by 'node_id'. You can override using the\n",
      "`.groups` argument.\n",
      "\u001b[1m\u001b[22m`summarise()` has grouped output by 'node_id'. You can override using the\n",
      "`.groups` argument.\n",
      "\u001b[1m\u001b[22m`summarise()` has grouped output by 'node_id'. You can override using the\n",
      "`.groups` argument.\n",
      "\u001b[1m\u001b[22m`summarise()` has grouped output by 'node_id'. You can override using the\n",
      "`.groups` argument.\n",
      "\u001b[1m\u001b[22m`summarise()` has grouped output by 'node_id'. You can override using the\n",
      "`.groups` argument.\n",
      "\u001b[1m\u001b[22m`summarise()` has grouped output by 'node_id'. You can override using the\n",
      "`.groups` argument.\n",
      "\u001b[1m\u001b[22m`summarise()` has grouped output by 'node_id'. You can override using the\n",
      "`.groups` argument.\n",
      "\u001b[1m\u001b[22m`summarise()` has grouped output by 'node_id'. You can override using the\n",
      "`.groups` argument.\n",
      "\u001b[1m\u001b[22m`summarise()` has grouped output by 'node_id'. You can override using the\n",
      "`.groups` argument.\n",
      "\u001b[1m\u001b[22m`summarise()` has grouped output by 'node_id'. You can override using the\n",
      "`.groups` argument.\n",
      "\u001b[1m\u001b[22m`summarise()` has grouped output by 'node_id'. You can override using the\n",
      "`.groups` argument.\n",
      "\u001b[1m\u001b[22m`summarise()` has grouped output by 'node_id'. You can override using the\n",
      "`.groups` argument.\n",
      "\u001b[1m\u001b[22m`summarise()` has grouped output by 'node_id'. You can override using the\n",
      "`.groups` argument.\n",
      "\u001b[1m\u001b[22m`summarise()` has grouped output by 'node_id'. You can override using the\n",
      "`.groups` argument.\n",
      "\u001b[1m\u001b[22m`summarise()` has grouped output by 'node_id'. You can override using the\n",
      "`.groups` argument.\n",
      "\u001b[1m\u001b[22m`summarise()` has grouped output by 'node_id'. You can override using the\n",
      "`.groups` argument.\n",
      "\u001b[1m\u001b[22m`summarise()` has grouped output by 'node_id'. You can override using the\n",
      "`.groups` argument.\n",
      "\u001b[1m\u001b[22m`summarise()` has grouped output by 'node_id'. You can override using the\n",
      "`.groups` argument.\n",
      "\u001b[1m\u001b[22m`summarise()` has grouped output by 'node_id'. You can override using the\n",
      "`.groups` argument.\n",
      "\u001b[1m\u001b[22m`summarise()` has grouped output by 'node_id'. You can override using the\n",
      "`.groups` argument.\n",
      "\u001b[1m\u001b[22m`summarise()` has grouped output by 'node_id'. You can override using the\n",
      "`.groups` argument.\n",
      "\u001b[1m\u001b[22m`summarise()` has grouped output by 'node_id'. You can override using the\n",
      "`.groups` argument.\n",
      "\u001b[1m\u001b[22m`summarise()` has grouped output by 'node_id'. You can override using the\n",
      "`.groups` argument.\n",
      "\u001b[1m\u001b[22m`summarise()` has grouped output by 'node_id'. You can override using the\n",
      "`.groups` argument.\n",
      "\u001b[1m\u001b[22m`summarise()` has grouped output by 'node_id'. You can override using the\n",
      "`.groups` argument.\n",
      "\u001b[1m\u001b[22m`summarise()` has grouped output by 'node_id'. You can override using the\n",
      "`.groups` argument.\n",
      "\u001b[1m\u001b[22m`summarise()` has grouped output by 'node_id'. You can override using the\n",
      "`.groups` argument.\n",
      "\u001b[1m\u001b[22m`summarise()` has grouped output by 'node_id'. You can override using the\n",
      "`.groups` argument.\n",
      "\u001b[1m\u001b[22m`summarise()` has grouped output by 'node_id'. You can override using the\n",
      "`.groups` argument.\n",
      "\u001b[1m\u001b[22m`summarise()` has grouped output by 'node_id'. You can override using the\n",
      "`.groups` argument.\n",
      "\u001b[1m\u001b[22m`summarise()` has grouped output by 'node_id'. You can override using the\n",
      "`.groups` argument.\n",
      "\u001b[1m\u001b[22m`summarise()` has grouped output by 'node_id'. You can override using the\n",
      "`.groups` argument.\n",
      "\u001b[1m\u001b[22m`summarise()` has grouped output by 'node_id'. You can override using the\n",
      "`.groups` argument.\n",
      "\u001b[1m\u001b[22m`summarise()` has grouped output by 'node_id'. You can override using the\n",
      "`.groups` argument.\n",
      "\u001b[1m\u001b[22m`summarise()` has grouped output by 'node_id'. You can override using the\n",
      "`.groups` argument.\n",
      "\u001b[1m\u001b[22m`summarise()` has grouped output by 'node_id'. You can override using the\n",
      "`.groups` argument.\n",
      "\u001b[1m\u001b[22m`summarise()` has grouped output by 'node_id'. You can override using the\n",
      "`.groups` argument.\n",
      "\u001b[1m\u001b[22m`summarise()` has grouped output by 'node_id'. You can override using the\n",
      "`.groups` argument.\n",
      "\u001b[1m\u001b[22m`summarise()` has grouped output by 'node_id'. You can override using the\n",
      "`.groups` argument.\n",
      "\u001b[1m\u001b[22m`summarise()` has grouped output by 'node_id'. You can override using the\n",
      "`.groups` argument.\n",
      "\u001b[1m\u001b[22m`summarise()` has grouped output by 'node_id'. You can override using the\n",
      "`.groups` argument.\n",
      "\u001b[1m\u001b[22m`summarise()` has grouped output by 'node_id'. You can override using the\n",
      "`.groups` argument.\n",
      "\u001b[1m\u001b[22m`summarise()` has grouped output by 'node_id'. You can override using the\n",
      "`.groups` argument.\n",
      "\u001b[1m\u001b[22m`summarise()` has grouped output by 'node_id'. You can override using the\n",
      "`.groups` argument.\n",
      "\u001b[1m\u001b[22m`summarise()` has grouped output by 'node_id'. You can override using the\n",
      "`.groups` argument.\n",
      "\u001b[1m\u001b[22m`summarise()` has grouped output by 'node_id'. You can override using the\n",
      "`.groups` argument.\n",
      "\u001b[1m\u001b[22m`summarise()` has grouped output by 'node_id'. You can override using the\n",
      "`.groups` argument.\n",
      "\u001b[1m\u001b[22m`summarise()` has grouped output by 'node_id'. You can override using the\n",
      "`.groups` argument.\n",
      "\u001b[1m\u001b[22m`summarise()` has grouped output by 'node_id'. You can override using the\n",
      "`.groups` argument.\n",
      "\u001b[1m\u001b[22m`summarise()` has grouped output by 'node_id'. You can override using the\n",
      "`.groups` argument.\n",
      "\u001b[1m\u001b[22m`summarise()` has grouped output by 'node_id'. You can override using the\n",
      "`.groups` argument.\n",
      "\u001b[1m\u001b[22m`summarise()` has grouped output by 'node_id'. You can override using the\n",
      "`.groups` argument.\n",
      "\u001b[1m\u001b[22m`summarise()` has grouped output by 'node_id'. You can override using the\n",
      "`.groups` argument.\n",
      "\u001b[1m\u001b[22m`summarise()` has grouped output by 'node_id'. You can override using the\n",
      "`.groups` argument.\n",
      "\u001b[1m\u001b[22m`summarise()` has grouped output by 'node_id'. You can override using the\n",
      "`.groups` argument.\n",
      "\u001b[1m\u001b[22m`summarise()` has grouped output by 'node_id'. You can override using the\n",
      "`.groups` argument.\n",
      "\u001b[1m\u001b[22m`summarise()` has grouped output by 'node_id'. You can override using the\n",
      "`.groups` argument.\n",
      "\u001b[1m\u001b[22m`summarise()` has grouped output by 'node_id'. You can override using the\n",
      "`.groups` argument.\n",
      "\u001b[1m\u001b[22m`summarise()` has grouped output by 'node_id'. You can override using the\n",
      "`.groups` argument.\n",
      "\u001b[1m\u001b[22m`summarise()` has grouped output by 'node_id'. You can override using the\n",
      "`.groups` argument.\n",
      "\u001b[1m\u001b[22m`summarise()` has grouped output by 'node_id'. You can override using the\n",
      "`.groups` argument.\n",
      "\u001b[1m\u001b[22m`summarise()` has grouped output by 'node_id'. You can override using the\n",
      "`.groups` argument.\n"
     ]
    }
   ],
   "source": [
    "#define what drift goes with what SWOT overpass--------------------\n",
    "#SWOT_L2_HR_RiverSP_<FileIdentifier>_<CycleID>_<PassID>_<ContinentID>_<RangeBeginningDateTime>_<RangeEndingDateTime>_<CRID>_<ProductCounter>.<extension> \n",
    "\n",
    "if (process_PTs ==1){\n",
    "passfile=paste0('/nas/cee-water/cjgleason/calval/Processed data/riversp_list_clean_',rivername,'_20240423.txt')\n",
    "\n",
    " \n",
    "passnames=read.delim(passfile,header=F)$V1\n",
    " \n",
    "  \n",
    "time_threshold_sec= 120*60 #two hour\n",
    "wse_threshold_m=0.05 #within 5cm\n",
    "distance_threshold_m =200 #within 200m\n",
    "\n",
    "if (!dir.exists(paste0('Matched_drifts/','processed_',str_replace_all(as.character(Sys.Date()),'\\\\-','_')))){\n",
    "    dir.create(paste0('Matched_drifts/','processed_',str_replace_all(as.character(Sys.Date()),'\\\\-','_')))}\n",
    "\n",
    "\n",
    "matched_output_directory= paste0('Matched_drifts/','processed_',str_replace_all(as.character(Sys.Date()),'\\\\-','_'),'/')\n",
    "munged_drift_directory= QA_QC_drift_output_directory\n",
    "flyby_pt_directory=paste0(working_dir,QA_QC_PT_flyby_output_directory)\n",
    "\n",
    "source('/nas/cee-water/cjgleason/calval_toolbox/R code/select_appropriate_drift.R')\n",
    "\n",
    "read_keys=function(keyfile){\n",
    "   this_key= read.csv(keyfile,stringsAsFactors=FALSE, na.strings = c(\"\",\"NA\",\"na\",\"NaN\", \" \"))%>%\n",
    "    mutate(keyid=keyfile)%>%\n",
    "    mutate(pt_serial=as.integer(PT_Serial))\n",
    "    }\n",
    "    \n",
    "master_key= do.call(rbind,lapply(PT_key_file,read_keys))\n",
    "  \n",
    "for (i in 1:length(passnames)){\n",
    "  #  print(passnames[i])\n",
    "   select_appropriate_drift(passnames[i],\n",
    "                               drift_node_directory= paste0(reachnode_output_directory,'/node/'),\n",
    "                               munged_drift_directory=munged_drift_directory,\n",
    "                               matched_output_directory=matched_output_directory,\n",
    "                               flyby_pt_directory=flyby_pt_directory,\n",
    "                               time_threshold_sec=time_threshold_sec,\n",
    "                               wse_threshold_m= wse_threshold_m,\n",
    "                               distance_threshold_m=distance_threshold_m,\n",
    "                               keyfile=master_key,\n",
    "                               rivername=rivername)\n",
    "    \n",
    "    }\n",
    "\n",
    "  #too memory intensive to parallize. Need to properly paralellize via rslurm to send across the cluster \n",
    "    #rahter than a single node like this\n",
    "#    cl=makeCluster(2,  type = \"FORK\")\n",
    "# dummy=parLapply(cl, passnames,select_appropriate_drift,\n",
    "#                                drift_node_directory= paste0(reachnode_output_directory,'/node/'),\n",
    "#                                munged_drift_directory=munged_drift_directory,\n",
    "#                                matched_output_directory=matched_output_directory,\n",
    "#                                munged_pt_directory=munged_pt_directory,\n",
    "#                                time_threshold_sec=time_threshold_sec,\n",
    "#                                wse_threshold_m= wse_threshold_m,\n",
    "#                                distance_threshold_m=distance_threshold_m,\n",
    "#                                keyfile=master_key,\n",
    "#                                rivername=rivername)\n",
    "\n",
    "#  stopCluster(cl)\n",
    "    \n",
    "    }\n",
    "    \n",
    "#-----------------------------"
   ]
  },
  {
   "cell_type": "code",
   "execution_count": null,
   "id": "5da31875-5c5e-4b6b-be69-6db2b8d64e07",
   "metadata": {},
   "outputs": [],
   "source": []
  },
  {
   "cell_type": "code",
   "execution_count": null,
   "id": "f3eb20f1-31e4-4833-a242-1186c230b002",
   "metadata": {},
   "outputs": [],
   "source": []
  },
  {
   "cell_type": "code",
   "execution_count": null,
   "id": "896a069b-801e-4e7c-b8da-5a590d4ed412",
   "metadata": {},
   "outputs": [],
   "source": []
  },
  {
   "cell_type": "code",
   "execution_count": null,
   "id": "ca7b8702-d91f-4bab-8cdd-be91f4cda29a",
   "metadata": {},
   "outputs": [],
   "source": []
  },
  {
   "cell_type": "code",
   "execution_count": null,
   "id": "8f278375-3bad-4858-bf1d-8b41a845ae90",
   "metadata": {},
   "outputs": [],
   "source": []
  },
  {
   "cell_type": "code",
   "execution_count": null,
   "id": "46d03ea6-ae1c-4b87-9edb-6145f7e8ad32",
   "metadata": {},
   "outputs": [],
   "source": []
  },
  {
   "cell_type": "code",
   "execution_count": null,
   "id": "175cac3f-ba74-48db-b449-371f2d111389",
   "metadata": {},
   "outputs": [],
   "source": []
  },
  {
   "cell_type": "code",
   "execution_count": null,
   "id": "256feb49-26cc-481a-ac35-6dd13aa2298d",
   "metadata": {},
   "outputs": [],
   "source": []
  },
  {
   "cell_type": "code",
   "execution_count": null,
   "id": "0c671dc6-4d89-4d29-9ae7-3d484d44ce84",
   "metadata": {},
   "outputs": [],
   "source": []
  },
  {
   "cell_type": "code",
   "execution_count": null,
   "id": "c0935664-2257-4cc3-8303-326febd301df",
   "metadata": {},
   "outputs": [],
   "source": []
  },
  {
   "cell_type": "code",
   "execution_count": null,
   "id": "7fc929cf-e6bd-4bb8-a568-31e3e22b2069",
   "metadata": {},
   "outputs": [],
   "source": []
  },
  {
   "cell_type": "code",
   "execution_count": null,
   "id": "b58c3568-be04-4c37-bb84-4aa07b76c14d",
   "metadata": {},
   "outputs": [],
   "source": []
  },
  {
   "cell_type": "code",
   "execution_count": null,
   "id": "b61e3c98-a189-42df-82e9-e732107b6b98",
   "metadata": {},
   "outputs": [],
   "source": []
  },
  {
   "cell_type": "code",
   "execution_count": null,
   "id": "6a569c96-0b3a-4492-8998-30e48d519b29",
   "metadata": {},
   "outputs": [],
   "source": []
  },
  {
   "cell_type": "code",
   "execution_count": null,
   "id": "295dccc2-7d04-4f46-831f-8c8fc1dceeec",
   "metadata": {},
   "outputs": [],
   "source": []
  },
  {
   "cell_type": "code",
   "execution_count": null,
   "id": "a57866c3-98a0-4c72-8b0f-db48b26eca34",
   "metadata": {},
   "outputs": [],
   "source": []
  },
  {
   "cell_type": "code",
   "execution_count": null,
   "id": "f5155e21-63ea-4924-8a93-46b0a4a0d014",
   "metadata": {},
   "outputs": [],
   "source": [
    "#calcluate areas from images------------------\n",
    "if (process_airborne ==1){\n",
    "\n",
    "a=Sys.time()\n",
    "\n",
    "library(parallel)\n",
    "library(raster)\n",
    "source('/nas/cee-water/cjgleason/calval_toolbox/R code/calculate_area_from_imagery.R')\n",
    "\n",
    "scale_maxwidth = 3\n",
    "#path of input image \n",
    "#image = '/nas/cee-water/cjgleason/calval/Processed data/Imagery/Input/BinaryMap.tif'\n",
    "\n",
    "    #make this use a rivername code\n",
    "imagelist=as.list(list.files(image_directory,full.names=TRUE))\n",
    "    \n",
    " #  print(imagelist)\n",
    "    \n",
    "#make this point to a hub\n",
    "dir_output =paste0('/nas/cee-water/cjgleason/calval/Processed data/',hubname,'/Area/')\n",
    "\n",
    "    image_reaches= unique(read.csv(domain_file)$Reach_ID)\n",
    "    image_nodes=unique(read.csv(domain_file)$Node_ID)\n",
    "    \n",
    "\n",
    "calculate_area_from_imagery(image=imagelist[[1]],\n",
    "                 this_river_reach_ids=image_reaches,\n",
    "                 this_river_node_ids=image_nodes,\n",
    "                 rivercode=rivername,\n",
    "                 utm_zone=utm_zone,\n",
    "                 scale_maxwidth=scale_maxwidth, \n",
    "                 SWORD_path=SWORD_path)\n",
    "\n",
    "# cl=makeCluster(47, type ='FORK')\n",
    "\n",
    "# dummy=parLapply(cl,  imagelist,calculate_area_from_imagery,\n",
    "#                       this_river_reach_ids=image_reaches,\n",
    "#                  this_river_node_ids=image_nodes,\n",
    "#                  rivercode=rivername,\n",
    "#                  utm_zone=utm_zone,\n",
    "#                  scale_maxwidth=scale_maxwidth, \n",
    "#                  SWORD_path=SWORD_path)\n",
    "\n",
    "# stopCluster(cl)\n",
    "    \n",
    " print(Sys.time()-a)#calcluate areas from images----\n",
    "\n",
    " }\n"
   ]
  }
 ],
 "metadata": {
  "kernelspec": {
   "display_name": "R [conda env:.conda-TaylorsToolboxes]",
   "language": "R",
   "name": "conda-env-.conda-TaylorsToolboxes-r"
  },
  "language_info": {
   "codemirror_mode": "r",
   "file_extension": ".r",
   "mimetype": "text/x-r-source",
   "name": "R",
   "pygments_lexer": "r",
   "version": "4.2.3"
  }
 },
 "nbformat": 4,
 "nbformat_minor": 5
}
