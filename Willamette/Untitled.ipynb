{
 "cells": [
  {
   "cell_type": "code",
   "execution_count": 4,
   "id": "8ab4229c-753b-4c31-9aa0-ad17b481c125",
   "metadata": {},
   "outputs": [],
   "source": [
    "wd = setwd(\"/nas/cee-water/cjgleason/calval_toolbox/Willamette/\")\n",
    "\n",
    "#create GNSS dataframes for WM data\n",
    "\n",
    "\n",
    "\n",
    "#correct PT with GNSS data\n"
   ]
  }
 ],
 "metadata": {
  "kernelspec": {
   "display_name": "R [conda env:jupyterlab] *",
   "language": "R",
   "name": "conda-env-jupyterlab-r"
  },
  "language_info": {
   "codemirror_mode": "r",
   "file_extension": ".r",
   "mimetype": "text/x-r-source",
   "name": "R",
   "pygments_lexer": "r",
   "version": "4.1.3"
  }
 },
 "nbformat": 4,
 "nbformat_minor": 5
}
