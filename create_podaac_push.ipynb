{
 "cells": [
  {
   "cell_type": "code",
   "execution_count": 27,
   "id": "4adf9eeb-5b6e-48aa-88ff-cedc03e6cf79",
   "metadata": {},
   "outputs": [],
   "source": [
    "after_date_gnss= as.POSIXct('20230712',format='%Y%m%d')\n",
    "after_date_PT= as.POSIXct('20230301',format='%Y%m%d')\n",
    "after_date_BL= as.POSIXct('20230301',format='%Y%m%d')\n",
    "getit=function(inputstring){\n",
    "    output=strsplit(inputstring[9],'__')[[1]][2]\n",
    "  \n",
    "    output=as.POSIXct(output,format='%Y%m%d')\n",
    "\n",
    "\n",
    "}\n",
    "\n",
    "#this function batches the podaac push."
   ]
  },
  {
   "cell_type": "code",
   "execution_count": 7,
   "id": "f89b7e8b-f82d-470c-ba56-72e4675d36bc",
   "metadata": {},
   "outputs": [],
   "source": [
    "#need to find all the right files, save to a .txt and then write a .sh\n",
    "library(stringr)\n",
    "root_dir='/nas/cee-water/cjgleason/calval/xml_scripts/'\n",
    "\n",
    "brown_files=list.files(paste0(root_dir,'Brown/Munged'),recursive=TRUE,full.names=TRUE)\n",
    "cu_files=list.files(paste0(root_dir,'CU/Munged'),recursive=TRUE,full.names=TRUE)\n",
    "umass_files=list.files(paste0(root_dir,'UMass/Munged'),recursive=TRUE,full.names=TRUE)\n",
    "unc_files=list.files(paste0(root_dir,'UNC/Munged'),recursive=TRUE,full.names=TRUE)\n",
    "\n",
    "all_files=c(brown_files,cu_files,umass_files,unc_files)"
   ]
  },
  {
   "cell_type": "code",
   "execution_count": 18,
   "id": "a66819fd-83cd-4217-883d-3f507ea3c786",
   "metadata": {},
   "outputs": [
    {
     "ename": "ERROR",
     "evalue": "Error in as.Date.numeric(munge_date): 'origin' must be supplied\n",
     "output_type": "error",
     "traceback": [
      "Error in as.Date.numeric(munge_date): 'origin' must be supplied\nTraceback:\n",
      "1. print(as.Date(munge_date))",
      "2. as.Date(munge_date)",
      "3. as.Date.numeric(munge_date)",
      "4. stop(\"'origin' must be supplied\")"
     ]
    }
   ],
   "source": [
    "#PT\n",
    "all_files_pt=all_files\n",
    "splitter=strsplit(all_files_pt,'/')\n",
    "munge_date=do.call(rbind,lapply(splitter,getit))\n",
    "\n",
    "\n",
    "all_files_pt=all_files_pt[!is.na(all_files_pt[munge_date>after_date_PT])]\n",
    "\n",
    "pt_files_all_levels=all_files[grep('PT',all_files)]\n",
    "pt_files_L0 = pt_files_all_levels[grep('L0',pt_files_all_levels)]\n",
    "write.table(pt_files_L0, '/nas/cee-water/cjgleason/calval/podaacPT0.txt', append = FALSE, sep = \" \", dec = \".\",\n",
    "            row.names = FALSE, col.names = FALSE, quote=FALSE)"
   ]
  },
  {
   "cell_type": "code",
   "execution_count": 10,
   "id": "573c4c6b-c024-419e-9fc9-58a784485afa",
   "metadata": {},
   "outputs": [],
   "source": [
    "#BL\n",
    "all_files_bl=all_files\n",
    "splitter=strsplit(all_files_bl,'/')\n",
    "munge_date=do.call(rbind,lapply(splitter,getit))\n",
    "all_files_bl=all_files_bl[!is.na(all_files_bl[munge_date>after_date_BL])]\n",
    "\n",
    "bl_files_all_levels=all_files[grep('BL',all_files)]\n",
    "bl_files_L0 = bl_files_all_levels[grep('L0',bl_files_all_levels)]\n",
    "write.table(bl_files_L0, '/nas/cee-water/cjgleason/calval/podaacBL0.txt', append = FALSE, sep = \" \", dec = \".\",\n",
    "            row.names = FALSE, col.names = FALSE, quote=FALSE)"
   ]
  },
  {
   "cell_type": "code",
   "execution_count": 71,
   "id": "8bc8d1c5-6efa-4af0-9fd4-80519c13a37e",
   "metadata": {},
   "outputs": [],
   "source": [
    "#GNSS\n",
    "all_files_gnss=all_files\n",
    "splitter=strsplit(all_files_gnss,'/')\n",
    "munge_date=t(unname(data.frame(lapply(splitter,getit))[1,]))\n",
    "\n",
    "all_files_after_date=(all_files_gnss[munge_date>after_date_gnss])\n",
    "all_files_no_na=all_files_after_date[!is.na(all_files_after_date)]\n",
    "\n",
    "gnss_files_all_levels=all_files_no_na[grep('GNSS',all_files_no_na)]\n",
    "gnss_files_L0 = gnss_files_all_levels[grep('L0',gnss_files_all_levels)]\n",
    "gnss_files_L0 =gnss_files_L0[grep('sbf|\\\\.xml',gnss_files_L0)]\n",
    "write.table(gnss_files_L0, '/nas/cee-water/cjgleason/calval/podaacGNSS0.txt', append = FALSE, sep = \" \", dec = \".\",\n",
    "            row.names = FALSE, col.names = FALSE, quote=FALSE)"
   ]
  },
  {
   "cell_type": "code",
   "execution_count": null,
   "id": "ad9ce89e-63e8-442f-9529-c7298024d271",
   "metadata": {},
   "outputs": [],
   "source": [
    "#add within the first \" to write the BL and PT to podaac\n",
    "\n",
    "# cat /nas/cee-water/cjgleason/calval/podaacBL0.txt | while read LINE;\n",
    "#             do awsv2 --profile SRV-podaac-dev-swot s3 cp ${LINE} s3://podaac-dev-swot-calval/SWOTCalVal_PT_L0_1.0/ --dryrun; \n",
    "#             done;\n",
    "#             cat /nas/cee-water/cjgleason/calval/podaacPT0.txt | while read LINE;\n",
    "#             do awsv2 --profile SRV-podaac-dev-swot s3 cp ${LINE} s3://podaac-dev-swot-calval/SWOTCalVal_BL_L0_1.0/ --dryrun; \n",
    "#             done;"
   ]
  },
  {
   "cell_type": "code",
   "execution_count": 70,
   "id": "9788bcd0-16b6-4dff-b9b7-d93ec329c277",
   "metadata": {},
   "outputs": [],
   "source": [
    "#now write a .sh to batch it all\n",
    "writeLines(c(\"#!/bin/bash\",\n",
    "           \"cat /nas/cee-water/cjgleason/calval/podaacGNSS0.txt | while read LINE;\n",
    "            do awsv2 --profile SRV-podaac-dev-swot s3 cp ${LINE} s3://podaac-dev-swot-calval/SWOTCalVal_GNSS_L0_1.0/; \n",
    "            done\"\n",
    "\n",
    "\n",
    "            ), \"/nas/cee-water/cjgleason/calval/submit_podaac.sh\")\n",
    "\n",
    "\n",
    "\n"
   ]
  },
  {
   "cell_type": "code",
   "execution_count": null,
   "id": "9acc7912-7769-41fb-8fd4-7d2401e8e576",
   "metadata": {},
   "outputs": [],
   "source": []
  },
  {
   "cell_type": "code",
   "execution_count": null,
   "id": "6475cb88-984f-4a97-b6e5-c6b36b444cc3",
   "metadata": {},
   "outputs": [],
   "source": [
    "# PRE SWOTCalVal_ADCP_L0_1.0/\n",
    "#                            PRE SWOTCalVal_ADCP_L2_1.0/\n",
    "#                            PRE SWOTCalVal_AERIALPHOTO_L2_1.0/\n",
    "#                            PRE SWOTCalVal_AERIALWM_L2_1.0/\n",
    "#                            PRE SWOTCalVal_BAROMETER_L2_1.0/\n",
    "#                            PRE SWOTCalVal_BL_L0_1.0/\n",
    "#                            PRE SWOTCalVal_CTD_L2_1.0/\n",
    "#                            PRE SWOTCalVal_GLIDER_L0_1.0/\n",
    "#                            PRE SWOTCalVal_GLIDER_L1_1.0/\n",
    "#                            PRE SWOTCalVal_GLIDER_L2_1.0/\n",
    "#                            PRE SWOTCalVal_GNSS_L0_1.0/\n",
    "#                            PRE SWOTCalVal_GNSS_L1_1.0/\n",
    "#                            PRE SWOTCalVal_GNSS_L2_1.0/\n",
    "#                            PRE SWOTCalVal_IMU_1.0/\n",
    "#                            PRE SWOTCalVal_IMU_L2_1.0/\n",
    "#                            PRE SWOTCalVal_L2_HR_LakeSP_1.0/\n",
    "#                            PRE SWOTCalVal_L2_HR_PIXC_1.0/\n",
    "#                            PRE SWOTCalVal_L2_HR_Raster_1.0/\n",
    "#                            PRE SWOTCalVal_L2_HR_RiverSP_1.0/\n",
    "#                            PRE SWOTCalVal_L2_LR_SSH_1.0/\n",
    "#                            PRE SWOTCalVal_LIDARBEEM_L2_1.0/\n",
    "#                            PRE SWOTCalVal_LIDARFSEM_L2_1.0/\n",
    "#                            PRE SWOTCalVal_LIDARPC_L2_1.0/\n",
    "#                            PRE SWOTCalVal_LIDARPROFILE0250_L2_1.0/\n",
    "#                            PRE SWOTCalVal_LIDARPROFILE2000_L2_1.0/\n",
    "#                            PRE SWOTCalVal_LIDARPROFILE2500_L2_1.0/\n",
    "#                            PRE SWOTCalVal_LIDARPROFILE_L2_1.0/\n",
    "#                            PRE SWOTCalVal_LIDARWSEM_L2_1.0/\n",
    "#                            PRE SWOTCalVal_MASSLWIR_L2_1.0/\n",
    "#                            PRE SWOTCalVal_MASSVIS_L2_1.0/\n",
    "#                            PRE SWOTCalVal_MASSVNIR_L2_1.0/\n",
    "#                            PRE SWOTCalVal_PRAWLER_L2_1.0/\n",
    "#                            PRE SWOTCalVal_PT_L0_1.0/\n",
    "#                            PRE SWOTCalVal_PT_L2_1.0/\n",
    "#                            PRE SWOTCalVal_RADSST_L2_1.0/\n",
    "#                            PRE SWOTCalVal_SL_L0_1.0/\n",
    "#                            PRE SWOTCalVal_WATERLEVEL_L2_1.0/\n",
    "#                            PRE SWOTCalVal_WAVESPECTRA_L2_1.0/\n",
    "#                            PRE SWOTCalVal_WIRE_L2_1.0/\n"
   ]
  }
 ],
 "metadata": {
  "kernelspec": {
   "display_name": "R [conda env:.conda-supposedlybetter]",
   "language": "R",
   "name": "conda-env-.conda-supposedlybetter-r"
  },
  "language_info": {
   "codemirror_mode": "r",
   "file_extension": ".r",
   "mimetype": "text/x-r-source",
   "name": "R",
   "pygments_lexer": "r",
   "version": "4.2.3"
  }
 },
 "nbformat": 4,
 "nbformat_minor": 5
}
